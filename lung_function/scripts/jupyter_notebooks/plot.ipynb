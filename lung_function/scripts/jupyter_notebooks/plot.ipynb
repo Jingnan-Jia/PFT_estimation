{
 "cells": [
  {
   "cell_type": "code",
   "execution_count": 1,
   "metadata": {},
   "outputs": [
    {
     "name": "stderr",
     "output_type": "stream",
     "text": [
      "/home/jjia/.local/lib/python3.8/site-packages/outdated/utils.py:14: OutdatedPackageWarning: The package pingouin is out of date. Your version is 0.5.2, the latest is 0.5.3.\n",
      "Set the environment variable OUTDATED_IGNORE=1 to disable these warnings.\n",
      "  return warn(\n",
      "/home/jjia/.local/lib/python3.8/site-packages/outdated/utils.py:14: OutdatedPackageWarning: The package outdated is out of date. Your version is 0.2.1, the latest is 0.2.2.\n",
      "Set the environment variable OUTDATED_IGNORE=1 to disable these warnings.\n",
      "  return warn(\n"
     ]
    }
   ],
   "source": [
    "from lung_function.modules.compute_metrics import icc, metrics\n",
    "import pandas as pd"
   ]
  },
  {
   "cell_type": "code",
   "execution_count": 2,
   "metadata": {},
   "outputs": [],
   "source": [
    "ex_idr = \"/home/jjia/data/lung_function/lung_function/scripts/results/experiments/2667\"\n",
    "pred_fpath = f\"{ex_idr}/valid_pred.csv\"\n",
    "label_fpath =  f\"{ex_idr}/valid_label.csv\""
   ]
  },
  {
   "cell_type": "code",
   "execution_count": 6,
   "metadata": {},
   "outputs": [
    {
     "name": "stdout",
     "output_type": "stream",
     "text": [
      "len_df_label 253\n",
      "FVC\n",
      "DLCO_SB linear regression m, b: 0.32177201814844225 3.6704147507683063\n",
      "DLCO_SB linear regression m, b, r^2: 0.32177201814844236 3.6704147507683054 0.2707602791723919\n",
      "ave_mae for DLCO_SB is 1.300395256916996\n",
      "std_mae for DLCO_SB is 1.0874235432199566\n",
      "mean for DLCO_SB is 0.05928853754940711\n",
      "std for DLCO_SB is 1.69410821846673\n",
      "Finish plot of  DLCO_SB\n",
      "FEV1 linear regression m, b: 0.46902926301748826 1.358200638722629\n",
      "FEV1 linear regression m, b, r^2: 0.4690292630174885 1.3582006387226282 0.40808872765401455\n",
      "ave_mae for FEV1 is 0.45454545454545453\n",
      "std_mae for FEV1 is 0.5361525678359895\n",
      "mean for FEV1 is -0.019762845849802372\n",
      "std for FEV1 is 0.702624064609928\n",
      "Finish plot of  FEV1\n",
      "FVC linear regression m, b: 0.583450138302756 1.3480577864350571\n",
      "FVC linear regression m, b, r^2: 0.583450138302756 1.3480577864350543 0.4624404123264705\n",
      "ave_mae for FVC is 0.5454545454545454\n",
      "std_mae for FVC is 0.5988370571836833\n",
      "mean for FVC is -0.015810276679841896\n",
      "std for FVC is 0.8098620360065939\n",
      "Finish plot of  FVC\n",
      "TLC_He linear regression m, b: 0.7087105283972985 1.444021338349594\n",
      "TLC_He linear regression m, b, r^2: 0.7087105283972996 1.4440213383495908 0.5471458153046219\n",
      "ave_mae for TLC_He is 0.6284584980237155\n",
      "std_mae for TLC_He is 0.6974688818599447\n",
      "mean for TLC_He is 0.09090909090909091\n",
      "std for TLC_He is 0.9344294848148085\n",
      "Finish plot of  TLC_He\n",
      "r_p_value: {'r_valid_DLCO_SB': 0.5203463069652671, 'r_valid_FEV1': 0.6388182273965064, 'r_valid_FVC': 0.680029714296714, 'r_valid_TLC_He': 0.7396930547900405, 'p_of_rvalid_DLCO_SB': 5.903309968643407e-19, 'p_of_rvalid_FEV1': 2.0513633084890263e-30, 'p_of_rvalid_FVC': 1.0856988192655622e-35, 'p_of_rvalid_TLC_He': 4.508032386187381e-45}\n"
     ]
    }
   ],
   "source": [
    "r_p_value = metrics(pred_fpath, label_fpath, ignore_1st_column=True)\n",
    "print('r_p_value:', r_p_value)"
   ]
  }
 ],
 "metadata": {
  "kernelspec": {
   "display_name": "py38",
   "language": "python",
   "name": "python3"
  },
  "language_info": {
   "codemirror_mode": {
    "name": "ipython",
    "version": 3
   },
   "file_extension": ".py",
   "mimetype": "text/x-python",
   "name": "python",
   "nbconvert_exporter": "python",
   "pygments_lexer": "ipython3",
   "version": "3.8.13"
  },
  "orig_nbformat": 4
 },
 "nbformat": 4,
 "nbformat_minor": 2
}
