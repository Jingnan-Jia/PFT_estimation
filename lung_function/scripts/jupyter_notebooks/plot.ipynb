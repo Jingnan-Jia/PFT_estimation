{
 "cells": [
  {
   "cell_type": "code",
   "execution_count": 1,
   "metadata": {},
   "outputs": [
    {
     "name": "stderr",
     "output_type": "stream",
     "text": [
      "/home/jjia/.local/lib/python3.8/site-packages/outdated/utils.py:14: OutdatedPackageWarning: The package pingouin is out of date. Your version is 0.5.2, the latest is 0.5.3.\n",
      "Set the environment variable OUTDATED_IGNORE=1 to disable these warnings.\n",
      "  return warn(\n",
      "/home/jjia/.local/lib/python3.8/site-packages/outdated/utils.py:14: OutdatedPackageWarning: The package outdated is out of date. Your version is 0.2.1, the latest is 0.2.2.\n",
      "Set the environment variable OUTDATED_IGNORE=1 to disable these warnings.\n",
      "  return warn(\n"
     ]
    }
   ],
   "source": [
    "from lung_function.modules.compute_metrics import icc, metrics\n",
    "import pandas as pd"
   ]
  },
  {
   "cell_type": "code",
   "execution_count": 4,
   "metadata": {},
   "outputs": [],
   "source": [
    "ex_idr = \"/home/jjia/data/lung_function/lung_function/scripts/results/experiments/2731\"\n",
    "pred_fpath = f\"{ex_idr}/valid_pred.csv\"\n",
    "label_fpath =  f\"{ex_idr}/valid_label.csv\""
   ]
  },
  {
   "cell_type": "code",
   "execution_count": 5,
   "metadata": {},
   "outputs": [
    {
     "name": "stdout",
     "output_type": "stream",
     "text": [
      "len_df_label 253\n",
      "['DLCOc', 'FEV1', 'FVC', 'TLC'] yyaayy\n",
      "DLCOc linear regression m, b: 0.3472053881637941 3.2323788005136387\n",
      "DLCOc linear regression m, b, r^2: 0.34720538816379404 3.23237880051364 0.29195369491007994\n",
      "ave_mae for DLCOc is 1.2687747035573123\n",
      "std_mae for DLCOc is 1.0847912317285704\n",
      "mean for DLCOc is -0.31225296442687744\n",
      "std for DLCOc is 1.6398351597123297\n",
      "Finish plot of  DLCOc\n",
      "FEV1 linear regression m, b: 0.46591504087001684 1.2346312390776157\n",
      "FEV1 linear regression m, b, r^2: 0.4659150408700173 1.234631239077616 0.38350911217577477\n",
      "ave_mae for FEV1 is 0.45849802371541504\n",
      "std_mae for FEV1 is 0.5581385963036792\n",
      "mean for FEV1 is -0.1422924901185771\n",
      "std for FEV1 is 0.7081609828920521\n",
      "Finish plot of  FEV1\n",
      "FVC linear regression m, b: 0.5759500553359225 1.170417797767214\n",
      "FVC linear regression m, b, r^2: 0.5759500553359223 1.1704177977672132 0.4583176689179087\n",
      "ave_mae for FVC is 0.5928853754940712\n",
      "std_mae for FVC is 0.6257554917680095\n",
      "mean for FVC is -0.22134387351778656\n",
      "std for FVC is 0.8331205756724\n",
      "Finish plot of  FVC\n",
      "TLC linear regression m, b: 0.7117574417040016 1.2375504179046568\n",
      "TLC linear regression m, b, r^2: 0.7117574417040025 1.2375504179046533 0.49785167237146016\n",
      "ave_mae for TLC is 0.7193675889328063\n",
      "std_mae for TLC is 0.6802554124321236\n",
      "mean for TLC is -0.13438735177865613\n",
      "std for TLC is 0.9809063124642013\n",
      "Finish plot of  TLC\n",
      "r_p_value: {'r_valid_DLCOc': 0.540327396038809, 'r_valid_FEV1': 0.6192811253185219, 'r_valid_FVC': 0.6769916313499811, 'r_valid_TLC': 0.7055860488781366, 'p_of_rvalid_DLCOc': 1.405023361107088e-20, 'p_of_rvalid_FEV1': 3.490290588907436e-28, 'p_of_rvalid_FVC': 2.844706950222033e-35, 'p_of_rvalid_TLC': 2.022202400958911e-39}\n"
     ]
    }
   ],
   "source": [
    "r_p_value = metrics(pred_fpath, label_fpath, ignore_1st_column=True)\n",
    "print('r_p_value:', r_p_value)"
   ]
  }
 ],
 "metadata": {
  "kernelspec": {
   "display_name": "py38",
   "language": "python",
   "name": "python3"
  },
  "language_info": {
   "codemirror_mode": {
    "name": "ipython",
    "version": 3
   },
   "file_extension": ".py",
   "mimetype": "text/x-python",
   "name": "python",
   "nbconvert_exporter": "python",
   "pygments_lexer": "ipython3",
   "version": "3.8.13"
  },
  "orig_nbformat": 4
 },
 "nbformat": 4,
 "nbformat_minor": 2
}
