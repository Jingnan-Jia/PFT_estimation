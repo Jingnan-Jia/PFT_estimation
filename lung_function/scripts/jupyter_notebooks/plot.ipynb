{
 "cells": [
  {
   "cell_type": "code",
   "execution_count": 1,
   "metadata": {},
   "outputs": [
    {
     "name": "stderr",
     "output_type": "stream",
     "text": [
      "/home/jjia/.local/lib/python3.8/site-packages/outdated/utils.py:14: OutdatedPackageWarning: The package pingouin is out of date. Your version is 0.5.2, the latest is 0.5.3.\n",
      "Set the environment variable OUTDATED_IGNORE=1 to disable these warnings.\n",
      "  return warn(\n",
      "/home/jjia/.local/lib/python3.8/site-packages/outdated/utils.py:14: OutdatedPackageWarning: The package outdated is out of date. Your version is 0.2.1, the latest is 0.2.2.\n",
      "Set the environment variable OUTDATED_IGNORE=1 to disable these warnings.\n",
      "  return warn(\n"
     ]
    }
   ],
   "source": [
    "from lung_function.modules.compute_metrics import icc, metrics\n",
    "import pandas as pd"
   ]
  },
  {
   "cell_type": "code",
   "execution_count": 2,
   "metadata": {},
   "outputs": [],
   "source": [
    "ex_idr = \"/home/jjia/data/lung_function/lung_function/scripts/results/experiments/2667\"\n",
    "pred_fpath = f\"{ex_idr}/valid_pred.csv\"\n",
    "label_fpath =  f\"{ex_idr}/valid_label.csv\""
   ]
  },
  {
   "cell_type": "code",
   "execution_count": 3,
   "metadata": {},
   "outputs": [
    {
     "name": "stdout",
     "output_type": "stream",
     "text": [
      "len_df_label 253\n",
      "FVC\n",
      "DLCO_SB linear regression m, b: 0.6571291272390323 1.9701963317787075\n",
      "DLCO_SB linear regression m, b, r^2: 0.6571291272390326 1.9701963317787063 0.45567627298477587\n",
      "ave_mae for DLCO_SB is 1.1936758893280632\n",
      "std_mae for DLCO_SB is 0.9970507525962095\n",
      "mean for DLCO_SB is 0.15019762845849802\n",
      "std for DLCO_SB is 1.5480352077460169\n",
      "Finish plot of  DLCO_SB\n",
      "FEV1 linear regression m, b: 0.7811893656473038 0.6859691677920794\n",
      "FEV1 linear regression m, b, r^2: 0.7811893656473043 0.6859691677920783 0.5247541088147107\n",
      "ave_mae for FEV1 is 0.44664031620553357\n",
      "std_mae for FEV1 is 0.5571300125327321\n",
      "mean for FEV1 is 0.1225296442687747\n",
      "std for FEV1 is 0.7034684848664285\n",
      "Finish plot of  FEV1\n",
      "FVC linear regression m, b: 0.8576056528833952 0.5928729673125583\n",
      "FVC linear regression m, b, r^2: 0.8576056528833955 0.5928729673125557 0.6596502939183163\n",
      "ave_mae for FVC is 0.4268774703557312\n",
      "std_mae for FVC is 0.5619602661378397\n",
      "mean for FVC is 0.15019762845849802\n",
      "std for FVC is 0.689539257635461\n",
      "Finish plot of  FVC\n",
      "TLC_He linear regression m, b: 0.9817353792892832 0.14287894308574753\n",
      "TLC_He linear regression m, b, r^2: 0.9817353792892842 0.1428789430857451 0.6935198381138697\n",
      "ave_mae for TLC_He is 0.5928853754940712\n",
      "std_mae for TLC_He is 0.6257554917680095\n",
      "mean for TLC_He is 0.11857707509881422\n",
      "std for TLC_He is 0.8538281332994242\n",
      "Finish plot of  TLC_He\n",
      "r_p_value: {'r_valid_DLCO_SB': 0.6750379789202796, 'r_valid_FEV1': 0.7243991363983745, 'r_valid_FVC': 0.8121885827308313, 'r_valid_TLC_He': 0.8327783847542333, 'p_of_rvalid_DLCO_SB': 5.252936875997044e-35, 'p_of_rvalid_FEV1': 1.9652018708482765e-42, 'p_of_rvalid_FVC': 1.1162659732998981e-60, 'p_of_rvalid_TLC_He': 2.1080605841522468e-66}\n"
     ]
    }
   ],
   "source": [
    "r_p_value = metrics(pred_fpath, label_fpath, ignore_1st_column=True)\n",
    "print('r_p_value:', r_p_value)"
   ]
  }
 ],
 "metadata": {
  "kernelspec": {
   "display_name": "py38",
   "language": "python",
   "name": "python3"
  },
  "language_info": {
   "codemirror_mode": {
    "name": "ipython",
    "version": 3
   },
   "file_extension": ".py",
   "mimetype": "text/x-python",
   "name": "python",
   "nbconvert_exporter": "python",
   "pygments_lexer": "ipython3",
   "version": "3.8.13"
  },
  "orig_nbformat": 4
 },
 "nbformat": 4,
 "nbformat_minor": 2
}
