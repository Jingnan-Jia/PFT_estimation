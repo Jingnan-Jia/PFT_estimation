{
 "cells": [
  {
   "cell_type": "code",
   "execution_count": 1,
   "metadata": {},
   "outputs": [
    {
     "name": "stderr",
     "output_type": "stream",
     "text": [
      "/home/jjia/.local/lib/python3.8/site-packages/outdated/utils.py:14: OutdatedPackageWarning: The package pingouin is out of date. Your version is 0.5.2, the latest is 0.5.3.\n",
      "Set the environment variable OUTDATED_IGNORE=1 to disable these warnings.\n",
      "  return warn(\n",
      "/home/jjia/.local/lib/python3.8/site-packages/outdated/utils.py:14: OutdatedPackageWarning: The package outdated is out of date. Your version is 0.2.1, the latest is 0.2.2.\n",
      "Set the environment variable OUTDATED_IGNORE=1 to disable these warnings.\n",
      "  return warn(\n"
     ]
    }
   ],
   "source": [
    "from lung_function.modules.compute_metrics import icc, metrics\n",
    "import pandas as pd"
   ]
  },
  {
   "cell_type": "code",
   "execution_count": 2,
   "metadata": {},
   "outputs": [],
   "source": [
    "ex_idr = \"/home/jjia/data/lung_function/lung_function/scripts/results/experiments/2731\"\n",
    "pred_fpath = f\"{ex_idr}/valid_pred.csv\"\n",
    "label_fpath =  f\"{ex_idr}/valid_label.csv\""
   ]
  },
  {
   "cell_type": "code",
   "execution_count": 3,
   "metadata": {},
   "outputs": [
    {
     "name": "stdout",
     "output_type": "stream",
     "text": [
      "len_df_label 253\n",
      "['DLCOc', 'FEV1', 'FVC', 'TLC'] yyaayy\n",
      "DLCOc linear regression m, b: 0.6710410994337663 1.7991286505522126\n",
      "DLCOc linear regression m, b, r^2: 0.6710410994337662 1.7991286505522148 0.46670565230859296\n",
      "ave_mae for DLCOc is 1.08300395256917\n",
      "std_mae for DLCOc is 0.9965492179806751\n",
      "mean for DLCOc is 0.023715415019762844\n",
      "std for DLCOc is 1.4715452708730303\n",
      "Finish plot of  DLCOc\n",
      "FEV1 linear regression m, b: 0.8015162657708823 0.5644847091409638\n",
      "FEV1 linear regression m, b, r^2: 0.8015162657708823 0.5644847091409639 0.5393767500939497\n",
      "ave_mae for FEV1 is 0.38735177865612647\n",
      "std_mae for FEV1 is 0.5763436807210721\n",
      "mean for FEV1 is 0.05533596837944664\n",
      "std for FEV1 is 0.6922076056637103\n",
      "Finish plot of  FEV1\n",
      "FVC linear regression m, b: 0.8642136209612171 0.4638775874564536\n",
      "FVC linear regression m, b, r^2: 0.8642136209612173 0.46387758745645113 0.6175695376976732\n",
      "ave_mae for FVC is 0.48616600790513836\n",
      "std_mae for FVC is 0.5937806152794916\n",
      "mean for FVC is 0.03557312252964427\n",
      "std for FVC is 0.7665946512190138\n",
      "Finish plot of  FVC\n",
      "TLC linear regression m, b: 0.9463173540493288 0.20232386527440807\n",
      "TLC linear regression m, b, r^2: 0.9463173540493298 0.20232386527440482 0.6659582258878016\n",
      "ave_mae for TLC is 0.6007905138339921\n",
      "std_mae for TLC is 0.6245309446132976\n",
      "mean for TLC is -0.015810276679841896\n",
      "std for TLC is 0.8664514859147031\n",
      "Finish plot of  TLC\n",
      "r_p_value: {'r_valid_DLCOc': 0.6831585850361488, 'r_valid_FEV1': 0.73442273255527, 'r_valid_FVC': 0.78585592680699, 'r_valid_TLC': 0.816062636007679, 'p_of_rvalid_DLCOc': 3.977087621993053e-36, 'p_of_rvalid_FEV1': 3.8386230024723893e-44, 'p_of_rvalid_FVC': 2.603797045681463e-54, 'p_of_rvalid_TLC': 1.0619116629165217e-61}\n"
     ]
    }
   ],
   "source": [
    "r_p_value = metrics(pred_fpath, label_fpath, ignore_1st_column=True)\n",
    "print('r_p_value:', r_p_value)"
   ]
  }
 ],
 "metadata": {
  "kernelspec": {
   "display_name": "py38",
   "language": "python",
   "name": "python3"
  },
  "language_info": {
   "codemirror_mode": {
    "name": "ipython",
    "version": 3
   },
   "file_extension": ".py",
   "mimetype": "text/x-python",
   "name": "python",
   "nbconvert_exporter": "python",
   "pygments_lexer": "ipython3",
   "version": "3.8.13"
  },
  "orig_nbformat": 4
 },
 "nbformat": 4,
 "nbformat_minor": 2
}
