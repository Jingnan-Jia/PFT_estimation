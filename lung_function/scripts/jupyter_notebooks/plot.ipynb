{
 "cells": [
  {
   "cell_type": "code",
   "execution_count": 1,
   "metadata": {},
   "outputs": [
    {
     "name": "stderr",
     "output_type": "stream",
     "text": [
      "/home/jjia/.local/lib/python3.8/site-packages/outdated/utils.py:14: OutdatedPackageWarning: The package pingouin is out of date. Your version is 0.5.2, the latest is 0.5.3.\n",
      "Set the environment variable OUTDATED_IGNORE=1 to disable these warnings.\n",
      "  return warn(\n",
      "/home/jjia/.local/lib/python3.8/site-packages/outdated/utils.py:14: OutdatedPackageWarning: The package outdated is out of date. Your version is 0.2.1, the latest is 0.2.2.\n",
      "Set the environment variable OUTDATED_IGNORE=1 to disable these warnings.\n",
      "  return warn(\n"
     ]
    }
   ],
   "source": [
    "from lung_function.modules.compute_metrics import icc, metrics\n",
    "import pandas as pd"
   ]
  },
  {
   "cell_type": "code",
   "execution_count": 6,
   "metadata": {},
   "outputs": [],
   "source": [
    "ex_idr = \"/home/jjia/data/lung_function/lung_function/scripts/results/experiments/2750\"\n",
    "pred_fpath = f\"{ex_idr}/valid_pred.csv\"\n",
    "label_fpath =  f\"{ex_idr}/valid_label.csv\""
   ]
  },
  {
   "cell_type": "code",
   "execution_count": 9,
   "metadata": {},
   "outputs": [
    {
     "name": "stdout",
     "output_type": "stream",
     "text": [
      "len_df_label 63\n",
      "['DLCOc', 'FEV1', 'FVC', 'TLC'] yyaayy\n",
      "DLCOc linear regression m, b: 0.4864775782192213 2.953450242001487\n",
      "DLCOc linear regression m, b, r^2: 0.486477578219221 2.9534502420014865 0.473501964623994\n",
      "ave_mae for DLCOc is 1.1587301587301588\n",
      "std_mae for DLCOc is 1.0571952892283625\n",
      "mean for DLCOc is -0.23809523809523808\n",
      "std for DLCOc is 1.55036386629521\n",
      "Finish plot of  DLCOc\n",
      "FEV1 linear regression m, b: 0.6270742411500145 1.1190940497912132\n",
      "FEV1 linear regression m, b, r^2: 0.6270742411500148 1.1190940497912119 0.46832478703308617\n",
      "ave_mae for FEV1 is 0.5079365079365079\n",
      "std_mae for FEV1 is 0.5598473678904252\n",
      "mean for FEV1 is 0.12698412698412698\n",
      "std for FEV1 is 0.7451869583686033\n",
      "Finish plot of  FEV1\n",
      "FVC linear regression m, b: 0.7484052589909371 0.933338999039383\n",
      "FVC linear regression m, b, r^2: 0.7484052589909375 0.9333389990393814 0.5892214401425346\n",
      "ave_mae for FVC is 0.5714285714285714\n",
      "std_mae for FVC is 0.5553287518900287\n",
      "mean for FVC is 0.031746031746031744\n",
      "std for FVC is 0.7961864256498064\n",
      "Finish plot of  FVC\n",
      "TLC linear regression m, b: 0.8341042149129568 0.8460375140606408\n",
      "TLC linear regression m, b, r^2: 0.8341042149129572 0.8460375140606393 0.633248520966054\n",
      "ave_mae for TLC is 0.6349206349206349\n",
      "std_mae for TLC is 0.6969682031777825\n",
      "mean for TLC is -0.09523809523809523\n",
      "std for TLC is 0.9379864573139146\n",
      "Finish plot of  TLC\n",
      "r_p_value: {'r_test_DLCOc': 0.6881147902959172, 'r_test_FEV1': 0.6843425947820917, 'r_test_FVC': 0.7676076081843735, 'r_test_TLC': 0.7957691379829039, 'p_of_rtest_DLCOc': 4.6245794225419285e-10, 'p_of_rtest_FEV1': 6.265064616022233e-10, 'p_of_rtest_FVC': 2.1513399727731929e-13, 'p_of_rtest_TLC': 6.548513943481936e-15}\n"
     ]
    }
   ],
   "source": [
    "r_p_value = metrics(pred_fpath, label_fpath, ignore_1st_column=True)\n",
    "print('r_p_value:', r_p_value)"
   ]
  },
  {
   "cell_type": "code",
   "execution_count": 8,
   "metadata": {},
   "outputs": [],
   "source": [
    "pred_fpath = f\"{ex_idr}/test_pred.csv\"\n",
    "label_fpath =  f\"{ex_idr}/test_label.csv\""
   ]
  }
 ],
 "metadata": {
  "kernelspec": {
   "display_name": "py38",
   "language": "python",
   "name": "py38"
  },
  "language_info": {
   "codemirror_mode": {
    "name": "ipython",
    "version": 3
   },
   "file_extension": ".py",
   "mimetype": "text/x-python",
   "name": "python",
   "nbconvert_exporter": "python",
   "pygments_lexer": "ipython3",
   "version": "3.8.13"
  },
  "orig_nbformat": 4
 },
 "nbformat": 4,
 "nbformat_minor": 2
}
