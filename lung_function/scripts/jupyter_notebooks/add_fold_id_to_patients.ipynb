{
 "cells": [
  {
   "cell_type": "code",
   "execution_count": null,
   "metadata": {},
   "outputs": [],
   "source": []
  },
  {
   "cell_type": "code",
   "execution_count": null,
   "metadata": {},
   "outputs": [
    {
     "ename": "",
     "evalue": "",
     "output_type": "error",
     "traceback": [
      "\u001b[1;31mFailed to start the Kernel. \n",
      "\u001b[1;31mFailed to start the Kernel 'py38 (Python 3.8.13)'. \n",
      "\u001b[1;31mView Jupyter <a href='command:jupyter.viewOutput'>log</a> for further details. Cannot find module './351.node.js'\n",
      "\u001b[1;31mRequire stack:\n",
      "\u001b[1;31m- /home/jjia/.vscode-server/extensions/ms-toolsai.jupyter-2023.1.2010391206/out/extension.node.js\n",
      "\u001b[1;31m- /home/jjia/.vscode-server/bin/e2816fe719a4026ffa1ee0189dc89bdfdbafb164/out/vs/loader.js\n",
      "\u001b[1;31m- /home/jjia/.vscode-server/bin/e2816fe719a4026ffa1ee0189dc89bdfdbafb164/out/bootstrap-amd.js\n",
      "\u001b[1;31m- /home/jjia/.vscode-server/bin/e2816fe719a4026ffa1ee0189dc89bdfdbafb164/out/bootstrap-fork.js"
     ]
    }
   ],
   "source": [
    "import numpy as np\n",
    "\n",
    "import json\n"
   ]
  },
  {
   "cell_type": "code",
   "execution_count": null,
   "metadata": {},
   "outputs": [],
   "source": [
    "pft_fpath = '/home/jjia/data/dataset/lung_function/SScBaseline_PFT_anonymized_with_percent.xlsx'  # id from 0068800 to 99..., total 333 cases\n",
    "label_excel = pd.read_excel(pft_fpath, engine='openpyxl')\n",
    "label_excel = label_excel.sort_values(by=['subjectID'])\n"
   ]
  }
 ],
 "metadata": {
  "kernelspec": {
   "display_name": "Python 3",
   "language": "python",
   "name": "python3"
  },
  "language_info": {
   "name": "python",
   "version": "3.8.13"
  },
  "orig_nbformat": 4,
  "vscode": {
   "interpreter": {
    "hash": "f7237c9972df760705e03bb27a8e106ab1bc3793b010c014a347ab079be8db1a"
   }
  }
 },
 "nbformat": 4,
 "nbformat_minor": 2
}
