{
 "cells": [
  {
   "cell_type": "code",
   "execution_count": 69,
   "metadata": {},
   "outputs": [],
   "source": [
    "from glob import glob\n",
    "from medutils.medutils import load_itk, save_itk\n",
    "import matplotlib.pyplot as plt\n",
    "from tqdm import tqdm\n",
    "import json"
   ]
  },
  {
   "cell_type": "code",
   "execution_count": 6,
   "metadata": {},
   "outputs": [],
   "source": [
    "data_dir = \"/data1/jjia/dataset/lung_function/iso1.5/SSc_patient_???????.nii.gz\"\n",
    "lung_dir = \"/data1/jjia/dataset/lung_function/iso1.5/SSc_patient_???????_LungMask.nii.gz\"\n",
    "vessel_dir = \"/data1/jjia/dataset/lung_function/iso1.5/SSc_patient_???????_GcVessel.nii.gz\""
   ]
  },
  {
   "cell_type": "code",
   "execution_count": 9,
   "metadata": {},
   "outputs": [],
   "source": [
    "data_ls = glob(vessel_dir)"
   ]
  },
  {
   "cell_type": "code",
   "execution_count": 10,
   "metadata": {},
   "outputs": [
    {
     "data": {
      "text/plain": [
       "317"
      ]
     },
     "execution_count": 10,
     "metadata": {},
     "output_type": "execute_result"
    }
   ],
   "source": [
    "len(data_ls)"
   ]
  },
  {
   "cell_type": "code",
   "execution_count": 70,
   "metadata": {},
   "outputs": [],
   "source": [
    "ori_dir = \"/data1/jjia/dataset/lung_function/ori_resolution/SSc_patient_???????.mha\""
   ]
  },
  {
   "cell_type": "code",
   "execution_count": 71,
   "metadata": {},
   "outputs": [
    {
     "data": {
      "text/plain": [
       "333"
      ]
     },
     "execution_count": 71,
     "metadata": {},
     "output_type": "execute_result"
    }
   ],
   "source": [
    "ori_ls = sorted(glob(ori_dir))\n",
    "len(ori_ls)"
   ]
  },
  {
   "cell_type": "code",
   "execution_count": 72,
   "metadata": {},
   "outputs": [
    {
     "name": "stderr",
     "output_type": "stream",
     "text": [
      "100%|██████████| 333/333 [02:01<00:00,  2.75it/s]\n"
     ]
    }
   ],
   "source": [
    "for img in tqdm(ori_ls):\n",
    "    img_np = load_itk(img, require_ori_sp=False)  # binary vessel image\n",
    "    mid_idx = img_np.shape[0]//2\n",
    "    plt.figure()\n",
    "    plt.imshow(img_np[mid_idx,:,:])\n",
    "    plt.axis('off')\n",
    "    plt.tight_layout()\n",
    "    plt.savefig(img.replace(\".mha\",\"_thumbnail.jpg\"))\n",
    "    plt.close()"
   ]
  },
  {
   "cell_type": "code",
   "execution_count": 26,
   "metadata": {},
   "outputs": [
    {
     "data": {
      "text/plain": [
       "317"
      ]
     },
     "execution_count": 26,
     "metadata": {},
     "output_type": "execute_result"
    }
   ],
   "source": [
    "a = glob(\"/data1/jjia/dataset/lung_function/iso1.5/SSc_patient_???????.nii.gz\")\n",
    "len(a)"
   ]
  },
  {
   "cell_type": "code",
   "execution_count": 27,
   "metadata": {},
   "outputs": [],
   "source": [
    "b = [i.split('.nii.gz')[0][-7:] for i in a]"
   ]
  },
  {
   "cell_type": "code",
   "execution_count": 30,
   "metadata": {},
   "outputs": [],
   "source": [
    "c = [j.split('.mha')[0][-7:] for j in ori_ls]"
   ]
  },
  {
   "cell_type": "code",
   "execution_count": 34,
   "metadata": {},
   "outputs": [
    {
     "data": {
      "text/plain": [
       "16"
      ]
     },
     "execution_count": 34,
     "metadata": {},
     "output_type": "execute_result"
    }
   ],
   "source": [
    "len(set(c) - set(b))"
   ]
  },
  {
   "cell_type": "code",
   "execution_count": 60,
   "metadata": {},
   "outputs": [],
   "source": [
    "data_split_dt = {'valid_fold1':\n",
    "['0127512',\n",
    "'0139552',\n",
    "'0143788',\n",
    "'0265042',\n",
    "'0320142',\n",
    "'0458234',\n",
    "'0485784',\n",
    "'0530988',\n",
    "'0584534',\n",
    "'1067426',\n",
    "'1218579',\n",
    "'1244023',\n",
    "'1513875',\n",
    "'1539510',\n",
    "'1759534',\n",
    "'1987028',\n",
    "'2087864',\n",
    "'2131790',\n",
    "'2151769',\n",
    "'2164051',\n",
    "'2201630',\n",
    "'2211458',\n",
    "'2342421',\n",
    "'2712128',\n",
    "'2947950',\n",
    "'3026442',\n",
    "'3202420',\n",
    "'3237589',\n",
    "'3239347',\n",
    "'3567342',\n",
    "'3729608',\n",
    "'4036570',\n",
    "'4119066',\n",
    "'4160061',\n",
    "'4319832',\n",
    "'4414878',\n",
    "'4945176',\n",
    "'5095311',\n",
    "'5202686',\n",
    "'5261000',\n",
    "'5299407',\n",
    "'5313911',\n",
    "'5325396',\n",
    "'5341694',\n",
    "'5352138',\n",
    "'5813928',\n",
    "'5986430',\n",
    "'6001651',\n",
    "'6047721',\n",
    "'6145432',\n",
    "'6224742',\n",
    "'6318939',\n",
    "'6339687',\n",
    "'6366968',\n",
    "'6417808',\n",
    "'6475311',\n",
    "'6503304',\n",
    "'6533637',\n",
    "'7114639',\n",
    "'7120342',\n",
    "'7316368',\n",
    "'7324318',\n",
    "'7331122',\n",
    "\n",
    "\n",
    "],\n",
    "\n",
    "'valid_fold2':\n",
    "['0163750',\n",
    "'0277377',\n",
    "'0298877',\n",
    "'0315573',\n",
    "'0343115',\n",
    "'0376540',\n",
    "'0456204',\n",
    "'0509944',\n",
    "'0573200',\n",
    "'0703966',\n",
    "'0992750',\n",
    "'1100289',\n",
    "'1105441',\n",
    "'1239567',\n",
    "'1321066',\n",
    "'1329821',\n",
    "'1949476',\n",
    "'2090024',\n",
    "'2155673',\n",
    "'2196024',\n",
    "'2253442',\n",
    "'2279798',\n",
    "'2289311',\n",
    "'2332035',\n",
    "'2332755',\n",
    "'2333560',\n",
    "'2341332',\n",
    "'2524918',\n",
    "'2550514',\n",
    "'3021822',\n",
    "'3195140',\n",
    "'3228438',\n",
    "'3588476',\n",
    "'4084886',\n",
    "'4628660',\n",
    "'4983258',\n",
    "'5036012',\n",
    "'5058580',\n",
    "'5102202',\n",
    "'5157102',\n",
    "'5174713',\n",
    "'5271048',\n",
    "'5301625',\n",
    "'5305785',\n",
    "'5434722',\n",
    "'5453856',\n",
    "'5574126',\n",
    "'6014042',\n",
    "'6180838',\n",
    "'6182262',\n",
    "'6226529',\n",
    "'6315736',\n",
    "'6327090',\n",
    "'6424242',\n",
    "'6587088',\n",
    "'6638152',\n",
    "'6793758',\n",
    "'7178384',\n",
    "'7189918',\n",
    "'7218578',\n",
    "'7238630',\n",
    "'7349316',\n",
    "'7740702',\n",
    "'7886110',\n",
    "],\n",
    "\n",
    "'valid_fold3':\n",
    "['0152440',\n",
    "'0234084',\n",
    "'0315457',\n",
    "'0422335',\n",
    "'0534778',\n",
    "'0553478',\n",
    "'0639432',\n",
    "'0911478',\n",
    "'1043946',\n",
    "'1146160',\n",
    "'1236033',\n",
    "'1239678',\n",
    "'1278925',\n",
    "'1301116',\n",
    "'1329481',\n",
    "'1333231',\n",
    "'1348417',\n",
    "'1391017',\n",
    "'1499510',\n",
    "'1564714',\n",
    "'1947009',\n",
    "'2178492',\n",
    "'2228633',\n",
    "'2273070',\n",
    "'2323272',\n",
    "'3034278',\n",
    "'3154090',\n",
    "'3191882',\n",
    "'3221222',\n",
    "'3243752',\n",
    "'3261564',\n",
    "'3295904',\n",
    "'3310402',\n",
    "'3345741',\n",
    "'4171220',\n",
    "'4243706',\n",
    "'4433856',\n",
    "'5112278',\n",
    "'5150048',\n",
    "'5262908',\n",
    "'5289050',\n",
    "'5321814',\n",
    "'5323286',\n",
    "'5337916',\n",
    "'5652668',\n",
    "'5869896',\n",
    "'6023278',\n",
    "'6056082',\n",
    "'6085323',\n",
    "'6122288',\n",
    "'6216723',\n",
    "'6258975',\n",
    "'6389435',\n",
    "'6452458',\n",
    "'6484444',\n",
    "'7190208',\n",
    "'7211564',\n",
    "'7219422',\n",
    "'7234049',\n",
    "'7329394',\n",
    "'7421048',\n",
    "'7470316',\n",
    "'7502118',\n",
    "'7794304',\n",
    "],\n",
    "\n",
    "'valid_fold4':\n",
    "['0068800',\n",
    "'0213786',\n",
    "'0219312',\n",
    "'0222357',\n",
    "'0242508',\n",
    "'0280727',\n",
    "'0385738',\n",
    "'0611832',\n",
    "'0787506',\n",
    "'1066422',\n",
    "'1160750',\n",
    "'1199412',\n",
    "'1280678',\n",
    "'1293386',\n",
    "'1326574',\n",
    "'1397732',\n",
    "'1475468',\n",
    "'1849599',\n",
    "'1945530',\n",
    "'2081982',\n",
    "'2088579',\n",
    "'2178130',\n",
    "'2252561',\n",
    "'2340524',\n",
    "'2346390',\n",
    "'2352142',\n",
    "'2396084',\n",
    "'2742894',\n",
    "'3102570',\n",
    "'3298040',\n",
    "'3901150',\n",
    "'4107789',\n",
    "'4125990',\n",
    "'4205284',\n",
    "'4254486',\n",
    "'4280811',\n",
    "'5138064',\n",
    "'5235284',\n",
    "'5240010',\n",
    "'5242717',\n",
    "'5576984',\n",
    "'6096786',\n",
    "'6166756',\n",
    "'6238704',\n",
    "'6301947',\n",
    "'6329587',\n",
    "'6351267',\n",
    "'6960927',\n",
    "'7135410',\n",
    "'7147200',\n",
    "'7190978',\n",
    "'7234834',\n",
    "'7241891',\n",
    "'7247972',\n",
    "'7252792',\n",
    "'7325831',\n",
    "'7417242',\n",
    "'7549628',\n",
    "'7582492',\n",
    "'7584898',\n",
    "'7628640',\n",
    "'7694688',\n",
    "'7852072',\n",
    "],\n",
    "\n",
    "'test':\n",
    "['7957098',\n",
    "'7977032',\n",
    "'8077626',\n",
    "'8160998',\n",
    "'8189796',\n",
    "'8211617',\n",
    "'8221364',\n",
    "'8223034',\n",
    "'8229975',\n",
    "'8235036',\n",
    "'8238603',\n",
    "'8256587',\n",
    "'8258466',\n",
    "'8277297',\n",
    "'8278747',\n",
    "'8303176',\n",
    "'8321228',\n",
    "'8334199',\n",
    "'8353193',\n",
    "'8365740',\n",
    "'8369484',\n",
    "'8453542',\n",
    "'8492153',\n",
    "'8595550',\n",
    "'8784276',\n",
    "'8906834',\n",
    "'8909491',\n",
    "'8910414',\n",
    "'8920576',\n",
    "'8960279',\n",
    "'9035012',\n",
    "'9071115',\n",
    "'9075370',\n",
    "'9075756',\n",
    "'9091134',\n",
    "'9095122',\n",
    "'9096866',\n",
    "'9132826',\n",
    "'9160660',\n",
    "'9163194',\n",
    "'9181748',\n",
    "'9224744',\n",
    "'9234835',\n",
    "'9239682',\n",
    "'9241693',\n",
    "'9251372',\n",
    "'9270279',\n",
    "'9272348',\n",
    "'9278164',\n",
    "'9298526',\n",
    "'9300979',\n",
    "'9322299',\n",
    "'9345657',\n",
    "'9348452',\n",
    "'9359921',\n",
    "'9364092',\n",
    "'9367440',\n",
    "'9445880',\n",
    "'9523013',\n",
    "'9662556',\n",
    "'9861781',\n",
    "'9934096',\n",
    "'9939136',]\n",
    "\n",
    "}\n",
    "                                    "
   ]
  },
  {
   "cell_type": "code",
   "execution_count": 61,
   "metadata": {},
   "outputs": [],
   "source": [
    "e = set(data_split_dt['valid_fold1']) | set(data_split_dt['valid_fold2']) | set(data_split_dt['valid_fold3']) | set(data_split_dt['valid_fold4']) | set(data_split_dt['test'])"
   ]
  },
  {
   "cell_type": "code",
   "execution_count": 68,
   "metadata": {},
   "outputs": [],
   "source": [
    "with open('data_split.json', \"w\") as f:\n",
    "    json.dump(data_split_dt, f)"
   ]
  },
  {
   "cell_type": "code",
   "execution_count": 62,
   "metadata": {},
   "outputs": [
    {
     "data": {
      "text/plain": [
       "317"
      ]
     },
     "execution_count": 62,
     "metadata": {},
     "output_type": "execute_result"
    }
   ],
   "source": [
    "len(e)"
   ]
  },
  {
   "cell_type": "code",
   "execution_count": 63,
   "metadata": {},
   "outputs": [
    {
     "data": {
      "text/plain": [
       "317"
      ]
     },
     "execution_count": 63,
     "metadata": {},
     "output_type": "execute_result"
    }
   ],
   "source": [
    "len(b)"
   ]
  },
  {
   "cell_type": "code",
   "execution_count": 64,
   "metadata": {},
   "outputs": [
    {
     "data": {
      "text/plain": [
       "set()"
      ]
     },
     "execution_count": 64,
     "metadata": {},
     "output_type": "execute_result"
    }
   ],
   "source": [
    "set(b) - e"
   ]
  },
  {
   "cell_type": "code",
   "execution_count": 47,
   "metadata": {},
   "outputs": [
    {
     "data": {
      "text/plain": [
       "63"
      ]
     },
     "execution_count": 47,
     "metadata": {},
     "output_type": "execute_result"
    }
   ],
   "source": [
    "len(data_split_dt['valid_fold2'])"
   ]
  },
  {
   "cell_type": "code",
   "execution_count": 48,
   "metadata": {},
   "outputs": [
    {
     "data": {
      "text/plain": [
       "63"
      ]
     },
     "execution_count": 48,
     "metadata": {},
     "output_type": "execute_result"
    }
   ],
   "source": [
    "len(data_split_dt['valid_fold3'])"
   ]
  },
  {
   "cell_type": "code",
   "execution_count": 49,
   "metadata": {},
   "outputs": [
    {
     "data": {
      "text/plain": [
       "63"
      ]
     },
     "execution_count": 49,
     "metadata": {},
     "output_type": "execute_result"
    }
   ],
   "source": [
    "len(data_split_dt['valid_fold4'])"
   ]
  },
  {
   "cell_type": "code",
   "execution_count": 51,
   "metadata": {},
   "outputs": [
    {
     "data": {
      "text/plain": [
       "62"
      ]
     },
     "execution_count": 51,
     "metadata": {},
     "output_type": "execute_result"
    }
   ],
   "source": [
    "len(data_split_dt['test'])"
   ]
  },
  {
   "cell_type": "code",
   "execution_count": null,
   "metadata": {},
   "outputs": [],
   "source": []
  }
 ],
 "metadata": {
  "kernelspec": {
   "display_name": "Python 3",
   "language": "python",
   "name": "python3"
  },
  "language_info": {
   "codemirror_mode": {
    "name": "ipython",
    "version": 3
   },
   "file_extension": ".py",
   "mimetype": "text/x-python",
   "name": "python",
   "nbconvert_exporter": "python",
   "pygments_lexer": "ipython3",
   "version": "3.8.13"
  },
  "orig_nbformat": 4,
  "vscode": {
   "interpreter": {
    "hash": "f7237c9972df760705e03bb27a8e106ab1bc3793b010c014a347ab079be8db1a"
   }
  }
 },
 "nbformat": 4,
 "nbformat_minor": 2
}
