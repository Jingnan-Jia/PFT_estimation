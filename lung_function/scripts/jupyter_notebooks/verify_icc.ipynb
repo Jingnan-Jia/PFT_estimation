{
 "cells": [
  {
   "cell_type": "code",
   "execution_count": 1,
   "metadata": {},
   "outputs": [
    {
     "name": "stderr",
     "output_type": "stream",
     "text": [
      "/home/jjia/.local/lib/python3.8/site-packages/outdated/utils.py:14: OutdatedPackageWarning: The package outdated is out of date. Your version is 0.2.1, the latest is 0.2.2.\n",
      "Set the environment variable OUTDATED_IGNORE=1 to disable these warnings.\n",
      "  return warn(\n"
     ]
    }
   ],
   "source": [
    "import sys\n",
    "\n",
    "sys.path.append(\"../..\")\n",
    "import csv\n",
    "import glob\n",
    "import os\n",
    "import threading\n",
    "from typing import List\n",
    "\n",
    "import SimpleITK as sitk\n",
    "import numpy as np\n",
    "import pandas as pd\n",
    "import pingouin as pg\n",
    "from scipy import ndimage\n",
    "import glob\n",
    "import os\n",
    "import seaborn as sns\n",
    "# sns.set_theme(color_codes=True)\n",
    "\n",
    "import matplotlib\n",
    "import numpy as np\n",
    "import pandas as pd\n",
    "import scipy\n",
    "from sklearn.metrics import cohen_kappa_score\n",
    "\n",
    "import lung_function.modules.my_bland as sm\n",
    "from lung_function.modules.path import PFTPath\n",
    "\n",
    "# Force matplotlib to not use any Xwindows backend.\n",
    "matplotlib.use('Agg')\n",
    "import matplotlib.pyplot as plt\n"
   ]
  },
  {
   "cell_type": "code",
   "execution_count": 38,
   "metadata": {},
   "outputs": [],
   "source": [
    "# take 1403_fold1 as the example\n",
    "mypath = PFTPath(1387, check_id_dir=False, space='ori')\n",
    "mode='valid'\n",
    "label_fpath = mypath.save_label_fpath(mode)\n",
    "pred_fpath = mypath.save_pred_fpath(mode)\n",
    "ignore_1st_column = True"
   ]
  },
  {
   "cell_type": "code",
   "execution_count": 39,
   "metadata": {},
   "outputs": [
    {
     "data": {
      "text/plain": [
       "'/home/jjia/data/lung_function/lung_function/scripts/results/experiments/1387/valid_label.csv'"
      ]
     },
     "execution_count": 39,
     "metadata": {},
     "output_type": "execute_result"
    }
   ],
   "source": [
    "label_fpath"
   ]
  },
  {
   "cell_type": "code",
   "execution_count": 40,
   "metadata": {},
   "outputs": [],
   "source": [
    "icc_dict = {}\n",
    "\n",
    "label = pd.read_csv(label_fpath)\n",
    "pred = pd.read_csv(pred_fpath)\n",
    "if ignore_1st_column:\n",
    "    pred = pred.iloc[: , 1:]\n",
    "    label = label.iloc[: , 1:]\n",
    "if 'ID' == label.columns[0]:\n",
    "    del label[\"ID\"]\n",
    "if 'ID' == pred.columns[0]:\n",
    "    del pred[\"ID\"]\n"
   ]
  },
  {
   "cell_type": "code",
   "execution_count": 41,
   "metadata": {},
   "outputs": [
    {
     "data": {
      "text/html": [
       "<div>\n",
       "<style scoped>\n",
       "    .dataframe tbody tr th:only-of-type {\n",
       "        vertical-align: middle;\n",
       "    }\n",
       "\n",
       "    .dataframe tbody tr th {\n",
       "        vertical-align: top;\n",
       "    }\n",
       "\n",
       "    .dataframe thead th {\n",
       "        text-align: right;\n",
       "    }\n",
       "</style>\n",
       "<table border=\"1\" class=\"dataframe\">\n",
       "  <thead>\n",
       "    <tr style=\"text-align: right;\">\n",
       "      <th></th>\n",
       "      <th>FVC</th>\n",
       "      <th>DLCO_SB</th>\n",
       "      <th>FEV1</th>\n",
       "      <th>TLC_He</th>\n",
       "    </tr>\n",
       "  </thead>\n",
       "  <tbody>\n",
       "    <tr>\n",
       "      <th>0</th>\n",
       "      <td>1.348</td>\n",
       "      <td>1.816</td>\n",
       "      <td>0.9956</td>\n",
       "      <td>2.150</td>\n",
       "    </tr>\n",
       "    <tr>\n",
       "      <th>1</th>\n",
       "      <td>2.766</td>\n",
       "      <td>4.695</td>\n",
       "      <td>2.1300</td>\n",
       "      <td>3.871</td>\n",
       "    </tr>\n",
       "    <tr>\n",
       "      <th>2</th>\n",
       "      <td>2.480</td>\n",
       "      <td>3.746</td>\n",
       "      <td>1.8460</td>\n",
       "      <td>3.758</td>\n",
       "    </tr>\n",
       "    <tr>\n",
       "      <th>3</th>\n",
       "      <td>3.191</td>\n",
       "      <td>5.066</td>\n",
       "      <td>2.3980</td>\n",
       "      <td>4.740</td>\n",
       "    </tr>\n",
       "    <tr>\n",
       "      <th>4</th>\n",
       "      <td>2.209</td>\n",
       "      <td>3.424</td>\n",
       "      <td>1.6660</td>\n",
       "      <td>3.287</td>\n",
       "    </tr>\n",
       "    <tr>\n",
       "      <th>...</th>\n",
       "      <td>...</td>\n",
       "      <td>...</td>\n",
       "      <td>...</td>\n",
       "      <td>...</td>\n",
       "    </tr>\n",
       "    <tr>\n",
       "      <th>58</th>\n",
       "      <td>2.543</td>\n",
       "      <td>4.105</td>\n",
       "      <td>1.9340</td>\n",
       "      <td>3.695</td>\n",
       "    </tr>\n",
       "    <tr>\n",
       "      <th>59</th>\n",
       "      <td>2.860</td>\n",
       "      <td>4.887</td>\n",
       "      <td>2.2190</td>\n",
       "      <td>3.960</td>\n",
       "    </tr>\n",
       "    <tr>\n",
       "      <th>60</th>\n",
       "      <td>2.797</td>\n",
       "      <td>4.800</td>\n",
       "      <td>2.1780</td>\n",
       "      <td>3.865</td>\n",
       "    </tr>\n",
       "    <tr>\n",
       "      <th>61</th>\n",
       "      <td>2.242</td>\n",
       "      <td>3.690</td>\n",
       "      <td>1.7100</td>\n",
       "      <td>3.248</td>\n",
       "    </tr>\n",
       "    <tr>\n",
       "      <th>62</th>\n",
       "      <td>1.583</td>\n",
       "      <td>1.973</td>\n",
       "      <td>1.1320</td>\n",
       "      <td>2.750</td>\n",
       "    </tr>\n",
       "  </tbody>\n",
       "</table>\n",
       "<p>63 rows × 4 columns</p>\n",
       "</div>"
      ],
      "text/plain": [
       "      FVC  DLCO_SB    FEV1  TLC_He\n",
       "0   1.348    1.816  0.9956   2.150\n",
       "1   2.766    4.695  2.1300   3.871\n",
       "2   2.480    3.746  1.8460   3.758\n",
       "3   3.191    5.066  2.3980   4.740\n",
       "4   2.209    3.424  1.6660   3.287\n",
       "..    ...      ...     ...     ...\n",
       "58  2.543    4.105  1.9340   3.695\n",
       "59  2.860    4.887  2.2190   3.960\n",
       "60  2.797    4.800  2.1780   3.865\n",
       "61  2.242    3.690  1.7100   3.248\n",
       "62  1.583    1.973  1.1320   2.750\n",
       "\n",
       "[63 rows x 4 columns]"
      ]
     },
     "execution_count": 41,
     "metadata": {},
     "output_type": "execute_result"
    }
   ],
   "source": [
    "pred"
   ]
  },
  {
   "cell_type": "code",
   "execution_count": 42,
   "metadata": {},
   "outputs": [
    {
     "data": {
      "text/html": [
       "<div>\n",
       "<style scoped>\n",
       "    .dataframe tbody tr th:only-of-type {\n",
       "        vertical-align: middle;\n",
       "    }\n",
       "\n",
       "    .dataframe tbody tr th {\n",
       "        vertical-align: top;\n",
       "    }\n",
       "\n",
       "    .dataframe thead th {\n",
       "        text-align: right;\n",
       "    }\n",
       "</style>\n",
       "<table border=\"1\" class=\"dataframe\">\n",
       "  <thead>\n",
       "    <tr style=\"text-align: right;\">\n",
       "      <th></th>\n",
       "      <th>FVC</th>\n",
       "      <th>DLCO_SB</th>\n",
       "      <th>FEV1</th>\n",
       "      <th>TLC_He</th>\n",
       "    </tr>\n",
       "  </thead>\n",
       "  <tbody>\n",
       "    <tr>\n",
       "      <th>0</th>\n",
       "      <td>2.752</td>\n",
       "      <td>6.502</td>\n",
       "      <td>2.507</td>\n",
       "      <td>3.619</td>\n",
       "    </tr>\n",
       "    <tr>\n",
       "      <th>1</th>\n",
       "      <td>3.501</td>\n",
       "      <td>7.433</td>\n",
       "      <td>2.982</td>\n",
       "      <td>4.401</td>\n",
       "    </tr>\n",
       "    <tr>\n",
       "      <th>2</th>\n",
       "      <td>2.738</td>\n",
       "      <td>5.531</td>\n",
       "      <td>1.827</td>\n",
       "      <td>5.064</td>\n",
       "    </tr>\n",
       "    <tr>\n",
       "      <th>3</th>\n",
       "      <td>4.519</td>\n",
       "      <td>6.942</td>\n",
       "      <td>3.611</td>\n",
       "      <td>6.180</td>\n",
       "    </tr>\n",
       "    <tr>\n",
       "      <th>4</th>\n",
       "      <td>3.480</td>\n",
       "      <td>3.926</td>\n",
       "      <td>2.596</td>\n",
       "      <td>5.350</td>\n",
       "    </tr>\n",
       "    <tr>\n",
       "      <th>...</th>\n",
       "      <td>...</td>\n",
       "      <td>...</td>\n",
       "      <td>...</td>\n",
       "      <td>...</td>\n",
       "    </tr>\n",
       "    <tr>\n",
       "      <th>58</th>\n",
       "      <td>3.181</td>\n",
       "      <td>4.441</td>\n",
       "      <td>2.218</td>\n",
       "      <td>5.362</td>\n",
       "    </tr>\n",
       "    <tr>\n",
       "      <th>59</th>\n",
       "      <td>4.153</td>\n",
       "      <td>7.087</td>\n",
       "      <td>3.135</td>\n",
       "      <td>5.585</td>\n",
       "    </tr>\n",
       "    <tr>\n",
       "      <th>60</th>\n",
       "      <td>3.204</td>\n",
       "      <td>6.731</td>\n",
       "      <td>3.200</td>\n",
       "      <td>5.525</td>\n",
       "    </tr>\n",
       "    <tr>\n",
       "      <th>61</th>\n",
       "      <td>2.349</td>\n",
       "      <td>3.230</td>\n",
       "      <td>1.660</td>\n",
       "      <td>3.131</td>\n",
       "    </tr>\n",
       "    <tr>\n",
       "      <th>62</th>\n",
       "      <td>1.779</td>\n",
       "      <td>2.184</td>\n",
       "      <td>1.448</td>\n",
       "      <td>2.345</td>\n",
       "    </tr>\n",
       "  </tbody>\n",
       "</table>\n",
       "<p>63 rows × 4 columns</p>\n",
       "</div>"
      ],
      "text/plain": [
       "      FVC  DLCO_SB   FEV1  TLC_He\n",
       "0   2.752    6.502  2.507   3.619\n",
       "1   3.501    7.433  2.982   4.401\n",
       "2   2.738    5.531  1.827   5.064\n",
       "3   4.519    6.942  3.611   6.180\n",
       "4   3.480    3.926  2.596   5.350\n",
       "..    ...      ...    ...     ...\n",
       "58  3.181    4.441  2.218   5.362\n",
       "59  4.153    7.087  3.135   5.585\n",
       "60  3.204    6.731  3.200   5.525\n",
       "61  2.349    3.230  1.660   3.131\n",
       "62  1.779    2.184  1.448   2.345\n",
       "\n",
       "[63 rows x 4 columns]"
      ]
     },
     "execution_count": 42,
     "metadata": {},
     "output_type": "execute_result"
    }
   ],
   "source": [
    "label"
   ]
  },
  {
   "cell_type": "code",
   "execution_count": 43,
   "metadata": {},
   "outputs": [
    {
     "data": {
      "image/png": "[encoded data removed]",
      "text/plain": [
       "<Figure size 2000x500 with 4 Axes>"
      ]
     },
     "metadata": {},
     "output_type": "display_data"
    }
   ],
   "source": [
    "%matplotlib inline\n",
    "fg = plt.figure(figsize=(20,5))\n",
    "for idx, i in enumerate(['DLCO_SB', 'FEV1', 'FVC', 'TLC_He']):\n",
    "    ax = fg.add_subplot(1,4,idx+1) \n",
    "\n",
    "    ax.scatter(label[i], pred[i])\n",
    "    max_v = max(label[i].max(), pred[i].max())\n",
    "    # print(max_v)\n",
    "    ax.plot([0,max_v], [0, max_v])\n",
    "plt.show()"
   ]
  },
  {
   "cell_type": "code",
   "execution_count": 44,
   "metadata": {},
   "outputs": [
    {
     "data": {
      "text/plain": [
       "7.883"
      ]
     },
     "execution_count": 44,
     "metadata": {},
     "output_type": "execute_result"
    }
   ],
   "source": [
    "max_v"
   ]
  },
  {
   "cell_type": "code",
   "execution_count": 45,
   "metadata": {},
   "outputs": [],
   "source": [
    "\n",
    "original_columns = label.columns\n",
    "\n",
    "# ori_columns = list(label.columns)\n",
    "\n",
    "label['ID'] = np.arange(1, len(label) + 1)\n",
    "label['rater'] = 'label'\n",
    "\n",
    "pred['ID'] = np.arange(1, len(pred) + 1)\n",
    "pred['rater'] = 'pred'\n",
    "\n",
    "data = pd.concat([label, pred], axis=0)\n",
    "\n",
    "for column in original_columns:\n",
    "    icc = pg.intraclass_corr(data=data, targets='ID', raters='rater', ratings=column).round(2)\n",
    "    icc = icc.set_index(\"Type\")\n",
    "    icc = icc.loc['ICC2']['ICC']\n",
    "    prefix = label_fpath.split(\"/\")[-1].split(\"_\")[0]\n",
    "    icc_dict['icc_' + prefix + '_' + column] = icc"
   ]
  },
  {
   "cell_type": "code",
   "execution_count": 46,
   "metadata": {},
   "outputs": [
    {
     "data": {
      "text/plain": [
       "{'icc_valid_FVC': 0.28,\n",
       " 'icc_valid_DLCO_SB': 0.3,\n",
       " 'icc_valid_FEV1': 0.22,\n",
       " 'icc_valid_TLC_He': 0.22}"
      ]
     },
     "execution_count": 46,
     "metadata": {},
     "output_type": "execute_result"
    }
   ],
   "source": [
    "icc_dict"
   ]
  }
 ],
 "metadata": {
  "kernelspec": {
   "display_name": "Python 3",
   "language": "python",
   "name": "python3"
  },
  "language_info": {
   "codemirror_mode": {
    "name": "ipython",
    "version": 3
   },
   "file_extension": ".py",
   "mimetype": "text/x-python",
   "name": "python",
   "nbconvert_exporter": "python",
   "pygments_lexer": "ipython3",
   "version": "3.8.13 (default, Mar 28 2022, 11:38:47) \n[GCC 7.5.0]"
  },
  "orig_nbformat": 4,
  "vscode": {
   "interpreter": {
    "hash": "f7237c9972df760705e03bb27a8e106ab1bc3793b010c014a347ab079be8db1a"
   }
  }
 },
 "nbformat": 4,
 "nbformat_minor": 2
}
