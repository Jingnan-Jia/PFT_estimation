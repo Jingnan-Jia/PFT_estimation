{
 "cells": [
  {
   "cell_type": "code",
   "execution_count": null,
   "metadata": {},
   "outputs": [],
   "source": []
  },
  {
   "attachments": {},
   "cell_type": "markdown",
   "metadata": {},
   "source": [
    "## remove the false positive values (over-segmentated vessels) and only keep the big correct vessels"
   ]
  },
  {
   "attachments": {},
   "cell_type": "markdown",
   "metadata": {},
   "source": []
  },
  {
   "cell_type": "code",
   "execution_count": 161,
   "metadata": {},
   "outputs": [],
   "source": [
    "import numpy as np\n",
    "import pickle\n",
    "import matplotlib.pyplot as plt\n",
    "from scipy.ndimage import label\n",
    "from medutils.medutils import load_itk, save_itk\n"
   ]
  },
  {
   "cell_type": "code",
   "execution_count": 4,
   "metadata": {},
   "outputs": [],
   "source": [
    "img_fpath = \"/home/jjia/data/dataset/lung_function/ori_resolution/SSc_patient_6484444_skeleton_coordinates.pt\"\n",
    "with open(img_fpath, 'rb') as f:\n",
    "    data_dt = pickle.load(f)\n",
    "    "
   ]
  },
  {
   "cell_type": "code",
   "execution_count": 5,
   "metadata": {},
   "outputs": [
    {
     "data": {
      "text/plain": [
       "dict_keys(['data', 'origin', 'spacing'])"
      ]
     },
     "execution_count": 5,
     "metadata": {},
     "output_type": "execute_result"
    }
   ],
   "source": [
    "data_dt.keys()"
   ]
  },
  {
   "cell_type": "code",
   "execution_count": 8,
   "metadata": {},
   "outputs": [],
   "source": [
    "vs = data_dt['data']"
   ]
  },
  {
   "cell_type": "code",
   "execution_count": 13,
   "metadata": {},
   "outputs": [],
   "source": [
    "# 获取最后一列的索引值\n",
    "r_column = vs[:, -1]\n",
    "sorted_indices = np.argsort(-r_column)  # from biggest to smallest\n"
   ]
  },
  {
   "cell_type": "code",
   "execution_count": 18,
   "metadata": {},
   "outputs": [],
   "source": [
    "vs_sorted = vs[sorted_indices]"
   ]
  },
  {
   "cell_type": "code",
   "execution_count": 25,
   "metadata": {},
   "outputs": [],
   "source": [
    "vs_big = vs_sorted[vs_sorted[:, -1]>3]"
   ]
  },
  {
   "cell_type": "code",
   "execution_count": 26,
   "metadata": {},
   "outputs": [
    {
     "data": {
      "text/plain": [
       "8155"
      ]
     },
     "execution_count": 26,
     "metadata": {},
     "output_type": "execute_result"
    }
   ],
   "source": [
    "len(vs_big)"
   ]
  },
  {
   "cell_type": "code",
   "execution_count": 27,
   "metadata": {},
   "outputs": [
    {
     "data": {
      "text/plain": [
       "58388"
      ]
     },
     "execution_count": 27,
     "metadata": {},
     "output_type": "execute_result"
    }
   ],
   "source": [
    "len(vs_sorted)"
   ]
  },
  {
   "cell_type": "code",
   "execution_count": 39,
   "metadata": {},
   "outputs": [
    {
     "data": {
      "image/png": "[encoded data removed]",
      "text/plain": [
       "<Figure size 640x480 with 1 Axes>"
      ]
     },
     "metadata": {},
     "output_type": "display_data"
    }
   ],
   "source": [
    "\n",
    "plt.figure()\n",
    "plt.hist(vs_sorted[:,-1], bins=100)\n",
    "plt.yscale('log')\n",
    "plt.show()\n"
   ]
  },
  {
   "cell_type": "code",
   "execution_count": 41,
   "metadata": {},
   "outputs": [
    {
     "data": {
      "image/png": "[encoded data removed]",
      "text/plain": [
       "<Figure size 640x480 with 1 Axes>"
      ]
     },
     "metadata": {},
     "output_type": "display_data"
    }
   ],
   "source": [
    "\n",
    "plt.figure()\n",
    "plt.hist(vs_big[:,-1], bins=100)\n",
    "plt.yscale('log')\n",
    "plt.show()\n"
   ]
  },
  {
   "cell_type": "code",
   "execution_count": 170,
   "metadata": {},
   "outputs": [],
   "source": [
    "def find_largest_connected_regions(point_cloud, num_regions):\n",
    "\n",
    "    xmax, ymax, zmax, rmax = np.max(point_cloud, 0)\n",
    "\n",
    "    reconstructed_xyz = np.zeros((int(xmax)+1, int(ymax)+1, int(zmax)+1))\n",
    "    for point in point_cloud:\n",
    "        x, y, z, r = point\n",
    "        reconstructed_xyz[int(x), int(y), int(z)] = r\n",
    "\n",
    "    # 标记连通区域\n",
    "    labeled_array, num_labels = label(reconstructed_xyz, structure=np.ones((3,3,3)))\n",
    "    print('connected regions numbers:', num_labels)\n",
    "\n",
    "    # 统计每个连通区域的像素数量\n",
    "    region_sizes = np.bincount(labeled_array.flatten())\n",
    "\n",
    "    # 获取前num_regions个最大连通区域的索引\n",
    "    largest_regions = np.argsort(region_sizes)[::-1][:num_regions]\n",
    "\n",
    "\n",
    "    # 提取前num_regions个最大连通区域的点云\n",
    "    regions_point_cloud = []\n",
    "    for region_index in largest_regions:\n",
    "        if region_index==0:\n",
    "            continue\n",
    "        region_points = reconstructed_xyz * (labeled_array == region_index)\n",
    "        regions_point_cloud.append(region_points)\n",
    "\n",
    "    return regions_point_cloud\n"
   ]
  },
  {
   "cell_type": "code",
   "execution_count": 171,
   "metadata": {},
   "outputs": [
    {
     "name": "stdout",
     "output_type": "stream",
     "text": [
      "connected regions numbers: 320\n"
     ]
    }
   ],
   "source": [
    "# 获取前10个最大连通区域的点云\n",
    "connected_regions = find_largest_connected_regions(vs_big, 10)\n"
   ]
  },
  {
   "cell_type": "code",
   "execution_count": 179,
   "metadata": {},
   "outputs": [
    {
     "name": "stdout",
     "output_type": "stream",
     "text": [
      "3608.8281302452087\n"
     ]
    }
   ],
   "source": [
    "import copy\n",
    "tmp = copy.deepcopy(connected_regions[1])\n",
    "print(tmp.sum())\n",
    "tmp[tmp>0]=1"
   ]
  },
  {
   "cell_type": "code",
   "execution_count": 180,
   "metadata": {},
   "outputs": [
    {
     "data": {
      "text/plain": [
       "857.0"
      ]
     },
     "execution_count": 180,
     "metadata": {},
     "output_type": "execute_result"
    }
   ],
   "source": [
    "tmp.sum()"
   ]
  },
  {
   "cell_type": "code",
   "execution_count": 178,
   "metadata": {},
   "outputs": [],
   "source": [
    "save_itk(filename='/home/jjia/data/lung_function/lung_function/scripts/jupyter_notebooks/test_big_vs0.mha', scan=tmp, origin=data_dt['origin'], spacing=data_dt['spacing'])"
   ]
  },
  {
   "cell_type": "code",
   "execution_count": 66,
   "metadata": {},
   "outputs": [],
   "source": [
    "b = a[a>3]"
   ]
  },
  {
   "cell_type": "code",
   "execution_count": 67,
   "metadata": {},
   "outputs": [
    {
     "data": {
      "text/plain": [
       "array([4, 5])"
      ]
     },
     "execution_count": 67,
     "metadata": {},
     "output_type": "execute_result"
    }
   ],
   "source": [
    "b"
   ]
  },
  {
   "cell_type": "code",
   "execution_count": null,
   "metadata": {},
   "outputs": [],
   "source": []
  }
 ],
 "metadata": {
  "kernelspec": {
   "display_name": "py38",
   "language": "python",
   "name": "python3"
  },
  "language_info": {
   "codemirror_mode": {
    "name": "ipython",
    "version": 3
   },
   "file_extension": ".py",
   "mimetype": "text/x-python",
   "name": "python",
   "nbconvert_exporter": "python",
   "pygments_lexer": "ipython3",
   "version": "3.8.13"
  },
  "orig_nbformat": 4
 },
 "nbformat": 4,
 "nbformat_minor": 2
}
