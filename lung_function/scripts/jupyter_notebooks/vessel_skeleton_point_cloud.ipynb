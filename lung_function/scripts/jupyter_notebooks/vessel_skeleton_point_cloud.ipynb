{
 "cells": [
  {
   "cell_type": "code",
   "execution_count": 1,
   "metadata": {},
   "outputs": [
    {
     "name": "stderr",
     "output_type": "stream",
     "text": [
      "The package pingouin is out of date. Your version is 0.5.2, the latest is 0.5.3.\n",
      "Set the environment variable OUTDATED_IGNORE=1 to disable these warnings.\n",
      "The package outdated is out of date. Your version is 0.2.1, the latest is 0.2.2.\n",
      "Set the environment variable OUTDATED_IGNORE=1 to disable these warnings.\n"
     ]
    }
   ],
   "source": [
    "import numpy as np\n",
    "from glob import glob\n",
    "from skimage.morphology import skeletonize_3d\n",
    "from medutils.medutils import load_itk, save_itk\n",
    "import SimpleITK as sitk\n",
    "import itk\n",
    "from tqdm import tqdm\n",
    "import matplotlib.pyplot as plt\n",
    "from skimage.morphology import disk,diamond,rectangle,square,erosion,dilation,opening,closing,skeletonize\n",
    "import pickle\n",
    "import torch"
   ]
  },
  {
   "cell_type": "code",
   "execution_count": 72,
   "metadata": {},
   "outputs": [
    {
     "data": {
      "image/png": "[encoded data removed]",
      "text/plain": [
       "<Figure size 432x432 with 1 Axes>"
      ]
     },
     "metadata": {
      "needs_background": "light"
     },
     "output_type": "display_data"
    }
   ],
   "source": [
    "se = disk(20)  # radius=20\n",
    "plt.figure(figsize=(6,6))\n",
    "plt.imshow(se, cmap='gray')\n",
    "plt.title('disk-shaped structuring element')\n",
    "plt.axis('off')\n",
    "plt.show()"
   ]
  },
  {
   "cell_type": "code",
   "execution_count": 73,
   "metadata": {},
   "outputs": [],
   "source": [
    "b = [se for i in range(1000)]"
   ]
  },
  {
   "cell_type": "code",
   "execution_count": 74,
   "metadata": {},
   "outputs": [],
   "source": [
    "c = np.array(b)"
   ]
  },
  {
   "cell_type": "code",
   "execution_count": 75,
   "metadata": {},
   "outputs": [
    {
     "data": {
      "text/plain": [
       "(1000, 41, 41)"
      ]
     },
     "execution_count": 75,
     "metadata": {},
     "output_type": "execute_result"
    }
   ],
   "source": [
    "c.shape"
   ]
  },
  {
   "cell_type": "code",
   "execution_count": 76,
   "metadata": {},
   "outputs": [
    {
     "data": {
      "image/png": "[encoded data removed]",
      "text/plain": [
       "<Figure size 432x432 with 1 Axes>"
      ]
     },
     "metadata": {
      "needs_background": "light"
     },
     "output_type": "display_data"
    }
   ],
   "source": [
    "plt.figure(figsize=(6,6))\n",
    "plt.imshow(c[5], cmap='gray')\n",
    "plt.title('disk-shaped structuring element')\n",
    "plt.axis('off')\n",
    "plt.show()"
   ]
  },
  {
   "cell_type": "code",
   "execution_count": null,
   "metadata": {},
   "outputs": [],
   "source": []
  },
  {
   "cell_type": "code",
   "execution_count": 77,
   "metadata": {},
   "outputs": [],
   "source": [
    "ori1 = np.array([0.,0.,0.])\n",
    "sp1 = np.array([1.,1.,1.])\n",
    "fpath1 = 'results/cylinder_sp1.mha'\n",
    "save_itk(fpath1, c, ori1, sp1)"
   ]
  },
  {
   "cell_type": "code",
   "execution_count": 78,
   "metadata": {},
   "outputs": [],
   "source": [
    "ori2 = ori1\n",
    "sp2 = np.array([20.,20.,20.])\n",
    "fpath2 = 'results/cylinder_sp2.mha'\n",
    "save_itk(fpath2, c, ori2, sp2)"
   ]
  },
  {
   "cell_type": "code",
   "execution_count": 79,
   "metadata": {},
   "outputs": [
    {
     "name": "stderr",
     "output_type": "stream",
     "text": [
      "Downcasting int16 to uint8 without scaling because max value 1 fits in uint8\n"
     ]
    }
   ],
   "source": [
    "image1_itk = itk.imread(fpath1)\n",
    "skeleton1_itk = itk.MedialThicknessImageFilter3D.New(image1_itk)\n",
    "itk.imwrite(skeleton1_itk, fpath1.replace('.mha', '_skeleton_itk.mha'))\n",
    "\n",
    "\n",
    "image1_sitk = sitk.ReadImage(fpath1)\n",
    "image1_np = sitk.GetArrayFromImage(image1_sitk)\n",
    "skeleton1_ski = skeletonize_3d(image1_np)\n",
    "save_itk(fpath1.replace('.mha', '_skeleton_ski.mha'), skeleton1_ski, ori1, sp1)"
   ]
  },
  {
   "cell_type": "code",
   "execution_count": 80,
   "metadata": {},
   "outputs": [],
   "source": [
    "image2_itk = itk.imread(fpath2)\n",
    "skeleton2_itk = itk.MedialThicknessImageFilter3D.New(image2_itk)\n",
    "itk.imwrite(skeleton2_itk, fpath2.replace('.mha', '_skeleton_itk.mha'))\n",
    "\n",
    "image2_sitk = sitk.ReadImage(fpath2)\n",
    "image2_np = sitk.GetArrayFromImage(image2_sitk)\n",
    "skeleton2_ski = skeletonize_3d(image2_np)\n",
    "save_itk(fpath2.replace('.mha', '_skeleton_ski.mha'), skeleton2_ski, ori2, sp2)"
   ]
  },
  {
   "cell_type": "code",
   "execution_count": 81,
   "metadata": {},
   "outputs": [
    {
     "data": {
      "text/plain": [
       "(1000, 41, 41)"
      ]
     },
     "execution_count": 81,
     "metadata": {},
     "output_type": "execute_result"
    }
   ],
   "source": [
    "skeleton2_ski.shape"
   ]
  },
  {
   "cell_type": "code",
   "execution_count": 82,
   "metadata": {},
   "outputs": [],
   "source": [
    "x,y,z = skeleton2_ski.shape"
   ]
  },
  {
   "cell_type": "code",
   "execution_count": 83,
   "metadata": {},
   "outputs": [],
   "source": [
    "xs, ys, zs = np.mgrid[:x, :y, :z]"
   ]
  },
  {
   "cell_type": "code",
   "execution_count": 84,
   "metadata": {},
   "outputs": [],
   "source": [
    "out = np.column_stack((xs.ravel(),ys.ravel(),zs.ravel(), skeleton2_ski.ravel()))"
   ]
  },
  {
   "cell_type": "code",
   "execution_count": 85,
   "metadata": {},
   "outputs": [
    {
     "data": {
      "text/plain": [
       "array([[  0,   0,   0,   0],\n",
       "       [  0,   0,   1,   0],\n",
       "       [  0,   0,   2,   0],\n",
       "       ...,\n",
       "       [999,  40,  38,   0],\n",
       "       [999,  40,  39,   0],\n",
       "       [999,  40,  40,   0]])"
      ]
     },
     "execution_count": 85,
     "metadata": {},
     "output_type": "execute_result"
    }
   ],
   "source": [
    "out\n"
   ]
  },
  {
   "cell_type": "code",
   "execution_count": 86,
   "metadata": {},
   "outputs": [],
   "source": [
    "out2=np.array([i for i in out if i[-1]>0])"
   ]
  },
  {
   "cell_type": "code",
   "execution_count": 87,
   "metadata": {},
   "outputs": [
    {
     "data": {
      "text/plain": [
       "array([[ 13,  20,  20,   1],\n",
       "       [ 14,  20,  20,   1],\n",
       "       [ 15,  20,  20,   1],\n",
       "       ...,\n",
       "       [984,  20,  20,   1],\n",
       "       [985,  20,  20,   1],\n",
       "       [986,  20,  20,   1]])"
      ]
     },
     "execution_count": 87,
     "metadata": {},
     "output_type": "execute_result"
    }
   ],
   "source": [
    "out2"
   ]
  },
  {
   "cell_type": "code",
   "execution_count": null,
   "metadata": {},
   "outputs": [],
   "source": []
  },
  {
   "attachments": {},
   "cell_type": "markdown",
   "metadata": {},
   "source": [
    "# Vessel skeletonization"
   ]
  },
  {
   "cell_type": "code",
   "execution_count": null,
   "metadata": {},
   "outputs": [],
   "source": [
    "from multiprocessing import Pool, Queue, Process, Value, Array, Manager, Lock\n",
    "from glob import glob\n",
    "from skimage.morphology import skeletonize_3d\n",
    "from medutils.medutils import load_itk, save_itk\n",
    "import itk\n",
    "import SimpleITK as sitk\n",
    "from tqdm import tqdm\n",
    "\n",
    "def skeleton(file_q, process_lock):\n",
    "    while True:\n",
    "        file = None\n",
    "        with process_lock:\n",
    "            if not file_q.empty():\n",
    "                file = file_q.get()\n",
    "        if file:\n",
    "            pass\n",
    "        else:\n",
    "            break\n",
    "\n",
    "def skeleton_vessel(file_fpath, out_fpath):\n",
    "    itkimage = itk.imread(file_fpath)\n",
    "    # itkimage = sitk.ReadImage(file_fpath)\n",
    "    print(file_fpath)\n",
    "    skeleton = itk.MedialThicknessImageFilter3D.New(itkimage)\n",
    "    itk.imwrite(skeleton, out_fpath)\n",
    "\n",
    "    \n",
    "    # img, ori, sp = load_itk(file_fpath, require_ori_sp=True)\n",
    "    # skeletonize_3d(img)\n",
    "\n",
    "def main():\n",
    "    vessel_HR_ls = sorted(glob(\"/home/jjia/data/dataset/lung_function/ori_resolution/SSc_patient_0422335.mha\"))\n",
    "    # vessel_HR_ls = [\"/home/jjia/data/dataset/lung_function/ori_resolution/SSc_patient_0422335.mha\",\n",
    "    # \"/home/jjia/data/dataset/lung_function/ori_resolution/SSc_patient_0456204.mha\",\n",
    "    # \"/home/jjia/data/dataset/lung_function/ori_resolution/SSc_patient_6216723.mha\",\n",
    "    # \"/home/jjia/data/dataset/lung_function/ori_resolution/SSc_patient_6318939.mha\"]\n",
    "    vessel_skeleton_ls = [i.replace('.mha', '_skeleton.mha') for i in vessel_HR_ls]\n",
    "    print(len(vessel_HR_ls))\n",
    "    pool = Pool(processes=4)\n",
    "\n",
    "    for source, target in zip(vessel_HR_ls, vessel_skeleton_ls):\n",
    "        # skeleton_vessel(source, target)\n",
    "        pool.apply_async(skeleton_vessel, args=(source, target, ))\n",
    "    pool.close()\n",
    "    pool.join()\n",
    "    print('finish')\n",
    "\n",
    "main()"
   ]
  },
  {
   "cell_type": "markdown",
   "metadata": {},
   "source": [
    "# Convert vessel skeleton to point cloud type: list of cooridanates and radius"
   ]
  },
  {
   "cell_type": "code",
   "execution_count": 12,
   "metadata": {},
   "outputs": [],
   "source": [
    "from glob import glob\n",
    "from tqdm import tqdm\n",
    "from medutils.medutils import load_itk, save_itk\n",
    "from multiprocessing import Pool, Queue, Process, Value, Array, Manager, Lock\n",
    "from glob import glob\n",
    "from skimage.morphology import skeletonize_3d\n",
    "import itk\n",
    "import SimpleITK as sitk\n",
    "from tqdm import tqdm\n",
    "import numpy as np\n",
    "import matplotlib.pyplot as plt\n",
    "import pickle\n",
    "import torch"
   ]
  },
  {
   "cell_type": "code",
   "execution_count": 21,
   "metadata": {},
   "outputs": [],
   "source": [
    "# vessel_skeleton_ls = glob('/home/jjia/data/dataset/lung_function/ori_resolution/SSc_patient_*_skeleton.mha')\n",
    "vessel_skeleton_ls = glob('/home/jjia/data/dataset/IntrA/annotated/obj/*_filled_img_skeleton.mha')\n"
   ]
  },
  {
   "cell_type": "code",
   "execution_count": 22,
   "metadata": {},
   "outputs": [
    {
     "data": {
      "text/plain": [
       "0"
      ]
     },
     "execution_count": 22,
     "metadata": {},
     "output_type": "execute_result"
    }
   ],
   "source": [
    "len(vessel_skeleton_ls)"
   ]
  },
  {
   "cell_type": "markdown",
   "metadata": {},
   "source": [
    "## Run all images"
   ]
  },
  {
   "cell_type": "code",
   "execution_count": 18,
   "metadata": {},
   "outputs": [
    {
     "name": "stderr",
     "output_type": "stream",
     "text": [
      "100%|██████████| 1673/1673 [04:39<00:00,  5.99it/s]\n"
     ]
    }
   ],
   "source": [
    "for skeleton_fpath in tqdm(vessel_skeleton_ls):\n",
    "    if not os.path.exists(skeleton_fpath.replace('.mha', '_coordinates.pt')):\n",
    "        skeleton, ori, sp = load_itk(skeleton_fpath, require_ori_sp=True)\n",
    "        x,y,z = skeleton.shape\n",
    "        xs, ys, zs = np.mgrid[:x, :y, :z]\n",
    "        out = np.column_stack((xs.ravel(),ys.ravel(),zs.ravel(), skeleton.ravel()))\n",
    "        out2= out[out[:, -1]>0]\n",
    "        out_dt = {'data': out2, 'origin':ori, 'spacing':sp}\n",
    "        pickle.dump(out_dt, open(skeleton_fpath.replace('.mha', '_coordinates.pt'), \"wb\"))\n",
    "\n",
    "        # np.save(skeleton_fpath.replace('.mha', '_coordinates.npy'), out2)"
   ]
  },
  {
   "cell_type": "code",
   "execution_count": 19,
   "metadata": {},
   "outputs": [
    {
     "name": "stderr",
     "output_type": "stream",
     "text": [
      "100%|██████████| 1673/1673 [00:16<00:00, 102.25it/s]\n"
     ]
    }
   ],
   "source": [
    "len_ls = []\n",
    "for skeleton_fpath in tqdm(vessel_skeleton_ls):\n",
    "    pth = skeleton_fpath.replace('.mha', '_coordinates.pt')\n",
    "    with open(pth, 'rb') as f:\n",
    "        data_dt = pickle.load(f)\n",
    "    a = len(data_dt['data'])\n",
    "    # print(a)\n",
    "    len_ls.append(a)\n",
    "\n"
   ]
  },
  {
   "cell_type": "code",
   "execution_count": 20,
   "metadata": {},
   "outputs": [
    {
     "data": {
      "image/png": "[encoded data removed]",
      "text/plain": [
       "<Figure size 640x480 with 1 Axes>"
      ]
     },
     "metadata": {},
     "output_type": "display_data"
    }
   ],
   "source": [
    "plt.figure()\n",
    "plt.scatter(x=range(len(len_ls)), y=len_ls)\n",
    "plt.show()"
   ]
  },
  {
   "cell_type": "code",
   "execution_count": 12,
   "metadata": {},
   "outputs": [
    {
     "data": {
      "text/plain": [
       "[974385,\n",
       " 829135,\n",
       " 587528,\n",
       " 519476,\n",
       " 450324,\n",
       " 354677,\n",
       " 273243,\n",
       " 231410,\n",
       " 217551,\n",
       " 192917,\n",
       " 162560,\n",
       " 158006,\n",
       " 150815,\n",
       " 142853,\n",
       " 141590,\n",
       " 140242,\n",
       " 139527,\n",
       " 137727,\n",
       " 137294,\n",
       " 134395]"
      ]
     },
     "execution_count": 12,
     "metadata": {},
     "output_type": "execute_result"
    }
   ],
   "source": [
    "sorted(len_ls)[::-1][:20]"
   ]
  },
  {
   "cell_type": "code",
   "execution_count": 13,
   "metadata": {},
   "outputs": [
    {
     "data": {
      "image/png": "[encoded data removed]",
      "text/plain": [
       "<Figure size 640x480 with 1 Axes>"
      ]
     },
     "metadata": {},
     "output_type": "display_data"
    }
   ],
   "source": [
    "len_ls_remove10highest = [i for i in len_ls if i < 170000]\n",
    "plt.figure()\n",
    "plt.scatter(x=range(len(len_ls_remove10highest)), y=len_ls_remove10highest)\n",
    "plt.show()"
   ]
  },
  {
   "attachments": {},
   "cell_type": "markdown",
   "metadata": {},
   "source": [
    "## Resample image to align input for PointNet\n",
    "I decided to select 120,000 as the number of points for all input images.\n",
    "So I need to upsample the majority of images to over 120,000 points then do some sampling (keep the original voxels!).\n",
    "\n",
    "**A challenge is that there is still some space to improve for the vessel segmentation results (remove fissures, remove noises, etc). If the vessel segmentation results were updated in the future, should I re-calculate the skeleton (20 mins per CT), save the results, re-upsampling (3 mins per CT) the skeleton results, save their results, and re-train the network?**\n",
    "\n",
    "No, I proposed a new and simple method to solve this issue efficiently."
   ]
  },
  {
   "cell_type": "code",
   "execution_count": 1,
   "metadata": {},
   "outputs": [
    {
     "name": "stderr",
     "output_type": "stream",
     "text": [
      "/home/jjia/.local/lib/python3.8/site-packages/outdated/utils.py:14: OutdatedPackageWarning: The package outdated is out of date. Your version is 0.2.1, the latest is 0.2.2.\n",
      "Set the environment variable OUTDATED_IGNORE=1 to disable these warnings.\n",
      "  return warn(\n",
      "0it [00:00, ?it/s]"
     ]
    },
    {
     "name": "stdout",
     "output_type": "stream",
     "text": [
      "/home/jjia/data/dataset/lung_function/ori_resolution/SSc_patient_0422335_skeleton.mha\n"
     ]
    },
    {
     "name": "stderr",
     "output_type": "stream",
     "text": [
      "22it [00:02,  8.60it/s]"
     ]
    },
    {
     "name": "stdout",
     "output_type": "stream",
     "text": [
      "/home/jjia/data/dataset/lung_function/ori_resolution/SSc_patient_0456204_skeleton.mha\n"
     ]
    },
    {
     "name": "stderr",
     "output_type": "stream",
     "text": [
      "23it [00:06,  2.93it/s]"
     ]
    },
    {
     "name": "stdout",
     "output_type": "stream",
     "text": [
      "/home/jjia/data/dataset/lung_function/ori_resolution/SSc_patient_6216723_skeleton.mha\n"
     ]
    },
    {
     "name": "stderr",
     "output_type": "stream",
     "text": [
      "204it [00:09, 27.60it/s]"
     ]
    },
    {
     "name": "stdout",
     "output_type": "stream",
     "text": [
      "/home/jjia/data/dataset/lung_function/ori_resolution/SSc_patient_6318939_skeleton.mha\n"
     ]
    },
    {
     "name": "stderr",
     "output_type": "stream",
     "text": [
      "333it [00:12, 27.38it/s]"
     ]
    },
    {
     "name": "stdout",
     "output_type": "stream",
     "text": [
      "finished\n"
     ]
    },
    {
     "name": "stderr",
     "output_type": "stream",
     "text": [
      "\n"
     ]
    }
   ],
   "source": [
    "import numpy as np\n",
    "import pickle\n",
    "from glob import glob\n",
    "from skimage.morphology import skeletonize_3d\n",
    "from medutils.medutils import load_itk, save_itk\n",
    "import SimpleITK as sitk\n",
    "import itk\n",
    "from tqdm import tqdm\n",
    "import matplotlib.pyplot as plt\n",
    "from skimage.morphology import disk,diamond,rectangle,square,erosion,dilation,opening,closing,skeletonize\n",
    "import time\n",
    "\n",
    "\n",
    "def interpolate(coor_all: np.ndarray, img: np.ndarray, target_points: int) -> np.ndarray:\n",
    "    need_point_nb = target_points - len(coor_all)\n",
    "    # print('needed points', need_point_nb)\n",
    "    factor = target_points //len(coor_all) + 1\n",
    "    added_point_ls = []\n",
    "    for coor in coor_all:\n",
    "        # print(len(added_point_ls))\n",
    "        if len(added_point_ls) < need_point_nb:\n",
    "            tmp_ls = interpolate_once(coor, img, factor)\n",
    "            added_point_ls.extend(tmp_ls)\n",
    "        else:\n",
    "            break\n",
    "        \n",
    "    added_points = np.array(added_point_ls)\n",
    "    assert len(added_points.shape) == len(coor_all.shape)\n",
    "    assert added_points.shape[1] == coor_all.shape[1]\n",
    "    out = np.concatenate((coor_all, added_points))\n",
    "    return out\n",
    "\n",
    "\n",
    "def interpolate_once(coor: np.ndarray, skl: np.ndarray, factor: int) -> list:\n",
    "    \"\"\"\n",
    "    We only do linear interpolation between two \"positive\" voxels.\n",
    "    \"\"\"\n",
    "    assert factor>=1\n",
    "\n",
    "    added_ls = []\n",
    "    z, y, x = int(coor[0]), int(coor[1]), int(coor[2])\n",
    "\n",
    "    pos_coor = np.argwhere(skl[z:z+2, y:y+2, x:x+2]>0)   # if there is any neighboring positive values, do the interpolation\n",
    "    # convert the relative cooridate to global one\n",
    "    pos_coor += np.array([z,y,x])\n",
    "     \n",
    "    if len(pos_coor)>1:\n",
    "        for i in pos_coor[1:]:\n",
    "            # print('i', i)\n",
    "            # print('zyx',z,y,x)\n",
    "            # print(skl.shape)\n",
    "            coor_change = (pos_coor[0] - i) / factor  # if only need 1 interpolation\n",
    "            r_change = (skl[z,y,x] - skl[tuple(i)]) / factor\n",
    "            for j in range(1, factor):  # two times means insert one value for each voxel\n",
    "                if coor[0]%1!=0 or coor[1]%1!=0 or coor[2]%1!=0:\n",
    "                    tmp = np.append(i + coor_change * j * 0.5, skl[tuple(i)] + r_change * j * 0.5)\n",
    "                else:\n",
    "                    tmp = np.append(i + coor_change * j, skl[tuple(i)] + r_change * j)\n",
    "                added_ls.append(tmp) \n",
    "    return added_ls\n",
    "\n",
    "\n",
    "\n",
    "\n",
    "skl_cord_ls = sorted(glob('/home/jjia/data/dataset/lung_function/ori_resolution/SSc_patient_???????_skeleton_coordinates.pt'))\n",
    "skl_ls = sorted(glob('/home/jjia/data/dataset/lung_function/ori_resolution/SSc_patient_???????_skeleton.mha'))\n",
    "llss = []\n",
    "for skl_img, skl_cord_np in tqdm(zip(skl_ls, skl_cord_ls)):\n",
    "    # if '0422335' in skl_img or '0456204' in skl_img or '6216723' in skl_img or '6318939' in skl_img:\n",
    "    print(skl_img)\n",
    "    tmp = skl_cord_np\n",
    "    with open(tmp, 'rb') as handle:\n",
    "        a = pickle.load(handle)\n",
    "\n",
    "    x = a['data']\n",
    "    # print('x len', len(x))\n",
    "    np.take(x,np.random.permutation(x.shape[0]),axis=0,out=x)\n",
    "\n",
    "    skl, ori, sp = load_itk(skl_img, require_ori_sp=True)\n",
    "\n",
    "    tt = time.time()\n",
    "    if len(x)<140000:\n",
    "        new_coor_all = interpolate(coor_all=x, img=skl, target_points=140000) \n",
    "        # print('total points',len(new_coor_all))\n",
    "        if len(new_coor_all)<140000:  # second interpolation !!\n",
    "            print(f'{skl_cord_np} original point number: {len(x)}, first intplt: {len(new_coor_all)}')\n",
    "            new_coor_all = interpolate(coor_all=new_coor_all, img=skl, target_points=140000) \n",
    "            print(f\"second intplt: {len(new_coor_all)}\")\n",
    "        if len(new_coor_all)<140000:  # third interpolation !!\n",
    "            new_coor_all = interpolate(coor_all=new_coor_all, img=skl, target_points=140000) \n",
    "            print(f\"third intplt: {len(new_coor_all)}\")\n",
    "        if len(new_coor_all)<140000:\n",
    "            raise Exception(f\"Why?!\")\n",
    "\n",
    "        tt2 = time.time()\n",
    "        a['data'] = new_coor_all\n",
    "    else:\n",
    "        print(f\"{skl_cord_np} has over 140000 points, it is {len(x)}\")\n",
    "    llss.append(new_coor_all)\n",
    "    pickle.dump(a,open(f\"{skl_cord_np.replace('.pt', '140000.pt')}\", 'wb'))\n",
    "        # print('time cost', tt2-tt)\n",
    "print('finished')\n"
   ]
  },
  {
   "cell_type": "code",
   "execution_count": 17,
   "metadata": {},
   "outputs": [
    {
     "name": "stderr",
     "output_type": "stream",
     "text": [
      "100%|██████████| 333/333 [00:01<00:00, 307.17it/s]\n",
      "100%|██████████| 333/333 [00:01<00:00, 232.32it/s]\n"
     ]
    }
   ],
   "source": [
    "len_ls_ori = []\n",
    "for skeleton_fpath in tqdm(vessel_skeleton_ls):\n",
    "    pth = skeleton_fpath.replace('.mha', '_coordinates.pt')\n",
    "    with open(pth, 'rb') as f:\n",
    "        data_dt = pickle.load(f)\n",
    "    a = len(data_dt['data'])\n",
    "    # print(a)\n",
    "    len_ls_ori.append(a)\n",
    "\n",
    "len_ls = []\n",
    "for skeleton_fpath in tqdm(vessel_skeleton_ls):\n",
    "    pth = skeleton_fpath.replace('.mha', '_coordinates140000.pt')\n",
    "    with open(pth, 'rb') as f:\n",
    "        data_dt = pickle.load(f)\n",
    "    a = len(data_dt['data'])\n",
    "    # print(a)\n",
    "    len_ls.append(a)\n"
   ]
  },
  {
   "cell_type": "code",
   "execution_count": 20,
   "metadata": {},
   "outputs": [
    {
     "data": {
      "image/png": "[encoded data removed]",
      "text/plain": [
       "<Figure size 640x480 with 2 Axes>"
      ]
     },
     "metadata": {},
     "output_type": "display_data"
    }
   ],
   "source": [
    "plt.figure()\n",
    "ax1 = plt.subplot(2, 2, 1)\n",
    "ax1.scatter(x=range(len(len_ls_ori)), y=len_ls_ori)\n",
    "ax2 = plt.subplot(2, 2, 2)\n",
    "ax2.scatter(x=range(len(len_ls)), y=len_ls)\n",
    "ax2.sharey(ax1)\n",
    "plt.show()\n"
   ]
  },
  {
   "cell_type": "code",
   "execution_count": 11,
   "metadata": {},
   "outputs": [],
   "source": [
    "skl_ls = sorted(glob('/home/jjia/data/dataset/lung_function/ori_resolution/SSc_patient_???????_skeleton_coordinates140000.pt'))\n",
    "ori_ls = sorted(glob('/home/jjia/data/dataset/lung_function/ori_resolution/SSc_patient_???????_skeleton_coordinates140000.pt'))\n"
   ]
  },
  {
   "cell_type": "code",
   "execution_count": 20,
   "metadata": {},
   "outputs": [],
   "source": [
    "a = skl_ls[1]\n"
   ]
  },
  {
   "cell_type": "code",
   "execution_count": 21,
   "metadata": {},
   "outputs": [],
   "source": [
    "with open(a, 'rb') as f:\n",
    "    data_dt = pickle.load(f)\n"
   ]
  },
  {
   "cell_type": "code",
   "execution_count": 25,
   "metadata": {},
   "outputs": [],
   "source": [
    "tmp_ls = []\n",
    "for row in data_dt['data']:\n",
    "    if not row[0]%1 and not row[1]%1 and not row[2]%1:\n",
    "        tmp_ls.append(row)"
   ]
  },
  {
   "cell_type": "code",
   "execution_count": 28,
   "metadata": {},
   "outputs": [
    {
     "data": {
      "text/plain": [
       "62354"
      ]
     },
     "execution_count": 28,
     "metadata": {},
     "output_type": "execute_result"
    }
   ],
   "source": [
    "len(tmp_ls)"
   ]
  },
  {
   "cell_type": "code",
   "execution_count": null,
   "metadata": {},
   "outputs": [],
   "source": []
  }
 ],
 "metadata": {
  "kernelspec": {
   "display_name": "Python 3.8.13 64-bit",
   "language": "python",
   "name": "python3"
  },
  "language_info": {
   "codemirror_mode": {
    "name": "ipython",
    "version": 3
   },
   "file_extension": ".py",
   "mimetype": "text/x-python",
   "name": "python",
   "nbconvert_exporter": "python",
   "pygments_lexer": "ipython3",
   "version": "3.8.13 (default, Mar 28 2022, 11:38:47) \n[GCC 7.5.0]"
  },
  "orig_nbformat": 4,
  "vscode": {
   "interpreter": {
    "hash": "f7237c9972df760705e03bb27a8e106ab1bc3793b010c014a347ab079be8db1a"
   }
  }
 },
 "nbformat": 4,
 "nbformat_minor": 2
}
