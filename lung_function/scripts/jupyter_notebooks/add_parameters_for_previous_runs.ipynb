{
 "cells": [
  {
   "cell_type": "code",
   "execution_count": 3,
   "metadata": {},
   "outputs": [
    {
     "name": "stderr",
     "output_type": "stream",
     "text": [
      "/home/jjia/.local/lib/python3.8/site-packages/outdated/utils.py:14: OutdatedPackageWarning: The package pingouin is out of date. Your version is 0.5.2, the latest is 0.5.3.\n",
      "Set the environment variable OUTDATED_IGNORE=1 to disable these warnings.\n",
      "  return warn(\n",
      "/home/jjia/.local/lib/python3.8/site-packages/outdated/utils.py:14: OutdatedPackageWarning: The package outdated is out of date. Your version is 0.2.1, the latest is 0.2.2.\n",
      "Set the environment variable OUTDATED_IGNORE=1 to disable these warnings.\n",
      "  return warn(\n"
     ]
    }
   ],
   "source": [
    "import mlflow\n",
    "from lung_function.modules.compute_metrics import icc, metrics\n",
    "from mlflow import log_params\n",
    "import pandas as pd\n",
    "from pathlib import Path\n",
    "import numpy as np \n",
    "import pandas as pd\n",
    "from mlflow import MlflowClient\n"
   ]
  },
  {
   "cell_type": "code",
   "execution_count": 11,
   "metadata": {},
   "outputs": [],
   "source": [
    "parent_ids = [ 902, 904, 906, 908, 910, 912, 2521, 2527, 2529, 2532, 2534, 2536, 2538, 2540, 2542, 2568, 2570, 2572,\n",
    "2574, 2576, 2594, 2600, 2605, 2607, 2258, 2140, 2138, 2148, 2144, 2142, 2194, 2667, 2665, 2663, 2661, 2655, 2654, 2651,\n",
    "2649, 2647, 2645, 2643, 2714, 2712, 2710, 2740, 2742, 2732, 2733, 2663, 2654, 2655, 2661, 2758, 2756, 2754, 2752, 2750,\n",
    "2731, 2730, 2720, 2859, 2860, 2856, 2855, 2828, 2827, 2813, 2814, 2809, 2810, 2806, 2805, 2803, 2801, 2799, 2797, 2783,\n",
    "2780, 2779, 2777, 2775, 2758, ]\n",
    "parent_ids = [1303, 1308, 1458, 1460, 1503, 1513, 1516, 1526, 1538,1560,1577,1579,1585,1608,1610,1612,1614,1616,1633,\n",
    "              1635,1637,1639,1641,1648,1650,1652,1654,1656,1676,1678,1680,1682,1684,1687,1710,1714,1725,1753,1755,1757,\n",
    "              1786,1788,1790,1798,1800,1802,1812,1816,1840,1842,1844,1846,1848,1867,1865,1869,1882,1884,1896,1898,1908,\n",
    "              1910,1918,1927,1930,1932,1934,2203,2228,2321,2323,2325,2327,2329,2335,2339,2331,2353,2362,2364,2366,2368,\n",
    "              2370,2372,2408,2410,2432,2440,2450,2456,2460,2462,2464,2466,2468,2484,2486,2488]\n",
    "# parent_ids = [2758]\n",
    "parent_ids = [2984]\n",
    "parent_ids = [2536, 25]\n",
    "parent_ids = list(set(parent_ids))\n",
    "parent_ids.sort()"
   ]
  },
  {
   "cell_type": "code",
   "execution_count": 2,
   "metadata": {},
   "outputs": [],
   "source": [
    "parent_ids = [2750, 2731]"
   ]
  },
  {
   "cell_type": "code",
   "execution_count": 24,
   "metadata": {},
   "outputs": [
    {
     "data": {
      "text/plain": [
       "1"
      ]
     },
     "execution_count": 24,
     "metadata": {},
     "output_type": "execute_result"
    }
   ],
   "source": [
    "len(parent_ids)"
   ]
  },
  {
   "cell_type": "code",
   "execution_count": 5,
   "metadata": {},
   "outputs": [],
   "source": [
    "def child_run_id(parent_id: str, experiment, client):\n",
    "    \n",
    "    parent_run = client.search_runs(experiment_ids=[experiment.experiment_id], filter_string=f\"params.id = '{str(parent_id)}'\")[0]\n",
    "    runss = client.search_runs(experiment_ids=[experiment.experiment_id], filter_string=f\"tags.mlflow.parentRunId = '{parent_run.info.run_id}'\")  # 4 days after after the parent ID created \n",
    "    \n",
    "    if len(runss) == 4:  # all folds are there\n",
    "        out = {int(ru.data.params['fold']): int(ru.data.params['id']) for ru in runss}\n",
    "        out[0 ] = parent_id\n",
    "        print(f\"successfully found four folds runs for {parent_id}: {out}\")\n",
    "        return out\n",
    "    else:\n",
    "        tmp = {int(ru.data.params['fold']): int(ru.data.params['id']) for ru in runss}\n",
    "        print(f\"the searched runs for {parent_id} do not 4 folds, only has {len(runss)} folds: {tmp}\")\n",
    "        return None\n",
    "    \n",
    "     "
   ]
  },
  {
   "cell_type": "code",
   "execution_count": 12,
   "metadata": {},
   "outputs": [
    {
     "name": "stdout",
     "output_type": "stream",
     "text": [
      "successfully found four folds runs for 2529: {4: 2567, 3: 2557, 2: 2547, 1: 2530, 0: 2529}\n"
     ]
    }
   ],
   "source": [
    "mlflow.set_tracking_uri(\"http://nodelogin02:5000\")\n",
    "experiment = mlflow.set_experiment(\"lung_fun_db15\")\n",
    "client = MlflowClient()\n",
    "\n",
    "fold_ex_dt_ls = [ ]\n",
    "for parent_id in parent_ids[::-1]:\n",
    "    dt = child_run_id(parent_id, experiment, client)\n",
    "    if dt:\n",
    "        fold_ex_dt_ls.append(dt)\n"
   ]
  },
  {
   "attachments": {},
   "cell_type": "markdown",
   "metadata": {},
   "source": [
    "## merging 4 folds"
   ]
  },
  {
   "cell_type": "code",
   "execution_count": 6,
   "metadata": {},
   "outputs": [],
   "source": [
    "def ensemble_4folds_testing(fold_ex_dt_ls):\n",
    "    parent_dir = '/home/jjia/data/lung_function/lung_function/scripts/results/experiments/'\n",
    "\n",
    "    for fold_ex_dt in fold_ex_dt_ls:\n",
    "        dir0 = parent_dir + str(fold_ex_dt[0])\n",
    "        label_fpath = dir0  + '/test_label.csv'\n",
    "        ave_fpath =dir0  + '/test_pred.csv'\n",
    "        output_file_path = Path(ave_fpath)\n",
    "        output_file_path.parent.mkdir(parents=True, exist_ok=True)\n",
    "        \n",
    "        df_ls = []\n",
    "        for i in [1,2,3,4]:\n",
    "            data_fpath = parent_dir + str(fold_ex_dt[i]) + '/test_pred.csv'\n",
    "            df = pd.read_csv(data_fpath,index_col=0)\n",
    "            df_ls.append(df)\n",
    "        df_ave = (df_ls[0] + df_ls[1] + df_ls[2] + df_ls[3])/4\n",
    "        df_ave.to_csv(ave_fpath)\n",
    "        \n",
    "        label_fpath_fold1 = parent_dir + str(fold_ex_dt[i]) + '/test_label.csv'\n",
    "        df_label = pd.read_csv(label_fpath_fold1,index_col=0)\n",
    "        df_label.to_csv(label_fpath)\n",
    "        \n",
    "        print(ave_fpath)\n",
    "\n",
    "def ensemble_4folds_validation(fold_ex_dt_ls):\n",
    "    parent_dir = '/home/jjia/data/lung_function/lung_function/scripts/results/experiments/'\n",
    "\n",
    "    for fold_ex_dt in fold_ex_dt_ls:\n",
    "        dir0 = parent_dir + str(fold_ex_dt[0])\n",
    "        pred_all_fpath = dir0  + '/valid_pred.csv'\n",
    "        label_all_fpath = dir0  + '/valid_label.csv'\n",
    "        output_file_path = Path(pred_all_fpath)\n",
    "        output_file_path.parent.mkdir(parents=True, exist_ok=True)\n",
    "        \n",
    "        df_pred_ls, df_label_ls = [], []\n",
    "        for i in [1,2,3,4]:\n",
    "            data_fpath = parent_dir + str(fold_ex_dt[i]) + '/valid_pred.csv'\n",
    "            label_fpath = parent_dir + str(fold_ex_dt[i]) + '/valid_label.csv'\n",
    "            df_pred = pd.read_csv(data_fpath,index_col=0)\n",
    "            df_label = pd.read_csv(label_fpath,index_col=0)\n",
    "\n",
    "            df_pred_ls.append(df_pred)\n",
    "            df_label_ls.append(df_label)\n",
    "        df_pred_valid = pd.concat(df_pred_ls)\n",
    "        df_label_valid = pd.concat(df_label_ls)\n",
    "        \n",
    "        df_pred_valid.to_csv(pred_all_fpath)\n",
    "        df_label_valid.to_csv(label_all_fpath)\n",
    "        print(pred_all_fpath)\n",
    "\n",
    "        \n",
    "        \n",
    "        "
   ]
  },
  {
   "cell_type": "code",
   "execution_count": 100,
   "metadata": {},
   "outputs": [
    {
     "name": "stdout",
     "output_type": "stream",
     "text": [
      "/home/jjia/data/lung_function/lung_function/scripts/results/experiments/2974/test_pred.csv\n",
      "/home/jjia/data/lung_function/lung_function/scripts/results/experiments/2974/valid_pred.csv\n"
     ]
    }
   ],
   "source": [
    "\n",
    "ensemble_4folds_testing(fold_ex_dt_ls)\n",
    "ensemble_4folds_validation(fold_ex_dt_ls)"
   ]
  },
  {
   "attachments": {},
   "cell_type": "markdown",
   "metadata": {},
   "source": [
    "## Calculate relative error"
   ]
  },
  {
   "cell_type": "code",
   "execution_count": 37,
   "metadata": {},
   "outputs": [
    {
     "name": "stdout",
     "output_type": "stream",
     "text": [
      "Index(['DLCOc_SB'], dtype='object') DLCOc_SB    2.78599\n",
      "dtype: float64\n",
      "Index(['TLC_He'], dtype='object') TLC_He    3.000312\n",
      "dtype: float64\n",
      "Index(['FVC'], dtype='object') FVC    4.470441\n",
      "dtype: float64\n",
      "Index(['FEV1'], dtype='object') FEV1    5.781361\n",
      "dtype: float64\n"
     ]
    }
   ],
   "source": [
    "# calculate the standard reference\n",
    "parent_dir = '/home/jjia/data/lung_function/lung_function/scripts/results/experiments/'\n",
    "for i in fold_ex_dt_ls:\n",
    "    label_fpath = f\"{parent_dir}{i[1]}/{mode}_label.csv\"\n",
    "    label = pd.read_csv(label_fpath).iloc[: , 1:]\n",
    "    label_pp = (0.15 / label).mean() * 100\n",
    "    print(label.columns, label_pp)\n"
   ]
  },
  {
   "attachments": {},
   "cell_type": "markdown",
   "metadata": {},
   "source": [
    "## adding parameters"
   ]
  },
  {
   "cell_type": "code",
   "execution_count": 8,
   "metadata": {},
   "outputs": [],
   "source": [
    "def mae(pred_fpath, label_fpath, ignore_1st_column=True):\n",
    "    mae_dict = {}\n",
    "\n",
    "    label = pd.read_csv(label_fpath)\n",
    "    pred = pd.read_csv(pred_fpath)\n",
    "    if ignore_1st_column:\n",
    "        pred = pred.iloc[: , 1:]\n",
    "        label = label.iloc[: , 1:]\n",
    "    if 'ID' == label.columns[0]:\n",
    "        del label[\"ID\"]\n",
    "    if 'ID' == pred.columns[0]:\n",
    "        del pred[\"ID\"]\n",
    "\n",
    "    original_columns = label.columns\n",
    "\n",
    "    # ori_columns = list(label.columns)\n",
    "\n",
    "    for column in original_columns:\n",
    "        abs_err = (pred[column] - label[column]).abs()\n",
    "        mae_value = abs_err.mean().round(2)\n",
    "        std_value = abs_err.std().round(2)\n",
    "        \n",
    "        prefix = label_fpath.split(\"/\")[-1].split(\"_\")[0]\n",
    "        mae_dict['mae_' + prefix + '_' + column] = mae_value\n",
    "        mae_dict['mae_std_' + prefix + '_' + column] = std_value\n",
    "\n",
    "    return mae_dict\n",
    "\n",
    "def me(pred_fpath, label_fpath, ignore_1st_column=True):\n",
    "    mae_dict = {}\n",
    "\n",
    "    label = pd.read_csv(label_fpath)\n",
    "    pred = pd.read_csv(pred_fpath)\n",
    "    if ignore_1st_column:\n",
    "        pred = pred.iloc[: , 1:]\n",
    "        label = label.iloc[: , 1:]\n",
    "    if 'ID' == label.columns[0]:\n",
    "        del label[\"ID\"]\n",
    "    if 'ID' == pred.columns[0]:\n",
    "        del pred[\"ID\"]\n",
    "\n",
    "    original_columns = label.columns\n",
    "\n",
    "    for column in original_columns:\n",
    "        abs_err = (pred[column] - label[column])\n",
    "        mae_value = abs_err.mean().round(2)\n",
    "        std_value = abs_err.std().round(2)\n",
    "        \n",
    "        prefix = label_fpath.split(\"/\")[-1].split(\"_\")[0]\n",
    "        mae_dict['me_' + prefix + '_' + column] = mae_value\n",
    "        mae_dict['me_std_' + prefix + '_' + column] = std_value\n",
    "\n",
    "    return mae_dict\n",
    "\n",
    "def mre(pred_fpath, label_fpath, ignore_1st_column=True):\n",
    "    label = pd.read_csv(label_fpath)\n",
    "    pred = pd.read_csv(pred_fpath)\n",
    "    \n",
    "    if ignore_1st_column:\n",
    "        pred = pred.iloc[: , 1:]\n",
    "        label = label.iloc[: , 1:]\n",
    "\n",
    "    rel_err_dict = {}\n",
    "    for column in label.columns:\n",
    "        mae_value = (pred[column] - label[column]).abs()\n",
    "        rel_err = mae_value / label[column]\n",
    "        # print(f'relative error for {column}:')\n",
    "        # for i in rel_err:\n",
    "        #     if i > 2:\n",
    "        #         print(i)\n",
    "        mean_rel_err = rel_err.mean().round(2)\n",
    "        mean_rel_err_std = rel_err.std().round(2)\n",
    "        prefix = label_fpath.split(\"/\")[-1].split(\"_\")[0]\n",
    "        rel_err_dict['mre_' + prefix + '_' + column] = mean_rel_err\n",
    "        rel_err_dict['mre_std_' + prefix + '_' + column] = mean_rel_err_std\n",
    "       \n",
    "    return rel_err_dict"
   ]
  },
  {
   "cell_type": "code",
   "execution_count": 105,
   "metadata": {},
   "outputs": [
    {
     "name": "stdout",
     "output_type": "stream",
     "text": [
      "{4: 2988, 3: 2987, 2: 2986, 1: 2985, 0: 2984}\n",
      "valid\n",
      "{'ensemble_icc_valid_DLCOc_SB': 0.54, 'ensemble_icc_valid_FEV1': 0.64, 'ensemble_icc_valid_FVC': 0.69, 'ensemble_icc_valid_TLC_He': 0.72}\n",
      "len_df_label 253\n",
      "['DLCOc', 'FEV1', 'FVC', 'TLC'] yyaayy\n",
      "DLCOc linear regression m, b: 0.45209140942286113 2.9344514943057107\n",
      "DLCOc linear regression m, b, r^2: 0.4520914094228607 2.9344514943057134 0.30230088546275563\n",
      "ave_mae for DLCOc is 1.2726976284584979\n",
      "std_mae for DLCOc is 1.0030795154436543\n",
      "mean for DLCOc is -0.03734189723320155\n",
      "std for DLCOc is 1.620041157038174\n",
      "Finish plot of  DLCOc\n",
      "FEV1 linear regression m, b: 0.5126910184098848 1.1738231406495454\n",
      "FEV1 linear regression m, b, r^2: 0.5126910184098852 1.173823140649545 0.4363501117549529\n",
      "ave_mae for FEV1 is 0.4354001976284585\n",
      "std_mae for FEV1 is 0.3696721723230997\n",
      "mean for FEV1 is -0.07357806324110668\n",
      "std for FEV1 is 0.5664071995434626\n",
      "Finish plot of  FEV1\n",
      "FVC linear regression m, b: 0.5749705418546156 1.2904414894143919\n",
      "FVC linear regression m, b, r^2: 0.5749705418546148 1.2904414894143927 0.49442828890158547\n",
      "ave_mae for FVC is 0.5214713438735177\n",
      "std_mae for FVC is 0.43266683069352996\n",
      "mean for FVC is -0.08376778656126478\n",
      "std for FVC is 0.6723956475158527\n",
      "Finish plot of  FVC\n",
      "TLC linear regression m, b: 0.6321317839955606 1.4628821037610522\n",
      "TLC linear regression m, b, r^2: 0.6321317839955616 1.4628821037610473 0.5821235498881974\n",
      "ave_mae for TLC is 0.6293162055335968\n",
      "std_mae for TLC is 0.5225087861793464\n",
      "mean for TLC is -0.30382608695652175\n",
      "std for TLC is 0.7594366511214127\n",
      "Finish plot of  TLC\n",
      "{'ensemble_r_valid_DLCOc': 0.5498189569874393, 'ensemble_r_valid_FEV1': 0.660568022049927, 'ensemble_r_valid_FVC': 0.7031559492044318, 'ensemble_r_valid_TLC': 0.7629702155970424, 'ensemble_p_of_rvalid_DLCOc': 2.177361135666907e-21, 'ensemble_p_of_rvalid_FEV1': 4.278050970685236e-33, 'ensemble_p_of_rvalid_FVC': 4.7601210391868555e-39, 'ensemble_p_of_rvalid_TLC': 1.8173994227895306e-49}\n",
      "{'ensemble_mae_valid_DLCOc_SB': 1.27, 'ensemble_mae_std_valid_DLCOc_SB': 1.01, 'ensemble_mae_valid_FEV1': 0.44, 'ensemble_mae_std_valid_FEV1': 0.37, 'ensemble_mae_valid_FVC': 0.52, 'ensemble_mae_std_valid_FVC': 0.43, 'ensemble_mae_valid_TLC_He': 0.63, 'ensemble_mae_std_valid_TLC_He': 0.52}\n",
      "{'ensemble_me_valid_DLCOc_SB': -0.04, 'ensemble_me_std_valid_DLCOc_SB': 1.62, 'ensemble_me_valid_FEV1': -0.07, 'ensemble_me_std_valid_FEV1': 0.57, 'ensemble_me_valid_FVC': -0.08, 'ensemble_me_std_valid_FVC': 0.67, 'ensemble_me_valid_TLC_He': -0.3, 'ensemble_me_std_valid_TLC_He': 0.76}\n",
      "{'ensemble_mre_valid_DLCOc_SB': 0.29, 'ensemble_mre_std_valid_DLCOc_SB': 0.36, 'ensemble_mre_valid_FEV1': 0.18, 'ensemble_mre_std_valid_FEV1': 0.17, 'ensemble_mre_valid_FVC': 0.17, 'ensemble_mre_std_valid_FVC': 0.15, 'ensemble_mre_valid_TLC_He': 0.13, 'ensemble_mre_std_valid_TLC_He': 0.13}\n",
      "test\n",
      "{'ensemble_icc_test_DLCOc_SB': 0.36, 'ensemble_icc_test_FEV1': 0.54, 'ensemble_icc_test_FVC': 0.62, 'ensemble_icc_test_TLC_He': 0.55}\n",
      "len_df_label 63\n",
      "['DLCOc', 'FEV1', 'FVC', 'TLC'] yyaayy\n",
      "DLCOc linear regression m, b: 0.2519401608192213 3.9907483484764454\n",
      "DLCOc linear regression m, b, r^2: 0.25194016081922105 3.990748348476444 0.19053835266201483\n",
      "ave_mae for DLCOc is 1.5180059523809522\n",
      "std_mae for DLCOc is 1.3010677102751111\n",
      "mean for DLCOc is -0.5578829365079365\n",
      "std for DLCOc is 1.9198661118259797\n",
      "Finish plot of  DLCOc\n",
      "FEV1 linear regression m, b: 0.3853815213570648 1.4974308630577504\n",
      "FEV1 linear regression m, b, r^2: 0.3853815213570648 1.4974308630577513 0.431633467013981\n",
      "ave_mae for FEV1 is 0.5334724206349207\n",
      "std_mae for FEV1 is 0.4013724254906404\n",
      "mean for FEV1 is -0.2463295634920634\n",
      "std for FEV1 is 0.6204952809426763\n",
      "Finish plot of  FEV1\n",
      "FVC linear regression m, b: 0.4733633711392655 1.55389186653882\n",
      "FVC linear regression m, b, r^2: 0.4733633711392655 1.5538918665388193 0.5608286037209165\n",
      "ave_mae for FVC is 0.6168432539682541\n",
      "std_mae for FVC is 0.4873714034541705\n",
      "mean for FVC is -0.3730297619047619\n",
      "std for FVC is 0.6920081514001902\n",
      "Finish plot of  FVC\n",
      "TLC linear regression m, b: 0.4553444276728174 2.196819295893325\n",
      "TLC linear regression m, b, r^2: 0.45534442767281735 2.1968192958933233 0.5499176387829641\n",
      "ave_mae for TLC is 0.8297619047619047\n",
      "std_mae for TLC is 0.8319658761657887\n",
      "mean for TLC is -0.7168373015873016\n",
      "std for TLC is 0.9310297099187806\n",
      "Finish plot of  TLC\n",
      "{'ensemble_r_test_DLCOc': 0.436506990393069, 'ensemble_r_test_FEV1': 0.6569881787475182, 'ensemble_r_test_FVC': 0.7488849068588019, 'ensemble_r_test_TLC': 0.7415643187094185, 'ensemble_p_of_rtest_DLCOc': 0.000348264217948292, 'ensemble_p_of_rtest_FEV1': 4.982502972512161e-09, 'ensemble_p_of_rtest_FVC': 1.6911162227313649e-12, 'ensemble_p_of_rtest_TLC': 3.608086592578871e-12}\n",
      "{'ensemble_mae_test_DLCOc_SB': 1.52, 'ensemble_mae_std_test_DLCOc_SB': 1.31, 'ensemble_mae_test_FEV1': 0.53, 'ensemble_mae_std_test_FEV1': 0.4, 'ensemble_mae_test_FVC': 0.62, 'ensemble_mae_std_test_FVC': 0.49, 'ensemble_mae_test_TLC_He': 0.83, 'ensemble_mae_std_test_TLC_He': 0.84}\n",
      "{'ensemble_me_test_DLCOc_SB': -0.56, 'ensemble_me_std_test_DLCOc_SB': 1.94, 'ensemble_me_test_FEV1': -0.25, 'ensemble_me_std_test_FEV1': 0.63, 'ensemble_me_test_FVC': -0.37, 'ensemble_me_std_test_FVC': 0.7, 'ensemble_me_test_TLC_He': -0.72, 'ensemble_me_std_test_TLC_He': 0.94}\n",
      "{'ensemble_mre_test_DLCOc_SB': 0.26, 'ensemble_mre_std_test_DLCOc_SB': 0.27, 'ensemble_mre_test_FEV1': 0.19, 'ensemble_mre_std_test_FEV1': 0.13, 'ensemble_mre_test_FVC': 0.16, 'ensemble_mre_std_test_FVC': 0.1, 'ensemble_mre_test_TLC_He': 0.14, 'ensemble_mre_std_test_TLC_He': 0.11}\n"
     ]
    }
   ],
   "source": [
    "mlflow.set_tracking_uri(\"http://nodelogin02:5000\")\n",
    "experiment = mlflow.set_experiment(\"lung_fun_db15\")\n",
    "\n",
    "# Create a run under the default experiment (whose id is '0').\n",
    "client = mlflow.MlflowClient()\n",
    "parent_dir = '/home/jjia/data/lung_function/lung_function/scripts/results/experiments/'\n",
    "\n",
    "for i in fold_ex_dt_ls:\n",
    "    print(i)\n",
    "    experiment_id = i[0]\n",
    "    run_ = client.search_runs(experiment_ids=[experiment.experiment_id], filter_string=f\"params.id = '{str(experiment_id)}'\")[0]\n",
    "    run_id = run_.info.run_id\n",
    "    \n",
    "    with mlflow.start_run(run_id=run_id):\n",
    "        for mode in ['valid', 'test']:\n",
    "            print(mode)\n",
    "            label_fpath = f\"{parent_dir}{i[0]}/{mode}_label.csv\"\n",
    "            pred_fpath = f\"{parent_dir}{i[0]}/{mode}_pred.csv\"\n",
    "\n",
    "            # #add icc\n",
    "            icc_value = icc(label_fpath, pred_fpath, ignore_1st_column=True)\n",
    "            icc_value_ensemble = {'ensemble_' + k:v  for k, v in icc_value.items()}  # update keys\n",
    "            print(icc_value_ensemble)\n",
    "            try:\n",
    "                log_params(icc_value_ensemble)\n",
    "            except:\n",
    "                pass\n",
    "\n",
    "            # add r\n",
    "            r_p_value = metrics(pred_fpath, label_fpath, ignore_1st_column=True)\n",
    "            r_p_value_ensemble = {'ensemble_' + k:v  for k, v in r_p_value.items()}  # update keys\n",
    "            print(r_p_value_ensemble)\n",
    "            try:\n",
    "                log_params(r_p_value_ensemble)\n",
    "            except:\n",
    "                pass\n",
    "            \n",
    "            # add mae\n",
    "            mae_dict = mae(pred_fpath, label_fpath, ignore_1st_column=True)\n",
    "            mae_ensemble = {'ensemble_' + k:v for k, v in mae_dict.items()}\n",
    "            print(mae_ensemble)\n",
    "            try:\n",
    "                log_params(mae_ensemble)\n",
    "            except:\n",
    "                pass\n",
    "            \n",
    "            # add me\n",
    "            me_dict = me(pred_fpath, label_fpath, ignore_1st_column=True)\n",
    "            me_ensemble = {'ensemble_' + k:v for k, v in me_dict.items()}\n",
    "            print(me_ensemble)\n",
    "            try:\n",
    "                log_params(me_ensemble)\n",
    "            except:\n",
    "                pass   \n",
    "            \n",
    "            # add mre\n",
    "            mre_dict = mre(pred_fpath, label_fpath, ignore_1st_column=True)\n",
    "            mre_ensemble = {'ensemble_' + k:v for k, v in mre_dict.items()}\n",
    "            print(mre_ensemble)\n",
    "            try:\n",
    "                log_params(mre_ensemble)\n",
    "            except:\n",
    "                pass   "
   ]
  },
  {
   "cell_type": "code",
   "execution_count": 88,
   "metadata": {},
   "outputs": [],
   "source": [
    "import pandas as pd"
   ]
  },
  {
   "cell_type": "code",
   "execution_count": 90,
   "metadata": {},
   "outputs": [],
   "source": [
    "a = np.ones((2,4))"
   ]
  },
  {
   "cell_type": "code",
   "execution_count": 91,
   "metadata": {},
   "outputs": [],
   "source": [
    "a = pd.DataFrame(a)"
   ]
  },
  {
   "cell_type": "code",
   "execution_count": 106,
   "metadata": {},
   "outputs": [],
   "source": [
    "b = [a,a,a,a]\n"
   ]
  },
  {
   "cell_type": "code",
   "execution_count": 112,
   "metadata": {},
   "outputs": [],
   "source": [
    "a = [3,2,1,5]"
   ]
  },
  {
   "cell_type": "code",
   "execution_count": 113,
   "metadata": {},
   "outputs": [],
   "source": [
    "b =a[:0]"
   ]
  },
  {
   "cell_type": "code",
   "execution_count": 114,
   "metadata": {},
   "outputs": [
    {
     "data": {
      "text/plain": [
       "[]"
      ]
     },
     "execution_count": 114,
     "metadata": {},
     "output_type": "execute_result"
    }
   ],
   "source": [
    "b"
   ]
  },
  {
   "cell_type": "code",
   "execution_count": 117,
   "metadata": {},
   "outputs": [
    {
     "data": {
      "text/plain": [
       "[[0, 2, 1], [1, 2, 3]]"
      ]
     },
     "execution_count": 117,
     "metadata": {},
     "output_type": "execute_result"
    }
   ],
   "source": [
    "sorted([[1,2,3], [0,2,1]])"
   ]
  },
  {
   "attachments": {},
   "cell_type": "markdown",
   "metadata": {},
   "source": [
    "As mentioned in this [paper](https://bmcmedimaging.biomedcentral.com/articles/10.1186/s12880-015-0068-x#Sec33:~:text=There%20is%20more%20than%20one%20definition%20for%20the%20volumetric%20distance%20in%20the%20literature), there is more than one definition for the volumetric distance in the literature, \n",
    "\n",
    "In pymia, the volume similarity was difined as\n",
    "1 - abs(fn - fp) / (2 * tp + fn + fp). You can see the source code [here](https://github.com/rundherum/pymia/blob/c9821e0587a82c67f877a9c7fbbc7fdd3d75bc32/pymia/evaluation/metric/categorical.py#L952). The reference academic literature is [Metrics for evaluating 3D medical image segmentation: analysis, selection, and tool](https://bmcmedimaging.biomedcentral.com/articles/10.1186/s12880-015-0068-x#Sec33) and [this](https://www.sciencedirect.com/science/article/pii/S0010482521002912#:~:text=Volumetric%20Similarity)\n"
   ]
  },
  {
   "attachments": {},
   "cell_type": "markdown",
   "metadata": {},
   "source": []
  }
 ],
 "metadata": {
  "kernelspec": {
   "display_name": "py38",
   "language": "python",
   "name": "python3"
  },
  "language_info": {
   "codemirror_mode": {
    "name": "ipython",
    "version": 3
   },
   "file_extension": ".py",
   "mimetype": "text/x-python",
   "name": "python",
   "nbconvert_exporter": "python",
   "pygments_lexer": "ipython3",
   "version": "3.8.13"
  },
  "orig_nbformat": 4
 },
 "nbformat": 4,
 "nbformat_minor": 2
}
