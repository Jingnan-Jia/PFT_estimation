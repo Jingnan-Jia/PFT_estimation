{
 "cells": [
  {
   "cell_type": "code",
   "execution_count": 1,
   "metadata": {},
   "outputs": [],
   "source": [
    "import mlflow\n"
   ]
  },
  {
   "cell_type": "code",
   "execution_count": 3,
   "metadata": {},
   "outputs": [],
   "source": [
    "mlflow.set_tracking_uri(\"http://nodelogin02:5000\")\n",
    "experiment = mlflow.set_experiment(\"lung_fun_db15\")\n",
    "\n",
    "# Create a run under the default experiment (whose id is '0').\n",
    "client = mlflow.MlflowClient()\n",
    "for i in range(1503, 1504):\n",
    "    experiment_id = i\n",
    "    run_ls = client.search_runs(experiment_ids=[experiment.experiment_id], run_view_type=1, filter_string=f\"params.id LIKE '%{i}%'\")\n",
    "    if len(run_ls)!=0:\n",
    "        run_ = run_ls[0]\n",
    "        run_id = run_.info.run_id\n",
    "        with mlflow.start_run(run_id=run_id):\n",
    "            mlflow.log_param(\"sub_shuffle\", 'True')\n",
    "            mlflow.log_param(\"total_shuffle\", 'True')\n",
    "\n",
    "\n"
   ]
  }
 ],
 "metadata": {
  "kernelspec": {
   "display_name": "Python 3",
   "language": "python",
   "name": "python3"
  },
  "language_info": {
   "codemirror_mode": {
    "name": "ipython",
    "version": 3
   },
   "file_extension": ".py",
   "mimetype": "text/x-python",
   "name": "python",
   "nbconvert_exporter": "python",
   "pygments_lexer": "ipython3",
   "version": "3.8.13"
  },
  "orig_nbformat": 4,
  "vscode": {
   "interpreter": {
    "hash": "f7237c9972df760705e03bb27a8e106ab1bc3793b010c014a347ab079be8db1a"
   }
  }
 },
 "nbformat": 4,
 "nbformat_minor": 2
}
