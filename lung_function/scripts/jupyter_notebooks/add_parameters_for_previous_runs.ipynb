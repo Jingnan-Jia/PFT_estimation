{
 "cells": [
  {
   "cell_type": "code",
   "execution_count": 1,
   "metadata": {},
   "outputs": [
    {
     "name": "stderr",
     "output_type": "stream",
     "text": [
      "/home/jjia/.local/lib/python3.8/site-packages/outdated/utils.py:14: OutdatedPackageWarning: The package outdated is out of date. Your version is 0.2.1, the latest is 0.2.2.\n",
      "Set the environment variable OUTDATED_IGNORE=1 to disable these warnings.\n",
      "  return warn(\n",
      "/home/jjia/.local/lib/python3.8/site-packages/outdated/utils.py:14: OutdatedPackageWarning: The package pingouin is out of date. Your version is 0.5.2, the latest is 0.5.3.\n",
      "Set the environment variable OUTDATED_IGNORE=1 to disable these warnings.\n",
      "  return warn(\n"
     ]
    }
   ],
   "source": [
    "import mlflow\n",
    "from lung_function.modules.compute_metrics import icc, metrics\n",
    "from mlflow import log_params\n",
    "import pandas as pd\n",
    "from pathlib import Path\n",
    "import numpy as np \n",
    "import pandas as pd\n",
    "from mlflow import MlflowClient\n"
   ]
  },
  {
   "cell_type": "code",
   "execution_count": 18,
   "metadata": {},
   "outputs": [],
   "source": [
    "parent_ids = [ 902, 904, 906, 908, 910, 912, 2521, 2527, 2529, 2532, 2534, 2536, 2538, 2540, 2542, 2568, 2570, 2572,\n",
    "2574, 2576, 2594, 2600, 2605, 2607, 2258, 2140, 2138, 2148, 2144, 2142, 2194, 2667, 2665, 2663, 2661, 2655, 2654, 2651,\n",
    "2649, 2647, 2645, 2643, 2714, 2712, 2710, 2740, 2742, 2732, 2733, 2663, 2654, 2655, 2661, 2758, 2756, 2754, 2752, 2750,\n",
    "2731, 2730, 2720, 2859, 2860, 2856, 2855, 2828, 2827, 2813, 2814, 2809, 2810, 2806, 2805, 2803, 2801, 2799, 2797, 2783,\n",
    "2780, 2779, 2777, 2775, 2758, ]\n",
    "parent_ids = [1303, 1308, 1458, 1460, 1503, 1513, 1516, 1526, 1538,1560,1577,1579,1585,1608,1610,1612,1614,1616,1633,\n",
    "              1635,1637,1639,1641,1648,1650,1652,1654,1656,1676,1678,1680,1682,1684,1687,1710,1714,1725,1753,1755,1757,\n",
    "              1786,1788,1790,1798,1800,1802,1812,1816,1840,1842,1844,1846,1848,1867,1865,1869,1882,1884,1896,1898,1908,\n",
    "              1910,1918,1927,1930,1932,1934,2203,2228,2321,2323,2325,2327,2329,2335,2339,2331,2353,2362,2364,2366,2368,\n",
    "              2370,2372,2408,2410,2432,2440,2450,2456,2460,2462,2464,2466,2468,2484,2486,2488]\n",
    "# parent_ids = [2758]\n",
    "parent_ids = [2900]\n",
    "parent_ids = list(set(parent_ids))\n",
    "parent_ids.sort()"
   ]
  },
  {
   "cell_type": "code",
   "execution_count": 2,
   "metadata": {},
   "outputs": [],
   "source": [
    "parent_ids = [2750, 2731]"
   ]
  },
  {
   "cell_type": "code",
   "execution_count": 19,
   "metadata": {},
   "outputs": [
    {
     "data": {
      "text/plain": [
       "1"
      ]
     },
     "execution_count": 19,
     "metadata": {},
     "output_type": "execute_result"
    }
   ],
   "source": [
    "len(parent_ids)"
   ]
  },
  {
   "cell_type": "code",
   "execution_count": 4,
   "metadata": {},
   "outputs": [],
   "source": [
    "def child_run_id(parent_id: str, experiment, client):\n",
    "    \n",
    "    parent_run = client.search_runs(experiment_ids=[experiment.experiment_id], filter_string=f\"params.id = '{str(parent_id)}'\")[0]\n",
    "    runss = client.search_runs(experiment_ids=[experiment.experiment_id], filter_string=f\"tags.mlflow.parentRunId = '{parent_run.info.run_id}'\")  # 4 days after after the parent ID created \n",
    "    \n",
    "    if len(runss) == 4:  # all folds are there\n",
    "        out = {int(ru.data.params['fold']): int(ru.data.params['id']) for ru in runss}\n",
    "        out[0 ] = parent_id\n",
    "        print(f\"successfully found four folds runs for {parent_id}: {out}\")\n",
    "        return out\n",
    "    else:\n",
    "        tmp = {int(ru.data.params['fold']): int(ru.data.params['id']) for ru in runss}\n",
    "        print(f\"the searched runs for {parent_id} do not 4 folds, only has {len(runss)} folds: {tmp}\")\n",
    "        return None\n",
    "    \n",
    "     "
   ]
  },
  {
   "cell_type": "code",
   "execution_count": 20,
   "metadata": {},
   "outputs": [
    {
     "name": "stdout",
     "output_type": "stream",
     "text": [
      "successfully found four folds runs for 2900: {4: 2930, 3: 2929, 2: 2928, 1: 2901, 0: 2900}\n"
     ]
    }
   ],
   "source": [
    "mlflow.set_tracking_uri(\"http://nodelogin02:5000\")\n",
    "experiment = mlflow.set_experiment(\"lung_fun_db15\")\n",
    "client = MlflowClient()\n",
    "\n",
    "fold_ex_dt_ls = [ ]\n",
    "for parent_id in parent_ids[::-1]:\n",
    "    dt = child_run_id(parent_id, experiment, client)\n",
    "    if dt:\n",
    "        fold_ex_dt_ls.append(dt)\n"
   ]
  },
  {
   "attachments": {},
   "cell_type": "markdown",
   "metadata": {},
   "source": [
    "## merging 4 folds"
   ]
  },
  {
   "cell_type": "code",
   "execution_count": 6,
   "metadata": {},
   "outputs": [],
   "source": [
    "def ensemble_4folds_testing(fold_ex_dt_ls):\n",
    "    parent_dir = '/home/jjia/data/lung_function/lung_function/scripts/results/experiments/'\n",
    "\n",
    "    for fold_ex_dt in fold_ex_dt_ls:\n",
    "        dir0 = parent_dir + str(fold_ex_dt[0])\n",
    "        label_fpath = dir0  + '/test_label.csv'\n",
    "        ave_fpath =dir0  + '/test_pred.csv'\n",
    "        output_file_path = Path(ave_fpath)\n",
    "        output_file_path.parent.mkdir(parents=True, exist_ok=True)\n",
    "        \n",
    "        df_ls = []\n",
    "        for i in [1,2,3,4]:\n",
    "            data_fpath = parent_dir + str(fold_ex_dt[i]) + '/test_pred.csv'\n",
    "            df = pd.read_csv(data_fpath,index_col=0)\n",
    "            df_ls.append(df)\n",
    "        df_ave = (df_ls[0] + df_ls[1] + df_ls[2] + df_ls[3])/4\n",
    "        df_ave.to_csv(ave_fpath)\n",
    "        \n",
    "        label_fpath_fold1 = parent_dir + str(fold_ex_dt[i]) + '/test_label.csv'\n",
    "        df_label = pd.read_csv(label_fpath_fold1,index_col=0)\n",
    "        df_label.to_csv(label_fpath)\n",
    "        \n",
    "        print(ave_fpath)\n",
    "\n",
    "def ensemble_4folds_validation(fold_ex_dt_ls):\n",
    "    parent_dir = '/home/jjia/data/lung_function/lung_function/scripts/results/experiments/'\n",
    "\n",
    "    for fold_ex_dt in fold_ex_dt_ls:\n",
    "        dir0 = parent_dir + str(fold_ex_dt[0])\n",
    "        pred_all_fpath = dir0  + '/valid_pred.csv'\n",
    "        label_all_fpath = dir0  + '/valid_label.csv'\n",
    "        output_file_path = Path(pred_all_fpath)\n",
    "        output_file_path.parent.mkdir(parents=True, exist_ok=True)\n",
    "        \n",
    "        df_pred_ls, df_label_ls = [], []\n",
    "        for i in [1,2,3,4]:\n",
    "            data_fpath = parent_dir + str(fold_ex_dt[i]) + '/valid_pred.csv'\n",
    "            label_fpath = parent_dir + str(fold_ex_dt[i]) + '/valid_label.csv'\n",
    "            df_pred = pd.read_csv(data_fpath,index_col=0)\n",
    "            df_label = pd.read_csv(label_fpath,index_col=0)\n",
    "\n",
    "            df_pred_ls.append(df_pred)\n",
    "            df_label_ls.append(df_label)\n",
    "        df_pred_valid = pd.concat(df_pred_ls)\n",
    "        df_label_valid = pd.concat(df_label_ls)\n",
    "        \n",
    "        df_pred_valid.to_csv(pred_all_fpath)\n",
    "        df_label_valid.to_csv(label_all_fpath)\n",
    "        print(pred_all_fpath)\n",
    "\n",
    "        \n",
    "        \n",
    "        "
   ]
  },
  {
   "cell_type": "code",
   "execution_count": 13,
   "metadata": {},
   "outputs": [
    {
     "name": "stdout",
     "output_type": "stream",
     "text": [
      "/home/jjia/data/lung_function/lung_function/scripts/results/experiments/2895/test_pred.csv\n",
      "/home/jjia/data/lung_function/lung_function/scripts/results/experiments/2895/valid_pred.csv\n"
     ]
    }
   ],
   "source": [
    "\n",
    "ensemble_4folds_testing(fold_ex_dt_ls)\n",
    "ensemble_4folds_validation(fold_ex_dt_ls)"
   ]
  },
  {
   "attachments": {},
   "cell_type": "markdown",
   "metadata": {},
   "source": [
    "## Calculate relative error"
   ]
  },
  {
   "cell_type": "code",
   "execution_count": 37,
   "metadata": {},
   "outputs": [
    {
     "name": "stdout",
     "output_type": "stream",
     "text": [
      "Index(['DLCOc_SB'], dtype='object') DLCOc_SB    2.78599\n",
      "dtype: float64\n",
      "Index(['TLC_He'], dtype='object') TLC_He    3.000312\n",
      "dtype: float64\n",
      "Index(['FVC'], dtype='object') FVC    4.470441\n",
      "dtype: float64\n",
      "Index(['FEV1'], dtype='object') FEV1    5.781361\n",
      "dtype: float64\n"
     ]
    }
   ],
   "source": [
    "# calculate the standard reference\n",
    "parent_dir = '/home/jjia/data/lung_function/lung_function/scripts/results/experiments/'\n",
    "for i in fold_ex_dt_ls:\n",
    "    label_fpath = f\"{parent_dir}{i[1]}/{mode}_label.csv\"\n",
    "    label = pd.read_csv(label_fpath).iloc[: , 1:]\n",
    "    label_pp = (0.15 / label).mean() * 100\n",
    "    print(label.columns, label_pp)\n"
   ]
  },
  {
   "attachments": {},
   "cell_type": "markdown",
   "metadata": {},
   "source": [
    "## adding parameters"
   ]
  },
  {
   "cell_type": "code",
   "execution_count": 8,
   "metadata": {},
   "outputs": [],
   "source": [
    "def mae(pred_fpath, label_fpath, ignore_1st_column=True):\n",
    "    mae_dict = {}\n",
    "\n",
    "    label = pd.read_csv(label_fpath)\n",
    "    pred = pd.read_csv(pred_fpath)\n",
    "    if ignore_1st_column:\n",
    "        pred = pred.iloc[: , 1:]\n",
    "        label = label.iloc[: , 1:]\n",
    "    if 'ID' == label.columns[0]:\n",
    "        del label[\"ID\"]\n",
    "    if 'ID' == pred.columns[0]:\n",
    "        del pred[\"ID\"]\n",
    "\n",
    "    original_columns = label.columns\n",
    "\n",
    "    # ori_columns = list(label.columns)\n",
    "\n",
    "    for column in original_columns:\n",
    "        abs_err = (pred[column] - label[column]).abs()\n",
    "        mae_value = abs_err.mean().round(2)\n",
    "        std_value = abs_err.std().round(2)\n",
    "        \n",
    "        prefix = label_fpath.split(\"/\")[-1].split(\"_\")[0]\n",
    "        mae_dict['mae_' + prefix + '_' + column] = mae_value\n",
    "        mae_dict['mae_std_' + prefix + '_' + column] = std_value\n",
    "\n",
    "    return mae_dict\n",
    "\n",
    "def me(pred_fpath, label_fpath, ignore_1st_column=True):\n",
    "    mae_dict = {}\n",
    "\n",
    "    label = pd.read_csv(label_fpath)\n",
    "    pred = pd.read_csv(pred_fpath)\n",
    "    if ignore_1st_column:\n",
    "        pred = pred.iloc[: , 1:]\n",
    "        label = label.iloc[: , 1:]\n",
    "    if 'ID' == label.columns[0]:\n",
    "        del label[\"ID\"]\n",
    "    if 'ID' == pred.columns[0]:\n",
    "        del pred[\"ID\"]\n",
    "\n",
    "    original_columns = label.columns\n",
    "\n",
    "    for column in original_columns:\n",
    "        abs_err = (pred[column] - label[column])\n",
    "        mae_value = abs_err.mean().round(2)\n",
    "        std_value = abs_err.std().round(2)\n",
    "        \n",
    "        prefix = label_fpath.split(\"/\")[-1].split(\"_\")[0]\n",
    "        mae_dict['me_' + prefix + '_' + column] = mae_value\n",
    "        mae_dict['me_std_' + prefix + '_' + column] = std_value\n",
    "\n",
    "    return mae_dict\n",
    "\n",
    "def mre(pred_fpath, label_fpath, ignore_1st_column=True):\n",
    "    label = pd.read_csv(label_fpath)\n",
    "    pred = pd.read_csv(pred_fpath)\n",
    "    \n",
    "    if ignore_1st_column:\n",
    "        pred = pred.iloc[: , 1:]\n",
    "        label = label.iloc[: , 1:]\n",
    "\n",
    "    rel_err_dict = {}\n",
    "    for column in label.columns:\n",
    "        mae_value = (pred[column] - label[column]).abs()\n",
    "        rel_err = mae_value / label[column]\n",
    "        # print(f'relative error for {column}:')\n",
    "        # for i in rel_err:\n",
    "        #     if i > 2:\n",
    "        #         print(i)\n",
    "        mean_rel_err = rel_err.mean().round(2)\n",
    "        mean_rel_err_std = rel_err.std().round(2)\n",
    "        prefix = label_fpath.split(\"/\")[-1].split(\"_\")[0]\n",
    "        rel_err_dict['mre_' + prefix + '_' + column] = mean_rel_err\n",
    "        rel_err_dict['mre_std_' + prefix + '_' + column] = mean_rel_err_std\n",
    "       \n",
    "    return rel_err_dict"
   ]
  },
  {
   "cell_type": "code",
   "execution_count": 21,
   "metadata": {},
   "outputs": [
    {
     "name": "stdout",
     "output_type": "stream",
     "text": [
      "{4: 2930, 3: 2929, 2: 2928, 1: 2901, 0: 2900}\n",
      "valid\n",
      "{'ensemble_icc_valid_DLCOc_SB': 0.39, 'ensemble_icc_valid_FEV1': 0.38, 'ensemble_icc_valid_FVC': 0.4, 'ensemble_icc_valid_TLC_He': 0.39}\n",
      "len_df_label 253\n",
      "['DLCOc', 'FEV1', 'FVC', 'TLC'] yyaayy\n",
      "DLCOc linear regression m, b: 0.4387798819641297 1.9540299542841755\n",
      "DLCOc linear regression m, b, r^2: 0.43877988196413037 1.9540299542841728 0.21554250208578762\n",
      "ave_mae for DLCOc is 1.741702766798419\n",
      "std_mae for DLCOc is 1.2679731947953858\n",
      "mean for DLCOc is -1.0899636363636365\n",
      "std for DLCOc is 1.858295945751872\n",
      "Finish plot of  DLCOc\n",
      "FEV1 linear regression m, b: 0.4099493998235709 1.0174155724824487\n",
      "FEV1 linear regression m, b, r^2: 0.40994939982357115 1.0174155724824478 0.23175806142995428\n",
      "ave_mae for FEV1 is 0.6841233201581027\n",
      "std_mae for FEV1 is 0.5275661244073373\n",
      "mean for FEV1 is -0.4929810276679842\n",
      "std for FEV1 is 0.7094508010889425\n",
      "Finish plot of  FEV1\n",
      "FVC linear regression m, b: 0.44450250898881966 1.137582445225802\n",
      "FVC linear regression m, b, r^2: 0.4445025089888196 1.1375824452258003 0.2738540937092758\n",
      "ave_mae for FVC is 0.8632794466403162\n",
      "std_mae for FVC is 0.6433858379654898\n",
      "mean for FVC is -0.6584573122529644\n",
      "std for FVC is 0.8518396019361674\n",
      "Finish plot of  FVC\n",
      "TLC linear regression m, b: 0.49856004031929474 1.384613117352418\n",
      "TLC linear regression m, b, r^2: 0.4985600403192952 1.384613117352417 0.3127874093479914\n",
      "ave_mae for TLC is 1.1918656126482212\n",
      "std_mae for TLC is 0.8465998897025604\n",
      "mean for TLC is -1.023581027667984\n",
      "std for TLC is 1.0438184189100426\n",
      "Finish plot of  TLC\n",
      "{'ensemble_r_valid_DLCOc': 0.46426555125896174, 'ensemble_r_valid_FEV1': 0.48141256883254957, 'ensemble_r_valid_FVC': 0.5233107047531856, 'ensemble_r_valid_TLC': 0.559274002031197, 'ensemble_p_of_rvalid_DLCOc': 6.270861277433584e-15, 'ensemble_p_of_rvalid_FEV1': 4.401871478929894e-16, 'ensemble_p_of_rvalid_FVC': 3.4432655872704715e-19, 'ensemble_p_of_rvalid_TLC': 3.201005991197978e-22}\n",
      "{'ensemble_mae_valid_DLCOc_SB': 1.74, 'ensemble_mae_std_valid_DLCOc_SB': 1.27, 'ensemble_mae_valid_FEV1': 0.68, 'ensemble_mae_std_valid_FEV1': 0.53, 'ensemble_mae_valid_FVC': 0.86, 'ensemble_mae_std_valid_FVC': 0.64, 'ensemble_mae_valid_TLC_He': 1.19, 'ensemble_mae_std_valid_TLC_He': 0.85}\n",
      "{'ensemble_me_valid_DLCOc_SB': -1.09, 'ensemble_me_std_valid_DLCOc_SB': 1.86, 'ensemble_me_valid_FEV1': -0.49, 'ensemble_me_std_valid_FEV1': 0.71, 'ensemble_me_valid_FVC': -0.66, 'ensemble_me_std_valid_FVC': 0.85, 'ensemble_me_valid_TLC_He': -1.02, 'ensemble_me_std_valid_TLC_He': 1.05}\n",
      "{'ensemble_mre_valid_DLCOc_SB': 0.33, 'ensemble_mre_std_valid_DLCOc_SB': 0.25, 'ensemble_mre_valid_FEV1': 0.27, 'ensemble_mre_std_valid_FEV1': 0.19, 'ensemble_mre_valid_FVC': 0.26, 'ensemble_mre_std_valid_FVC': 0.16, 'ensemble_mre_valid_TLC_He': 0.24, 'ensemble_mre_std_valid_TLC_He': 0.15}\n",
      "test\n",
      "{'ensemble_icc_test_DLCOc_SB': 0.34, 'ensemble_icc_test_FEV1': 0.35, 'ensemble_icc_test_FVC': 0.37, 'ensemble_icc_test_TLC_He': 0.33}\n",
      "len_df_label 63\n",
      "['DLCOc', 'FEV1', 'FVC', 'TLC'] yyaayy\n",
      "DLCOc linear regression m, b: 0.3255468775907232 2.5734441161913675\n",
      "DLCOc linear regression m, b, r^2: 0.32554687759072315 2.573444116191368 0.26146537032015255\n",
      "ave_mae for DLCOc is 1.879394047619048\n",
      "std_mae for DLCOc is 1.4676422184994913\n",
      "mean for DLCOc is -1.52761626984127\n",
      "std for DLCOc is 1.8309790276964564\n",
      "Finish plot of  DLCOc\n",
      "FEV1 linear regression m, b: 0.3550343534531072 1.142498962917328\n",
      "FEV1 linear regression m, b, r^2: 0.35503435345310713 1.1424989629173274 0.3794720312510186\n",
      "ave_mae for FEV1 is 0.7444599206349207\n",
      "std_mae for FEV1 is 0.5796689584407255\n",
      "mean for FEV1 is -0.6873607142857142\n",
      "std for FEV1 is 0.6463527854570912\n",
      "Finish plot of  FEV1\n",
      "FVC linear regression m, b: 0.4110444010555882 1.1751203654583215\n",
      "FVC linear regression m, b, r^2: 0.41104440105558837 1.175120365458321 0.5023064382509639\n",
      "ave_mae for FVC is 1.0094484126984127\n",
      "std_mae for FVC is 0.6963757953366946\n",
      "mean for FVC is -0.9798214285714285\n",
      "std for FVC is 0.7374790263745834\n",
      "Finish plot of  FVC\n",
      "TLC linear regression m, b: 0.4057111811161216 1.7197668576041842\n",
      "TLC linear regression m, b, r^2: 0.40571118111612176 1.7197668576041827 0.5253327710675159\n",
      "ave_mae for TLC is 1.4666031746031751\n",
      "std_mae for TLC is 0.9549076553405659\n",
      "mean for TLC is -1.4594047619047625\n",
      "std for TLC is 0.9658733058294097\n",
      "Finish plot of  TLC\n",
      "{'ensemble_r_test_DLCOc': 0.511336846237539, 'ensemble_r_test_FEV1': 0.6160130122416397, 'ensemble_r_test_FVC': 0.7087358028567231, 'ensemble_r_test_TLC': 0.7247984347855035, 'ensemble_p_of_rtest_DLCOc': 1.8466707792225694e-05, 'ensemble_p_of_rtest_FEV1': 7.699921923009842e-08, 'ensemble_p_of_rtest_FVC': 8.086563168418952e-11, 'ensemble_p_of_rtest_TLC': 1.8669105916785045e-11}\n",
      "{'ensemble_mae_test_DLCOc_SB': 1.88, 'ensemble_mae_std_test_DLCOc_SB': 1.48, 'ensemble_mae_test_FEV1': 0.74, 'ensemble_mae_std_test_FEV1': 0.58, 'ensemble_mae_test_FVC': 1.01, 'ensemble_mae_std_test_FVC': 0.7, 'ensemble_mae_test_TLC_He': 1.47, 'ensemble_mae_std_test_TLC_He': 0.96}\n",
      "{'ensemble_me_test_DLCOc_SB': -1.53, 'ensemble_me_std_test_DLCOc_SB': 1.85, 'ensemble_me_test_FEV1': -0.69, 'ensemble_me_std_test_FEV1': 0.65, 'ensemble_me_test_FVC': -0.98, 'ensemble_me_std_test_FVC': 0.74, 'ensemble_me_test_TLC_He': -1.46, 'ensemble_me_std_test_TLC_He': 0.97}\n",
      "{'ensemble_mre_test_DLCOc_SB': 0.3, 'ensemble_mre_std_test_DLCOc_SB': 0.19, 'ensemble_mre_test_FEV1': 0.24, 'ensemble_mre_std_test_FEV1': 0.14, 'ensemble_mre_test_FVC': 0.25, 'ensemble_mre_std_test_FVC': 0.13, 'ensemble_mre_test_TLC_He': 0.26, 'ensemble_mre_std_test_TLC_He': 0.12}\n"
     ]
    }
   ],
   "source": [
    "mlflow.set_tracking_uri(\"http://nodelogin02:5000\")\n",
    "experiment = mlflow.set_experiment(\"lung_fun_db15\")\n",
    "\n",
    "# Create a run under the default experiment (whose id is '0').\n",
    "client = mlflow.MlflowClient()\n",
    "parent_dir = '/home/jjia/data/lung_function/lung_function/scripts/results/experiments/'\n",
    "\n",
    "for i in fold_ex_dt_ls:\n",
    "    print(i)\n",
    "    experiment_id = i[0]\n",
    "    run_ = client.search_runs(experiment_ids=[experiment.experiment_id], filter_string=f\"params.id = '{str(experiment_id)}'\")[0]\n",
    "    run_id = run_.info.run_id\n",
    "    \n",
    "    with mlflow.start_run(run_id=run_id):\n",
    "        for mode in ['valid', 'test']:\n",
    "            print(mode)\n",
    "            label_fpath = f\"{parent_dir}{i[0]}/{mode}_label.csv\"\n",
    "            pred_fpath = f\"{parent_dir}{i[0]}/{mode}_pred.csv\"\n",
    "\n",
    "            # #add icc\n",
    "            icc_value = icc(label_fpath, pred_fpath, ignore_1st_column=True)\n",
    "            icc_value_ensemble = {'ensemble_' + k:v  for k, v in icc_value.items()}  # update keys\n",
    "            print(icc_value_ensemble)\n",
    "            try:\n",
    "                log_params(icc_value_ensemble)\n",
    "            except:\n",
    "                pass\n",
    "\n",
    "            # add r\n",
    "            r_p_value = metrics(pred_fpath, label_fpath, ignore_1st_column=True)\n",
    "            r_p_value_ensemble = {'ensemble_' + k:v  for k, v in r_p_value.items()}  # update keys\n",
    "            print(r_p_value_ensemble)\n",
    "            try:\n",
    "                log_params(r_p_value_ensemble)\n",
    "            except:\n",
    "                pass\n",
    "            \n",
    "            # add mae\n",
    "            mae_dict = mae(pred_fpath, label_fpath, ignore_1st_column=True)\n",
    "            mae_ensemble = {'ensemble_' + k:v for k, v in mae_dict.items()}\n",
    "            print(mae_ensemble)\n",
    "            try:\n",
    "                log_params(mae_ensemble)\n",
    "            except:\n",
    "                pass\n",
    "            \n",
    "            # add me\n",
    "            me_dict = me(pred_fpath, label_fpath, ignore_1st_column=True)\n",
    "            me_ensemble = {'ensemble_' + k:v for k, v in me_dict.items()}\n",
    "            print(me_ensemble)\n",
    "            try:\n",
    "                log_params(me_ensemble)\n",
    "            except:\n",
    "                pass   \n",
    "            \n",
    "            # add mre\n",
    "            mre_dict = mre(pred_fpath, label_fpath, ignore_1st_column=True)\n",
    "            mre_ensemble = {'ensemble_' + k:v for k, v in mre_dict.items()}\n",
    "            print(mre_ensemble)\n",
    "            try:\n",
    "                log_params(mre_ensemble)\n",
    "            except:\n",
    "                pass   "
   ]
  },
  {
   "cell_type": "code",
   "execution_count": 6,
   "metadata": {},
   "outputs": [
    {
     "ename": "NameError",
     "evalue": "name 'lung_function' is not defined",
     "output_type": "error",
     "traceback": [
      "\u001b[0;31m---------------------------------------------------------------------------\u001b[0m",
      "\u001b[0;31mNameError\u001b[0m                                 Traceback (most recent call last)",
      "Cell \u001b[0;32mIn[6], line 2\u001b[0m\n\u001b[1;32m      1\u001b[0m \u001b[39mimport\u001b[39;00m \u001b[39mimportlib\u001b[39;00m\n\u001b[0;32m----> 2\u001b[0m importlib\u001b[39m.\u001b[39mreload(lung_function\u001b[39m.\u001b[39mmodules\u001b[39m.\u001b[39mcompute_metrics\u001b[39m.\u001b[39mmetrics)\n",
      "\u001b[0;31mNameError\u001b[0m: name 'lung_function' is not defined"
     ]
    }
   ],
   "source": [
    "import importlib\n",
    "importlib.reload(lung_function.modules.compute_metrics.metrics)"
   ]
  },
  {
   "attachments": {},
   "cell_type": "markdown",
   "metadata": {},
   "source": []
  }
 ],
 "metadata": {
  "kernelspec": {
   "display_name": "py38",
   "language": "python",
   "name": "python3"
  },
  "language_info": {
   "codemirror_mode": {
    "name": "ipython",
    "version": 3
   },
   "file_extension": ".py",
   "mimetype": "text/x-python",
   "name": "python",
   "nbconvert_exporter": "python",
   "pygments_lexer": "ipython3",
   "version": "3.8.13"
  },
  "orig_nbformat": 4
 },
 "nbformat": 4,
 "nbformat_minor": 2
}
