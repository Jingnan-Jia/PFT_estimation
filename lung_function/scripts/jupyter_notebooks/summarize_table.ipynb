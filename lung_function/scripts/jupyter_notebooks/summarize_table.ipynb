{
 "cells": [
  {
   "attachments": {},
   "cell_type": "markdown",
   "metadata": {},
   "source": [
    "# summarize the results form different experiments for my paper manuscript"
   ]
  },
  {
   "cell_type": "code",
   "execution_count": 1,
   "metadata": {},
   "outputs": [],
   "source": [
    "import numpy as np \n",
    "import pandas as pd"
   ]
  },
  {
   "attachments": {},
   "cell_type": "markdown",
   "metadata": {},
   "source": [
    "## compare the X3D_m from scratch with from pre-trained weights of videos"
   ]
  },
  {
   "cell_type": "code",
   "execution_count": 2,
   "metadata": {},
   "outputs": [
    {
     "ename": "NameError",
     "evalue": "name 'mlflow' is not defined",
     "output_type": "error",
     "traceback": [
      "\u001b[0;31m---------------------------------------------------------------------------\u001b[0m",
      "\u001b[0;31mNameError\u001b[0m                                 Traceback (most recent call last)",
      "Cell \u001b[0;32mIn[2], line 8\u001b[0m\n\u001b[1;32m      4\u001b[0m id_wt_pt \u001b[39m=\u001b[39m \u001b[39m2665\u001b[39m\n\u001b[1;32m      7\u001b[0m \u001b[39m# retrive the run for the ex id\u001b[39;00m\n\u001b[0;32m----> 8\u001b[0m mlflow\u001b[39m.\u001b[39mset_tracking_uri(\u001b[39m\"\u001b[39m\u001b[39mhttp://nodelogin02:5000\u001b[39m\u001b[39m\"\u001b[39m)\n\u001b[1;32m      9\u001b[0m experiment \u001b[39m=\u001b[39m mlflow\u001b[39m.\u001b[39mset_experiment(\u001b[39m\"\u001b[39m\u001b[39mlung_fun_db15\u001b[39m\u001b[39m\"\u001b[39m)\n\u001b[1;32m     10\u001b[0m client \u001b[39m=\u001b[39m MlflowClient()\n",
      "\u001b[0;31mNameError\u001b[0m: name 'mlflow' is not defined"
     ]
    }
   ],
   "source": [
    "# common hyper parameters: X3D_m, four-output abs PFT values, \n",
    "# from scratch: 2667, from pre-trained weights: 2665\n",
    "id_wo_pt = 2667\n",
    "id_wt_pt = 2665\n",
    "\n",
    "\n",
    "# retrive the run for the ex id\n",
    "mlflow.set_tracking_uri(\"http://nodelogin02:5000\")\n",
    "experiment = mlflow.set_experiment(\"lung_fun_db15\")\n",
    "client = MlflowClient()\n",
    "run_wo_pt = client.search_runs(experiment_ids=[experiment.experiment_id], filter_string=f\"params.id LIKE '%{id_wo_pt}%'\")[0]\n",
    "run_wt_pt = client.search_runs(experiment_ids=[experiment.experiment_id], filter_string=f\"params.id LIKE '%{id_wt_pt}%'\")[0]\n",
    "\n",
    "keys = ['DLCOc', 'FEV1', 'FVC', 'TLC_He']\n"
   ]
  },
  {
   "cell_type": "code",
   "execution_count": null,
   "metadata": {},
   "outputs": [],
   "source": [
    "merge_type = 'ensemble'\n",
    "mode = 'valid'  #  or 'test'"
   ]
  },
  {
   "cell_type": "code",
   "execution_count": null,
   "metadata": {},
   "outputs": [],
   "source": [
    "def get_metrics(run, keys):\n",
    "    df = pd.DataFrame(co)\n",
    "    for key in keys:\n",
    "        for metric in ['icc', 'r', 'mae']:\n",
    "            col_name = f\"{merge_type}_{metric}_{mode}_{key}\"  # like: ensemble_icc_test\n",
    "            run.data.params[col_name]\n",
    "\n",
    "    "
   ]
  },
  {
   "cell_type": "code",
   "execution_count": null,
   "metadata": {},
   "outputs": [],
   "source": [
    "# For x3d_m, I need the results \n",
    "\n",
    "args_dt = run_.data.params  # extract the hyper parameters"
   ]
  }
 ],
 "metadata": {
  "kernelspec": {
   "display_name": "py38",
   "language": "python",
   "name": "python3"
  },
  "language_info": {
   "codemirror_mode": {
    "name": "ipython",
    "version": 3
   },
   "file_extension": ".py",
   "mimetype": "text/x-python",
   "name": "python",
   "nbconvert_exporter": "python",
   "pygments_lexer": "ipython3",
   "version": "3.8.13"
  },
  "orig_nbformat": 4
 },
 "nbformat": 4,
 "nbformat_minor": 2
}
