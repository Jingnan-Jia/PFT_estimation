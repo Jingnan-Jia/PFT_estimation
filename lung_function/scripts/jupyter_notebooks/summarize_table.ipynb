{
 "cells": [
  {
   "attachments": {},
   "cell_type": "markdown",
   "metadata": {},
   "source": [
    "# summarize the results form different experiments for my paper manuscript"
   ]
  },
  {
   "cell_type": "code",
   "execution_count": 1,
   "metadata": {},
   "outputs": [],
   "source": [
    "import numpy as np \n",
    "import pandas as pd\n",
    "import mlflow\n",
    "from mlflow import MlflowClient"
   ]
  },
  {
   "attachments": {},
   "cell_type": "markdown",
   "metadata": {},
   "source": [
    "## compare the X3D_m from scratch with from pre-trained weights of videos"
   ]
  },
  {
   "cell_type": "code",
   "execution_count": 35,
   "metadata": {},
   "outputs": [],
   "source": [
    "# common hyper parameters: X3D_m, four-output abs PFT values, \n",
    "# from scratch: 2667, from pre-trained weights: 2665\n",
    "id = 2643\n",
    "merge_type = 'ensemble'\n",
    "mode = 'test'  #  or 'test'\n",
    "\n",
    "# retrive the run for the ex id\n",
    "mlflow.set_tracking_uri(\"http://nodelogin02:5000\")\n",
    "experiment = mlflow.set_experiment(\"lung_fun_db15\")\n",
    "client = MlflowClient()\n",
    "run = client.search_runs(experiment_ids=[experiment.experiment_id], filter_string=f\"params.id = '{str(id)}'\")[0]\n"
   ]
  },
  {
   "cell_type": "code",
   "execution_count": 36,
   "metadata": {},
   "outputs": [
    {
     "data": {
      "text/html": [
       "<div>\n",
       "<style scoped>\n",
       "    .dataframe tbody tr th:only-of-type {\n",
       "        vertical-align: middle;\n",
       "    }\n",
       "\n",
       "    .dataframe tbody tr th {\n",
       "        vertical-align: top;\n",
       "    }\n",
       "\n",
       "    .dataframe thead th {\n",
       "        text-align: right;\n",
       "    }\n",
       "</style>\n",
       "<table border=\"1\" class=\"dataframe\">\n",
       "  <thead>\n",
       "    <tr style=\"text-align: right;\">\n",
       "      <th></th>\n",
       "      <th>DLCOcPP</th>\n",
       "      <th>FEV1PP</th>\n",
       "      <th>FVCPP</th>\n",
       "      <th>TLCPP</th>\n",
       "    </tr>\n",
       "  </thead>\n",
       "  <tbody>\n",
       "    <tr>\n",
       "      <th>icc</th>\n",
       "      <td>0.30</td>\n",
       "      <td>0.47</td>\n",
       "      <td>0.50</td>\n",
       "      <td>0.53</td>\n",
       "    </tr>\n",
       "    <tr>\n",
       "      <th>r</th>\n",
       "      <td>0.32</td>\n",
       "      <td>0.47</td>\n",
       "      <td>0.51</td>\n",
       "      <td>0.54</td>\n",
       "    </tr>\n",
       "    <tr>\n",
       "      <th>mae</th>\n",
       "      <td>17.07</td>\n",
       "      <td>14.88</td>\n",
       "      <td>14.98</td>\n",
       "      <td>13.59</td>\n",
       "    </tr>\n",
       "    <tr>\n",
       "      <th>me</th>\n",
       "      <td>3.33</td>\n",
       "      <td>2.59</td>\n",
       "      <td>3.15</td>\n",
       "      <td>3.40</td>\n",
       "    </tr>\n",
       "    <tr>\n",
       "      <th>me_std</th>\n",
       "      <td>21.30</td>\n",
       "      <td>19.11</td>\n",
       "      <td>19.27</td>\n",
       "      <td>17.09</td>\n",
       "    </tr>\n",
       "    <tr>\n",
       "      <th>mre</th>\n",
       "      <td>0.29</td>\n",
       "      <td>0.18</td>\n",
       "      <td>0.18</td>\n",
       "      <td>0.17</td>\n",
       "    </tr>\n",
       "  </tbody>\n",
       "</table>\n",
       "</div>"
      ],
      "text/plain": [
       "        DLCOcPP  FEV1PP  FVCPP  TLCPP\n",
       "icc        0.30    0.47   0.50   0.53\n",
       "r          0.32    0.47   0.51   0.54\n",
       "mae       17.07   14.88  14.98  13.59\n",
       "me         3.33    2.59   3.15   3.40\n",
       "me_std    21.30   19.11  19.27  17.09\n",
       "mre        0.29    0.18   0.18   0.17"
      ]
     },
     "execution_count": 36,
     "metadata": {},
     "output_type": "execute_result"
    }
   ],
   "source": [
    "keys = ['DLCOcPP', 'FEV1PP', 'FVCPP', 'TLCPP']\n",
    "summarize = get_metrics(run, keys = keys, mode='valid').astype(float).round(2)\n",
    "summarize\n"
   ]
  },
  {
   "cell_type": "code",
   "execution_count": 4,
   "metadata": {},
   "outputs": [],
   "source": [
    "runss = client.search_runs(experiment_ids=[experiment.experiment_id], filter_string=f\"tags.mlflow.parentRunId = '{run.info.run_id}'\")  # 4 days after after the parent ID created \n"
   ]
  },
  {
   "cell_type": "code",
   "execution_count": 5,
   "metadata": {},
   "outputs": [
    {
     "data": {
      "text/plain": [
       "4"
      ]
     },
     "execution_count": 5,
     "metadata": {},
     "output_type": "execute_result"
    }
   ],
   "source": [
    "len(runss)"
   ]
  },
  {
   "cell_type": "code",
   "execution_count": 6,
   "metadata": {},
   "outputs": [],
   "source": [
    "def child_run_id(parent_id: str):\n",
    "    client = MlflowClient()\n",
    "    parent_run = client.search_runs(experiment_ids=[experiment.experiment_id], filter_string=f\"params.id = '{str(parent_id)}'\")[0]\n",
    "    runss = client.search_runs(experiment_ids=[experiment.experiment_id], filter_string=f\"tags.mlflow.parentRunId = '{parent_run.info.run_id}'\")  # 4 days after after the parent ID created \n",
    "    \n",
    "    if len(runss) == 4:  # all folds are there\n",
    "        out = {int(ru.data.params['fold']): int(ru.data.params['id']) for ru in runss}\n",
    "        out[0 ] = parent_id\n",
    "        print(f\"successfully found four folds runs for {parent_id}: {out}\")\n",
    "        return out\n",
    "    else:\n",
    "        tmp = {int(ru.data.params['fold']): int(ru.data.params['id']) for ru in runss}\n",
    "        print(f\"the searched runs for {parent_id} do not 4 folds, only has {len(runss)} folds: {tmp}\")\n",
    "        return None\n",
    "    \n",
    "     "
   ]
  },
  {
   "cell_type": "code",
   "execution_count": 40,
   "metadata": {},
   "outputs": [
    {
     "name": "stdout",
     "output_type": "stream",
     "text": [
      "successfully found four folds runs for 2534: {4: 2588, 3: 2563, 2: 2553, 1: 2535, 0: 2534}\n"
     ]
    }
   ],
   "source": [
    "child_run_wt_id_dt = child_run_id(id)"
   ]
  },
  {
   "cell_type": "code",
   "execution_count": 41,
   "metadata": {},
   "outputs": [
    {
     "data": {
      "text/plain": [
       "{4: 2588, 3: 2563, 2: 2553, 1: 2535, 0: 2534}"
      ]
     },
     "execution_count": 41,
     "metadata": {},
     "output_type": "execute_result"
    }
   ],
   "source": [
    "child_run_wt_id_dt"
   ]
  },
  {
   "cell_type": "code",
   "execution_count": 9,
   "metadata": {},
   "outputs": [],
   "source": [
    "keys = ['DLCOc_SB', 'FEV1', 'FVC', 'TLC_He']"
   ]
  },
  {
   "cell_type": "code",
   "execution_count": 27,
   "metadata": {},
   "outputs": [],
   "source": [
    "def get_metrics(run, keys, mode):\n",
    "    metric_ls = ['icc', 'r', 'mae', 'me', 'me_std', 'mre']\n",
    "    df = pd.DataFrame(columns = keys, index = metric_ls)\n",
    "    for key in keys:\n",
    "        try:\n",
    "            for metric in metric_ls:\n",
    "                col_name = f\"{merge_type}_{metric}_{mode}_{key}\"  # like: ensemble_icc_test\n",
    "                \n",
    "                df[key][metric] = float(run.data.params[col_name])\n",
    "        except:\n",
    "            pass\n",
    "    return df\n",
    "\n",
    "    "
   ]
  },
  {
   "cell_type": "code",
   "execution_count": 21,
   "metadata": {},
   "outputs": [
    {
     "data": {
      "text/html": [
       "<div>\n",
       "<style scoped>\n",
       "    .dataframe tbody tr th:only-of-type {\n",
       "        vertical-align: middle;\n",
       "    }\n",
       "\n",
       "    .dataframe tbody tr th {\n",
       "        vertical-align: top;\n",
       "    }\n",
       "\n",
       "    .dataframe thead th {\n",
       "        text-align: right;\n",
       "    }\n",
       "</style>\n",
       "<table border=\"1\" class=\"dataframe\">\n",
       "  <thead>\n",
       "    <tr style=\"text-align: right;\">\n",
       "      <th></th>\n",
       "      <th>DLCOc_SB</th>\n",
       "      <th>FEV1</th>\n",
       "      <th>FVC</th>\n",
       "      <th>TLC_He</th>\n",
       "    </tr>\n",
       "  </thead>\n",
       "  <tbody>\n",
       "    <tr>\n",
       "      <th>icc</th>\n",
       "      <td>0.48</td>\n",
       "      <td>0.52</td>\n",
       "      <td>0.53</td>\n",
       "      <td>0.58</td>\n",
       "    </tr>\n",
       "    <tr>\n",
       "      <th>r</th>\n",
       "      <td>0.56</td>\n",
       "      <td>0.57</td>\n",
       "      <td>0.58</td>\n",
       "      <td>0.66</td>\n",
       "    </tr>\n",
       "    <tr>\n",
       "      <th>mae</th>\n",
       "      <td>1.34</td>\n",
       "      <td>0.55</td>\n",
       "      <td>0.68</td>\n",
       "      <td>0.83</td>\n",
       "    </tr>\n",
       "  </tbody>\n",
       "</table>\n",
       "</div>"
      ],
      "text/plain": [
       "     DLCOc_SB  FEV1   FVC  TLC_He\n",
       "icc      0.48  0.52  0.53    0.58\n",
       "r        0.56  0.57  0.58    0.66\n",
       "mae      1.34  0.55  0.68    0.83"
      ]
     },
     "execution_count": 21,
     "metadata": {},
     "output_type": "execute_result"
    }
   ],
   "source": [
    "summarize = get_metrics(run, keys = keys).astype(float).round(2)\n",
    "summarize"
   ]
  }
 ],
 "metadata": {
  "kernelspec": {
   "display_name": "py38",
   "language": "python",
   "name": "python3"
  },
  "language_info": {
   "codemirror_mode": {
    "name": "ipython",
    "version": 3
   },
   "file_extension": ".py",
   "mimetype": "text/x-python",
   "name": "python",
   "nbconvert_exporter": "python",
   "pygments_lexer": "ipython3",
   "version": "3.8.13"
  },
  "orig_nbformat": 4
 },
 "nbformat": 4,
 "nbformat_minor": 2
}
