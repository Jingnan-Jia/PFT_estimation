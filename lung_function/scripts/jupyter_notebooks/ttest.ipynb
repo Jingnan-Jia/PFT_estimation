{
 "cells": [
  {
   "cell_type": "code",
   "execution_count": null,
   "metadata": {},
   "outputs": [],
   "source": []
  },
  {
   "cell_type": "code",
   "execution_count": 23,
   "metadata": {},
   "outputs": [
    {
     "name": "stdout",
     "output_type": "stream",
     "text": [
      "number of samples: 253\n",
      "means of data1: 1.2528498023715415\n",
      "means of data2: 1.1251699604743084\n",
      "t-statistic: 1.8540695617559548\n",
      "p-value: 0.06489760749881235\n",
      "不存在显著差异（无法拒绝零假设）\n",
      "number of samples: 253\n",
      "means of data1: 0.45665612648221343\n",
      "means of data2: 0.4096442687747036\n",
      "t-statistic: 1.6244204419021049\n",
      "p-value: 0.10553618629522103\n",
      "不存在显著差异（无法拒绝零假设）\n",
      "number of samples: 253\n",
      "means of data1: 0.5574545454545454\n",
      "means of data2: 0.48424703557312254\n",
      "t-statistic: 2.0659162754881275\n",
      "p-value: 0.03985860948720961\n",
      "存在显著差异（拒绝零假设）\n",
      "number of samples: 253\n",
      "means of data1: 0.7049407114624506\n",
      "means of data2: 0.627403162055336\n",
      "t-statistic: 1.7903675286638359\n",
      "p-value: 0.07459520841838102\n",
      "不存在显著差异（无法拒绝零假设）\n"
     ]
    }
   ],
   "source": [
    "import pandas as pd\n",
    "from scipy.stats import ttest_rel, ttest_ind\n",
    "\n",
    "# 示例数据\n",
    "ref_fpath = \"/home/jjia/data/lung_function/lung_function/scripts/results/experiments/2730/valid_label.csv\"\n",
    "data1_fpath = \"/home/jjia/data/lung_function/lung_function/scripts/results/experiments/2594/valid_pred.csv\"  # single output\n",
    "data2_fpath = \"/home/jjia/data/lung_function/lung_function/scripts/results/experiments/2730/valid_pred.csv\"\n",
    "\n",
    "data1 = pd.read_csv(data1_fpath, index_col=0)\n",
    "data2 = pd.read_csv(data2_fpath, index_col=0)\n",
    "ref = pd.read_csv(ref_fpath, index_col=0)\n",
    "\n",
    "data1 = data1.rename(columns={'DLCOc_SB': 'DLCOc', 'TLC_He': 'TLC'})  \n",
    "data2 = data2.rename(columns={'DLCOc_SB': 'DLCOc', 'TLC_He': 'TLC'})  \n",
    "ref = ref.rename(columns={'DLCOc_SB': 'DLCOc', 'TLC_He': 'TLC'})  \n",
    "\n",
    "for col in ['DLCOc', 'FEV1', 'FVC', 'TLC']:\n",
    "    try:\n",
    "        # 使用 paired-t 检验比较两列的均值\n",
    "        print(f\"number of samples: {len(data1[col])}\")\n",
    "        print(f'means of data1: {(data1[col] - ref[col]).abs().mean()}')\n",
    "        print(f'means of data2: {(data2[col] - ref[col]).abs().mean()}')\n",
    "\n",
    "        t_stat, p_value = ttest_rel((data1[col] - ref[col]).abs(), (data2[col] - ref[col]).abs())\n",
    "\n",
    "        # 输出 t 检验结果\n",
    "        print(\"t-statistic:\", t_stat)\n",
    "        print(\"p-value:\", p_value)\n",
    "\n",
    "        # 选择一个显著性水平（如 0.05）\n",
    "        alpha = 0.05\n",
    "\n",
    "        # 判断是否存在显著差异\n",
    "        if p_value < alpha:\n",
    "            print(\"存在显著差异（拒绝零假设）\")\n",
    "        else:\n",
    "            print(\"不存在显著差异（无法拒绝零假设）\")\n",
    "    except:\n",
    "        pass\n"
   ]
  },
  {
   "cell_type": "code",
   "execution_count": null,
   "metadata": {},
   "outputs": [],
   "source": [
    "import pandas as pd\n",
    "import matplotlib.pyplot as plt\n",
    "import seaborn as sns\n",
    "\n",
    "# 示例数据\n",
    "data = {\n",
    "    'group1': [25, 30, 35, 40, 45, 28, 33],\n",
    "    'group2': [27, 31, 36, 42, 47, 29, 32]\n",
    "}\n",
    "df = pd.DataFrame(data)\n",
    "\n",
    "# 使用 Seaborn 绘制盒须图\n",
    "sns.boxplot(data=df)\n",
    "plt.title(\"Boxplot of Group 1 and Group 2\")\n",
    "plt.show()\n"
   ]
  }
 ],
 "metadata": {
  "kernelspec": {
   "display_name": "py38",
   "language": "python",
   "name": "python3"
  },
  "language_info": {
   "codemirror_mode": {
    "name": "ipython",
    "version": 3
   },
   "file_extension": ".py",
   "mimetype": "text/x-python",
   "name": "python",
   "nbconvert_exporter": "python",
   "pygments_lexer": "ipython3",
   "version": "3.8.13"
  },
  "orig_nbformat": 4
 },
 "nbformat": 4,
 "nbformat_minor": 2
}
