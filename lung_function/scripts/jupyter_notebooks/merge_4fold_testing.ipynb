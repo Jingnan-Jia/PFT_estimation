{
 "cells": [
  {
   "cell_type": "code",
   "execution_count": 2,
   "metadata": {},
   "outputs": [],
   "source": [
    "import numpy as np  \n",
    "import pandas as pd\n",
    "from pathlib import Path\n"
   ]
  },
  {
   "cell_type": "code",
   "execution_count": 4,
   "metadata": {},
   "outputs": [],
   "source": [
    "# for old experiments\n",
    "fold_ex_dt_torso = {0:2142, 1:2143, 2:2154, 3:2167, 4:2180, 'name':'torso'}\n",
    "fold_ex_dt_lung = {0:2144, 1:2145, 2:2158, 3:2171, 4:2185, 'name':'lung'}\n",
    "fold_ex_dt_vessel = {0:2148, 1:2149, 2:2159, 3:2172, 4:2189, 'name':'vessel'}\n",
    "fold_ex_dt_binary_vessel = {0:2258, 1:2259, 2:2269, 3:2271, 4:2272, 'name':'binary_vessel'}\n",
    "fold_ex_dt_ls = [fold_ex_dt_torso, fold_ex_dt_lung, fold_ex_dt_vessel, fold_ex_dt_binary_vessel]"
   ]
  },
  {
   "cell_type": "code",
   "execution_count": 9,
   "metadata": {},
   "outputs": [],
   "source": [
    "# for new experiments\n",
    "fold_ex_dt_1 = {0:2521, 1:2522, 2:2531, 3:2544, 4:2545, 'name':''}\n",
    "fold_ex_dt_2 = {0:2527, 1:2528, 2:2546, 3:2556, 4:2566, 'name':''}\n",
    "fold_ex_dt_3 = {0:2529, 1:2530, 2:2547, 3:2557, 4:2567, 'name':''}\n",
    "fold_ex_dt_4 = {0:2532, 1:2533, 2:2548, 3:2558, 4:2579, 'name':''}\n",
    "\n",
    "fold_ex_dt_5 = {0:2534, 1:2535, 2:2553, 3:2563, 4:2588, 'name':''}\n",
    "fold_ex_dt_6 = {0:2536, 1:2537, 2:2552, 3:2562, 4:2587, 'name':''}\n",
    "fold_ex_dt_7 = {0:2538, 1:2539, 2:2551, 3:2561, 4:2586, 'name':''}\n",
    "fold_ex_dt_8 = {0:2540, 1:2541, 2:2549, 3:2559, 4:2578, 'name':''}\n",
    "\n",
    "fold_ex_dt_a = {0:2542, 1:2543, 2:2550, 3:2560, 4:2581, 'name':''}\n",
    "fold_ex_dt_b = {0:2568, 1:2569, 2:2580, 3:2590, 4:2599, 'name':''}\n",
    "fold_ex_dt_c = {0:2570, 1:2571, 2:2582, 3:2589, 4:2597, 'name':''}\n",
    "fold_ex_dt_d = {0:2572, 1:2573, 2:2583, 3:2592, 4:2598, 'name':''}\n",
    "\n",
    "fold_ex_dt_e = {0:2574, 1:2575, 2:2585, 3:2593, 4:2602, 'name':''}\n",
    "fold_ex_dt_f = {0:2576, 1:2577, 2:2584, 3:2591, 4:2596, 'name':''}\n",
    "fold_ex_dt_g = {0:2594, 1:2595, 2:2604, 3:2612, 4:2616, 'name':''}\n",
    "fold_ex_dt_h = {0:2600, 1:2601, 2:2603, 3:2609, 4:2613, 'name':''}\n",
    "\n",
    "fold_ex_dt_i = {0:2605, 1:2606, 2:2610, 3:2614, 4:2617, 'name':''}\n",
    "fold_ex_dt_j = {0:2607, 1:2608, 2:2611, 3:2615, 4:2618, 'name':''}\n",
    "\n",
    "fold_ex_dt_k = {0:902, 1:903, 2:915, 3:921, 4:926, 'name':''}\n",
    "fold_ex_dt_l = {0:904, 1:905, 2:914, 3:919, 4:924, 'name':''}\n",
    "fold_ex_dt_m = {0:906, 1:907, 2:918, 3:925, 4:930, 'name':''}\n",
    "fold_ex_dt_n = {0:908, 1:909, 2:916, 3:923, 4:929, 'name':''}\n",
    "fold_ex_dt_o = {0:910, 1:911, 2:920, 3:927, 4:931, 'name':''}\n",
    "fold_ex_dt_p = {0:912, 1:913, 2:917, 3:922, 4:928, 'name':''}\n",
    "\n",
    "fold_ex_dt_ls = [fold_ex_dt_k, fold_ex_dt_l, fold_ex_dt_m, fold_ex_dt_n, fold_ex_dt_o, fold_ex_dt_p]"
   ]
  },
  {
   "cell_type": "code",
   "execution_count": 7,
   "metadata": {},
   "outputs": [],
   "source": [
    "def ensemble_4folds_testing(fold_ex_dt_ls):\n",
    "    parent_dir = '/home/jjia/data/lung_function/lung_function/scripts/results/experiments/'\n",
    "\n",
    "    for fold_ex_dt in fold_ex_dt_ls:\n",
    "        dir0 = parent_dir + str(fold_ex_dt[0])\n",
    "        ave_fpath =dir0  + '/test_pred.csv'\n",
    "        output_file_path = Path(ave_fpath)\n",
    "        output_file_path.parent.mkdir(parents=True, exist_ok=True)\n",
    "        \n",
    "        df_ls = []\n",
    "        for i in [1,2,3,4]:\n",
    "            data_fpath = parent_dir + str(fold_ex_dt[i]) + '/test_pred.csv'\n",
    "            df = pd.read_csv(data_fpath,index_col=0)\n",
    "            df_ls.append(df)\n",
    "        df_ave = (df_ls[0] + df_ls[1] + df_ls[2] + df_ls[3])/4\n",
    "        df_ave.to_csv(ave_fpath)\n",
    "        print(ave_fpath)\n",
    "\n",
    "        \n",
    "        "
   ]
  },
  {
   "cell_type": "code",
   "execution_count": 10,
   "metadata": {},
   "outputs": [
    {
     "name": "stdout",
     "output_type": "stream",
     "text": [
      "/home/jjia/data/lung_function/lung_function/scripts/results/experiments/2605/test_pred.csv\n",
      "/home/jjia/data/lung_function/lung_function/scripts/results/experiments/2607/test_pred.csv\n"
     ]
    }
   ],
   "source": [
    "ensemble_4folds_testing(fold_ex_dt_ls)"
   ]
  },
  {
   "cell_type": "code",
   "execution_count": null,
   "metadata": {},
   "outputs": [],
   "source": []
  }
 ],
 "metadata": {
  "kernelspec": {
   "display_name": "Python 3",
   "language": "python",
   "name": "python3"
  },
  "language_info": {
   "codemirror_mode": {
    "name": "ipython",
    "version": 3
   },
   "file_extension": ".py",
   "mimetype": "text/x-python",
   "name": "python",
   "nbconvert_exporter": "python",
   "pygments_lexer": "ipython3",
   "version": "3.8.13"
  },
  "orig_nbformat": 4
 },
 "nbformat": 4,
 "nbformat_minor": 2
}
