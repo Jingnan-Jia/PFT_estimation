{
 "cells": [
  {
   "cell_type": "code",
   "execution_count": null,
   "metadata": {},
   "outputs": [],
   "source": []
  },
  {
   "attachments": {},
   "cell_type": "markdown",
   "metadata": {},
   "source": [
    "# calculate the reference values for the 4 outputs"
   ]
  },
  {
   "cell_type": "code",
   "execution_count": 63,
   "metadata": {},
   "outputs": [],
   "source": [
    "import numpy as np\n",
    "from glob import glob\n",
    "from skimage.morphology import skeletonize_3d\n",
    "from medutils.medutils import load_itk, save_itk\n",
    "import SimpleITK as sitk\n",
    "import itk\n",
    "from tqdm import tqdm\n",
    "import matplotlib.pyplot as plt\n",
    "from skimage.morphology import disk,diamond,rectangle,square,erosion,dilation,opening,closing,skeletonize\n",
    "import pickle\n",
    "import pandas as pd\n",
    "import json\n",
    "import matplotlib\n",
    "import copy\n",
    "import pingouin as pg\n",
    "\n",
    "from scipy.stats import pearsonr\n"
   ]
  },
  {
   "cell_type": "code",
   "execution_count": 7,
   "metadata": {},
   "outputs": [],
   "source": [
    "file_fpath = 'all_biomarkers_correct3.csv'\n",
    "df=pd.read_csv(file_fpath)"
   ]
  },
  {
   "cell_type": "code",
   "execution_count": 57,
   "metadata": {},
   "outputs": [],
   "source": [
    "net_ts_pred_fpath = \"/home/jjia/data/lung_function/lung_function/scripts/results/experiments/2426/test_pred.csv\"\n",
    "df_net_ts_pred = pd.read_csv(net_ts_pred_fpath)"
   ]
  },
  {
   "cell_type": "code",
   "execution_count": 58,
   "metadata": {},
   "outputs": [],
   "source": [
    "# remove one patient without the % predicted values because of the insuffient technique\n",
    "pat_id_wo_pred = 8334199\n",
    "df_net_ts_pred = df_net_ts_pred[df_net_ts_pred['pat_id']!=pat_id_wo_pred]\n"
   ]
  },
  {
   "cell_type": "code",
   "execution_count": 59,
   "metadata": {},
   "outputs": [],
   "source": [
    "# extract testing dataset form the whole dataset\n",
    "first_ts_pat_id = 7957098\n",
    "test_df = df.loc[df['PatID'] >= first_ts_pat_id]\n"
   ]
  },
  {
   "cell_type": "code",
   "execution_count": 70,
   "metadata": {},
   "outputs": [],
   "source": [
    "# icc\n",
    "def icc(label, pred, columns = []):\n",
    "    label['ID'] = np.arange(1, len(label) + 1)\n",
    "    label['rater'] = 'label'\n",
    "\n",
    "    pred['ID'] = np.arange(1, len(pred) + 1)\n",
    "    pred['rater'] = 'pred'\n",
    "\n",
    "    data = pd.concat([label, pred], axis=0)\n",
    "\n",
    "    for column in columns:\n",
    "        icc = pg.intraclass_corr(data=data, targets='ID', raters='rater', ratings=column).round(2)\n",
    "        icc = icc.set_index(\"Type\")\n",
    "        icc = icc.loc['ICC2']['ICC']\n",
    "        print(f\"icc for {column}: {icc}\")\n",
    "        # prefix = label_fpath.split(\"/\")[-1].split(\"_\")[0]\n",
    "        # icc_dict['icc_' + prefix + '_' + column] = icc"
   ]
  },
  {
   "cell_type": "code",
   "execution_count": 69,
   "metadata": {},
   "outputs": [
    {
     "name": "stdout",
     "output_type": "stream",
     "text": [
      "DLCOc:\t r: 0.614, mean: -0.61, std, 1.70\n",
      "FEV1:\t r: 0.764, mean: 0.01, std, 0.54\n",
      "FVC:\t r: 0.828, mean: -0.46, std, 0.60\n",
      "TLC:\t r: 0.823, mean: -0.72, std, 0.79\n"
     ]
    }
   ],
   "source": [
    "# show the r between net output and pft absolute values\n",
    "for net_out_name, pft_abs_name in zip(['DLCOc_SB', 'FEV1', 'FVC', 'TLC_He'],['DLCOc', 'FEV1', 'FVC', 'TLC']):\n",
    "    corr, p_value = pearsonr(df_net_ts_pred[net_out_name], test_df[pft_abs_name])\n",
    "    mean = (df_net_ts_pred[net_out_name] - test_df[pft_abs_name]).mean()\n",
    "    std = (df_net_ts_pred[net_out_name] - test_df[pft_abs_name]).std()\n",
    "    print(f\"{pft_abs_name}:\\t r: {corr:.3f}, mean: {mean:.2f}, std, {std:.2f}\")\n"
   ]
  },
  {
   "cell_type": "code",
   "execution_count": 61,
   "metadata": {},
   "outputs": [],
   "source": [
    "assert len(df_net_ts_pred) == len(test_df)\n",
    "df_net_ts_pred = df_net_ts_pred.set_axis(range(len(df_net_ts_pred)))\n",
    "test_df = test_df.set_axis(range(len(test_df)))"
   ]
  },
  {
   "cell_type": "code",
   "execution_count": 62,
   "metadata": {},
   "outputs": [
    {
     "name": "stdout",
     "output_type": "stream",
     "text": [
      "DLCOcPP 0.24098050709944877\n",
      "FEV1PP 0.39002495986930613\n",
      "FVCPP 0.5448626733817346\n",
      "TLCPP 0.6603650688872379\n"
     ]
    }
   ],
   "source": [
    "# show the r between net output and pft absolute values\n",
    "for net_out_name, pft_abs_name in zip(['DLCOc_SB', 'FEV1', 'FVC', 'TLC_He'],['DLCOc', 'FEV1', 'FVC', 'TLC']):\n",
    "    corr, p_value = pearsonr(df_net_ts_pred[net_out_name]/test_df[pft_abs_name+\"Ref\"], test_df[pft_abs_name]/test_df[pft_abs_name+\"Ref\"])\n",
    "    print(pft_abs_name + 'PP', corr)"
   ]
  },
  {
   "cell_type": "code",
   "execution_count": null,
   "metadata": {},
   "outputs": [],
   "source": []
  }
 ],
 "metadata": {
  "kernelspec": {
   "display_name": "py38",
   "language": "python",
   "name": "python3"
  },
  "language_info": {
   "codemirror_mode": {
    "name": "ipython",
    "version": 3
   },
   "file_extension": ".py",
   "mimetype": "text/x-python",
   "name": "python",
   "nbconvert_exporter": "python",
   "pygments_lexer": "ipython3",
   "version": "3.8.13"
  },
  "orig_nbformat": 4
 },
 "nbformat": 4,
 "nbformat_minor": 2
}
