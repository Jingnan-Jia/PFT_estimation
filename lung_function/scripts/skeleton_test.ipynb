{
 "cells": [
  {
   "cell_type": "code",
   "execution_count": 107,
   "metadata": {},
   "outputs": [],
   "source": [
    "import numpy as np\n",
    "from glob import glob\n",
    "from skimage.morphology import skeletonize_3d\n",
    "from medutils.medutils import load_itk, save_itk\n",
    "import SimpleITK as sitk\n",
    "import itk\n",
    "from tqdm import tqdm\n",
    "import matplotlib.pyplot as plt\n",
    "from skimage.morphology import disk,diamond,rectangle,square,erosion,dilation,opening,closing,skeletonize\n",
    "import pickle\n"
   ]
  },
  {
   "cell_type": "code",
   "execution_count": 70,
   "metadata": {},
   "outputs": [],
   "source": [
    "a = np.zeros((20, 20, 20))"
   ]
  },
  {
   "cell_type": "code",
   "execution_count": 71,
   "metadata": {},
   "outputs": [
    {
     "data": {
      "text/plain": [
       "(20, 20, 20)"
      ]
     },
     "execution_count": 71,
     "metadata": {},
     "output_type": "execute_result"
    }
   ],
   "source": [
    "a.shape"
   ]
  },
  {
   "cell_type": "code",
   "execution_count": 2,
   "metadata": {},
   "outputs": [],
   "source": [
    "import numpy as np\n",
    "\n",
    "a = np.random.random((3,3))\n",
    "b = [0,0]\n",
    "# a is an numpy.ndarray，b is the coordinate of one element, how to get the corresponding element from a?\n",
    "c = a[b[0], b[1]] # This is okay but not good, because if a is a N-dim array, length of b would be also N, then this line would become very long."
   ]
  },
  {
   "cell_type": "code",
   "execution_count": 3,
   "metadata": {},
   "outputs": [],
   "source": [
    "d = a[tuple(b)]"
   ]
  },
  {
   "cell_type": "code",
   "execution_count": 5,
   "metadata": {},
   "outputs": [
    {
     "data": {
      "text/plain": [
       "0.3883375923698268"
      ]
     },
     "execution_count": 5,
     "metadata": {},
     "output_type": "execute_result"
    }
   ],
   "source": [
    "c"
   ]
  },
  {
   "cell_type": "code",
   "execution_count": null,
   "metadata": {},
   "outputs": [],
   "source": []
  },
  {
   "cell_type": "code",
   "execution_count": 72,
   "metadata": {},
   "outputs": [
    {
     "data": {
      "image/png": "[encoded data removed]",
      "text/plain": [
       "<Figure size 432x432 with 1 Axes>"
      ]
     },
     "metadata": {
      "needs_background": "light"
     },
     "output_type": "display_data"
    }
   ],
   "source": [
    "se = disk(20)  # radius=20\n",
    "plt.figure(figsize=(6,6))\n",
    "plt.imshow(se, cmap='gray')\n",
    "plt.title('disk-shaped structuring element')\n",
    "plt.axis('off')\n",
    "plt.show()"
   ]
  },
  {
   "cell_type": "code",
   "execution_count": 73,
   "metadata": {},
   "outputs": [],
   "source": [
    "b = [se for i in range(1000)]"
   ]
  },
  {
   "cell_type": "code",
   "execution_count": 74,
   "metadata": {},
   "outputs": [],
   "source": [
    "c = np.array(b)"
   ]
  },
  {
   "cell_type": "code",
   "execution_count": 75,
   "metadata": {},
   "outputs": [
    {
     "data": {
      "text/plain": [
       "(1000, 41, 41)"
      ]
     },
     "execution_count": 75,
     "metadata": {},
     "output_type": "execute_result"
    }
   ],
   "source": [
    "c.shape"
   ]
  },
  {
   "cell_type": "code",
   "execution_count": 76,
   "metadata": {},
   "outputs": [
    {
     "data": {
      "image/png": "[encoded data removed]",
      "text/plain": [
       "<Figure size 432x432 with 1 Axes>"
      ]
     },
     "metadata": {
      "needs_background": "light"
     },
     "output_type": "display_data"
    }
   ],
   "source": [
    "plt.figure(figsize=(6,6))\n",
    "plt.imshow(c[5], cmap='gray')\n",
    "plt.title('disk-shaped structuring element')\n",
    "plt.axis('off')\n",
    "plt.show()"
   ]
  },
  {
   "cell_type": "code",
   "execution_count": null,
   "metadata": {},
   "outputs": [],
   "source": []
  },
  {
   "cell_type": "code",
   "execution_count": 77,
   "metadata": {},
   "outputs": [],
   "source": [
    "ori1 = np.array([0.,0.,0.])\n",
    "sp1 = np.array([1.,1.,1.])\n",
    "fpath1 = 'results/cylinder_sp1.mha'\n",
    "save_itk(fpath1, c, ori1, sp1)"
   ]
  },
  {
   "cell_type": "code",
   "execution_count": 78,
   "metadata": {},
   "outputs": [],
   "source": [
    "ori2 = ori1\n",
    "sp2 = np.array([20.,20.,20.])\n",
    "fpath2 = 'results/cylinder_sp2.mha'\n",
    "save_itk(fpath2, c, ori2, sp2)"
   ]
  },
  {
   "cell_type": "code",
   "execution_count": 79,
   "metadata": {},
   "outputs": [
    {
     "name": "stderr",
     "output_type": "stream",
     "text": [
      "Downcasting int16 to uint8 without scaling because max value 1 fits in uint8\n"
     ]
    }
   ],
   "source": [
    "image1_itk = itk.imread(fpath1)\n",
    "skeleton1_itk = itk.MedialThicknessImageFilter3D.New(image1_itk)\n",
    "itk.imwrite(skeleton1_itk, fpath1.replace('.mha', '_skeleton_itk.mha'))\n",
    "\n",
    "\n",
    "image1_sitk = sitk.ReadImage(fpath1)\n",
    "image1_np = sitk.GetArrayFromImage(image1_sitk)\n",
    "skeleton1_ski = skeletonize_3d(image1_np)\n",
    "save_itk(fpath1.replace('.mha', '_skeleton_ski.mha'), skeleton1_ski, ori1, sp1)"
   ]
  },
  {
   "cell_type": "code",
   "execution_count": 80,
   "metadata": {},
   "outputs": [],
   "source": [
    "image2_itk = itk.imread(fpath2)\n",
    "skeleton2_itk = itk.MedialThicknessImageFilter3D.New(image2_itk)\n",
    "itk.imwrite(skeleton2_itk, fpath2.replace('.mha', '_skeleton_itk.mha'))\n",
    "\n",
    "image2_sitk = sitk.ReadImage(fpath2)\n",
    "image2_np = sitk.GetArrayFromImage(image2_sitk)\n",
    "skeleton2_ski = skeletonize_3d(image2_np)\n",
    "save_itk(fpath2.replace('.mha', '_skeleton_ski.mha'), skeleton2_ski, ori2, sp2)"
   ]
  },
  {
   "cell_type": "code",
   "execution_count": 81,
   "metadata": {},
   "outputs": [
    {
     "data": {
      "text/plain": [
       "(1000, 41, 41)"
      ]
     },
     "execution_count": 81,
     "metadata": {},
     "output_type": "execute_result"
    }
   ],
   "source": [
    "skeleton2_ski.shape"
   ]
  },
  {
   "cell_type": "code",
   "execution_count": 82,
   "metadata": {},
   "outputs": [],
   "source": [
    "x,y,z = skeleton2_ski.shape"
   ]
  },
  {
   "cell_type": "code",
   "execution_count": null,
   "metadata": {},
   "outputs": [],
   "source": []
  },
  {
   "cell_type": "code",
   "execution_count": 83,
   "metadata": {},
   "outputs": [],
   "source": [
    "xs, ys, zs = np.mgrid[:x, :y, :z]"
   ]
  },
  {
   "cell_type": "code",
   "execution_count": 84,
   "metadata": {},
   "outputs": [],
   "source": [
    "out = np.column_stack((xs.ravel(),ys.ravel(),zs.ravel(), skeleton2_ski.ravel()))"
   ]
  },
  {
   "cell_type": "code",
   "execution_count": 85,
   "metadata": {},
   "outputs": [
    {
     "data": {
      "text/plain": [
       "array([[  0,   0,   0,   0],\n",
       "       [  0,   0,   1,   0],\n",
       "       [  0,   0,   2,   0],\n",
       "       ...,\n",
       "       [999,  40,  38,   0],\n",
       "       [999,  40,  39,   0],\n",
       "       [999,  40,  40,   0]])"
      ]
     },
     "execution_count": 85,
     "metadata": {},
     "output_type": "execute_result"
    }
   ],
   "source": [
    "out\n"
   ]
  },
  {
   "cell_type": "code",
   "execution_count": 86,
   "metadata": {},
   "outputs": [],
   "source": [
    "out2=np.array([i for i in out if i[-1]>0])"
   ]
  },
  {
   "cell_type": "code",
   "execution_count": 87,
   "metadata": {},
   "outputs": [
    {
     "data": {
      "text/plain": [
       "array([[ 13,  20,  20,   1],\n",
       "       [ 14,  20,  20,   1],\n",
       "       [ 15,  20,  20,   1],\n",
       "       ...,\n",
       "       [984,  20,  20,   1],\n",
       "       [985,  20,  20,   1],\n",
       "       [986,  20,  20,   1]])"
      ]
     },
     "execution_count": 87,
     "metadata": {},
     "output_type": "execute_result"
    }
   ],
   "source": [
    "out2"
   ]
  },
  {
   "cell_type": "code",
   "execution_count": null,
   "metadata": {},
   "outputs": [],
   "source": []
  },
  {
   "cell_type": "markdown",
   "metadata": {},
   "source": [
    "# Convert vessel skeleton to point cloud type: list of cooridanates and radius"
   ]
  },
  {
   "cell_type": "code",
   "execution_count": 88,
   "metadata": {},
   "outputs": [],
   "source": [
    "from glob import glob\n",
    "from tqdm import tqdm"
   ]
  },
  {
   "cell_type": "code",
   "execution_count": 113,
   "metadata": {},
   "outputs": [],
   "source": [
    "vessel_skeleton_ls = glob('/home/jjia/data/dataset/lung_function/ori_resolution/SSc_patient_*_skeleton.mha')\n"
   ]
  },
  {
   "cell_type": "code",
   "execution_count": 90,
   "metadata": {},
   "outputs": [
    {
     "data": {
      "text/plain": [
       "['/home/jjia/data/dataset/lung_function/ori_resolution/SSc_patient_4254486_skeleton.mha',\n",
       " '/home/jjia/data/dataset/lung_function/ori_resolution/SSc_patient_8910414_skeleton.mha',\n",
       " '/home/jjia/data/dataset/lung_function/ori_resolution/SSc_patient_2332035_skeleton.mha',\n",
       " '/home/jjia/data/dataset/lung_function/ori_resolution/SSc_patient_7200070_skeleton.mha',\n",
       " '/home/jjia/data/dataset/lung_function/ori_resolution/SSc_patient_2087864_skeleton.mha',\n",
       " '/home/jjia/data/dataset/lung_function/ori_resolution/SSc_patient_7886110_skeleton.mha',\n",
       " '/home/jjia/data/dataset/lung_function/ori_resolution/SSc_patient_3034278_skeleton.mha',\n",
       " '/home/jjia/data/dataset/lung_function/ori_resolution/SSc_patient_3195140_skeleton.mha',\n",
       " '/home/jjia/data/dataset/lung_function/ori_resolution/SSc_patient_8189796_skeleton.mha',\n",
       " '/home/jjia/data/dataset/lung_function/ori_resolution/SSc_patient_9364092_skeleton.mha',\n",
       " '/home/jjia/data/dataset/lung_function/ori_resolution/SSc_patient_1244023_skeleton.mha',\n",
       " '/home/jjia/data/dataset/lung_function/ori_resolution/SSc_patient_0992750_skeleton.mha',\n",
       " '/home/jjia/data/dataset/lung_function/ori_resolution/SSc_patient_1397732_skeleton.mha',\n",
       " '/home/jjia/data/dataset/lung_function/ori_resolution/SSc_patient_4414878_skeleton.mha',\n",
       " '/home/jjia/data/dataset/lung_function/ori_resolution/SSc_patient_3202420_skeleton.mha',\n",
       " '/home/jjia/data/dataset/lung_function/ori_resolution/SSc_patient_7218578_skeleton.mha',\n",
       " '/home/jjia/data/dataset/lung_function/ori_resolution/SSc_patient_0277377_skeleton.mha',\n",
       " '/home/jjia/data/dataset/lung_function/ori_resolution/SSc_patient_4280811_skeleton.mha',\n",
       " '/home/jjia/data/dataset/lung_function/ori_resolution/SSc_patient_7329394_skeleton.mha',\n",
       " '/home/jjia/data/dataset/lung_function/ori_resolution/SSc_patient_6475311_skeleton.mha',\n",
       " '/home/jjia/data/dataset/lung_function/ori_resolution/SSc_patient_6014042_skeleton.mha',\n",
       " '/home/jjia/data/dataset/lung_function/ori_resolution/SSc_patient_0509944_skeleton.mha',\n",
       " '/home/jjia/data/dataset/lung_function/ori_resolution/SSc_patient_1513875_skeleton.mha',\n",
       " '/home/jjia/data/dataset/lung_function/ori_resolution/SSc_patient_7190208_skeleton.mha',\n",
       " '/home/jjia/data/dataset/lung_function/ori_resolution/SSc_patient_0315573_skeleton.mha',\n",
       " '/home/jjia/data/dataset/lung_function/ori_resolution/SSc_patient_1146160_skeleton.mha',\n",
       " '/home/jjia/data/dataset/lung_function/ori_resolution/SSc_patient_0222357_skeleton.mha',\n",
       " '/home/jjia/data/dataset/lung_function/ori_resolution/SSc_patient_2088579_skeleton.mha',\n",
       " '/home/jjia/data/dataset/lung_function/ori_resolution/SSc_patient_3295904_skeleton.mha',\n",
       " '/home/jjia/data/dataset/lung_function/ori_resolution/SSc_patient_6301947_skeleton.mha',\n",
       " '/home/jjia/data/dataset/lung_function/ori_resolution/SSc_patient_1391017_skeleton.mha',\n",
       " '/home/jjia/data/dataset/lung_function/ori_resolution/SSc_patient_8321228_skeleton.mha',\n",
       " '/home/jjia/data/dataset/lung_function/ori_resolution/SSc_patient_6960927_skeleton.mha',\n",
       " '/home/jjia/data/dataset/lung_function/ori_resolution/SSc_patient_2131790_skeleton.mha',\n",
       " '/home/jjia/data/dataset/lung_function/ori_resolution/SSc_patient_0376540_skeleton.mha',\n",
       " '/home/jjia/data/dataset/lung_function/ori_resolution/SSc_patient_3021822_skeleton.mha',\n",
       " '/home/jjia/data/dataset/lung_function/ori_resolution/SSc_patient_0315457_skeleton.mha',\n",
       " '/home/jjia/data/dataset/lung_function/ori_resolution/SSc_patient_0534778_skeleton.mha',\n",
       " '/home/jjia/data/dataset/lung_function/ori_resolution/SSc_patient_2164051_skeleton.mha',\n",
       " '/home/jjia/data/dataset/lung_function/ori_resolution/SSc_patient_3102570_skeleton.mha',\n",
       " '/home/jjia/data/dataset/lung_function/ori_resolution/SSc_patient_6587088_skeleton.mha',\n",
       " '/home/jjia/data/dataset/lung_function/ori_resolution/SSc_patient_9091134_skeleton.mha',\n",
       " '/home/jjia/data/dataset/lung_function/ori_resolution/SSc_patient_0280727_skeleton.mha',\n",
       " '/home/jjia/data/dataset/lung_function/ori_resolution/SSc_patient_5869896_skeleton.mha',\n",
       " '/home/jjia/data/dataset/lung_function/ori_resolution/SSc_patient_3243752_skeleton.mha',\n",
       " '/home/jjia/data/dataset/lung_function/ori_resolution/SSc_patient_2201630_skeleton.mha',\n",
       " '/home/jjia/data/dataset/lung_function/ori_resolution/SSc_patient_4319832_skeleton.mha',\n",
       " '/home/jjia/data/dataset/lung_function/ori_resolution/SSc_patient_5174713_skeleton.mha',\n",
       " '/home/jjia/data/dataset/lung_function/ori_resolution/SSc_patient_7178384_skeleton.mha',\n",
       " '/home/jjia/data/dataset/lung_function/ori_resolution/SSc_patient_1759534_skeleton.mha',\n",
       " '/home/jjia/data/dataset/lung_function/ori_resolution/SSc_patient_4171220_skeleton.mha',\n",
       " '/home/jjia/data/dataset/lung_function/ori_resolution/SSc_patient_2211458_skeleton.mha',\n",
       " '/home/jjia/data/dataset/lung_function/ori_resolution/SSc_patient_3729608_skeleton.mha',\n",
       " '/home/jjia/data/dataset/lung_function/ori_resolution/SSc_patient_3261564_skeleton.mha',\n",
       " '/home/jjia/data/dataset/lung_function/ori_resolution/SSc_patient_1043946_skeleton.mha',\n",
       " '/home/jjia/data/dataset/lung_function/ori_resolution/SSc_patient_7252792_skeleton.mha',\n",
       " '/home/jjia/data/dataset/lung_function/ori_resolution/SSc_patient_2279798_skeleton.mha',\n",
       " '/home/jjia/data/dataset/lung_function/ori_resolution/SSc_patient_9075370_skeleton.mha',\n",
       " '/home/jjia/data/dataset/lung_function/ori_resolution/SSc_patient_6023278_skeleton.mha',\n",
       " '/home/jjia/data/dataset/lung_function/ori_resolution/SSc_patient_0242508_skeleton.mha',\n",
       " '/home/jjia/data/dataset/lung_function/ori_resolution/SSc_patient_0234084_skeleton.mha',\n",
       " '/home/jjia/data/dataset/lung_function/ori_resolution/SSc_patient_9239682_skeleton.mha',\n",
       " '/home/jjia/data/dataset/lung_function/ori_resolution/SSc_patient_3191882_skeleton.mha',\n",
       " '/home/jjia/data/dataset/lung_function/ori_resolution/SSc_patient_7139164_skeleton.mha',\n",
       " '/home/jjia/data/dataset/lung_function/ori_resolution/SSc_patient_8365740_skeleton.mha',\n",
       " '/home/jjia/data/dataset/lung_function/ori_resolution/SSc_patient_2346390_skeleton.mha',\n",
       " '/home/jjia/data/dataset/lung_function/ori_resolution/SSc_patient_3237589_skeleton.mha',\n",
       " '/home/jjia/data/dataset/lung_function/ori_resolution/SSc_patient_8211617_skeleton.mha',\n",
       " '/home/jjia/data/dataset/lung_function/ori_resolution/SSc_patient_7421048_skeleton.mha',\n",
       " '/home/jjia/data/dataset/lung_function/ori_resolution/SSc_patient_8235036_skeleton.mha',\n",
       " '/home/jjia/data/dataset/lung_function/ori_resolution/SSc_patient_7628640_skeleton.mha',\n",
       " '/home/jjia/data/dataset/lung_function/ori_resolution/SSc_patient_2007930_skeleton.mha',\n",
       " '/home/jjia/data/dataset/lung_function/ori_resolution/SSc_patient_9457556_skeleton.mha',\n",
       " '/home/jjia/data/dataset/lung_function/ori_resolution/SSc_patient_1475468_skeleton.mha',\n",
       " '/home/jjia/data/dataset/lung_function/ori_resolution/SSc_patient_5323286_skeleton.mha',\n",
       " '/home/jjia/data/dataset/lung_function/ori_resolution/SSc_patient_8278747_skeleton.mha',\n",
       " '/home/jjia/data/dataset/lung_function/ori_resolution/SSc_patient_6226529_skeleton.mha',\n",
       " '/home/jjia/data/dataset/lung_function/ori_resolution/SSc_patient_7584898_skeleton.mha',\n",
       " '/home/jjia/data/dataset/lung_function/ori_resolution/SSc_patient_2332755_skeleton.mha',\n",
       " '/home/jjia/data/dataset/lung_function/ori_resolution/SSc_patient_7349316_skeleton.mha',\n",
       " '/home/jjia/data/dataset/lung_function/ori_resolution/SSc_patient_6224742_skeleton.mha',\n",
       " '/home/jjia/data/dataset/lung_function/ori_resolution/SSc_patient_5299407_skeleton.mha',\n",
       " '/home/jjia/data/dataset/lung_function/ori_resolution/SSc_patient_3154090_skeleton.mha',\n",
       " '/home/jjia/data/dataset/lung_function/ori_resolution/SSc_patient_7190978_skeleton.mha',\n",
       " '/home/jjia/data/dataset/lung_function/ori_resolution/SSc_patient_3345741_skeleton.mha',\n",
       " '/home/jjia/data/dataset/lung_function/ori_resolution/SSc_patient_9298526_skeleton.mha',\n",
       " '/home/jjia/data/dataset/lung_function/ori_resolution/SSc_patient_9662556_skeleton.mha',\n",
       " '/home/jjia/data/dataset/lung_function/ori_resolution/SSc_patient_0485784_skeleton.mha',\n",
       " '/home/jjia/data/dataset/lung_function/ori_resolution/SSc_patient_9272348_skeleton.mha',\n",
       " '/home/jjia/data/dataset/lung_function/ori_resolution/SSc_patient_6327090_skeleton.mha',\n",
       " '/home/jjia/data/dataset/lung_function/ori_resolution/SSc_patient_2711742_skeleton.mha',\n",
       " '/home/jjia/data/dataset/lung_function/ori_resolution/SSc_patient_6793758_skeleton.mha',\n",
       " '/home/jjia/data/dataset/lung_function/ori_resolution/SSc_patient_7740702_skeleton.mha',\n",
       " '/home/jjia/data/dataset/lung_function/ori_resolution/SSc_patient_1329821_skeleton.mha',\n",
       " '/home/jjia/data/dataset/lung_function/ori_resolution/SSc_patient_6424242_skeleton.mha',\n",
       " '/home/jjia/data/dataset/lung_function/ori_resolution/SSc_patient_9861781_skeleton.mha',\n",
       " '/home/jjia/data/dataset/lung_function/ori_resolution/SSc_patient_7324318_skeleton.mha',\n",
       " '/home/jjia/data/dataset/lung_function/ori_resolution/SSc_patient_1945530_skeleton.mha',\n",
       " '/home/jjia/data/dataset/lung_function/ori_resolution/SSc_patient_8238603_skeleton.mha',\n",
       " '/home/jjia/data/dataset/lung_function/ori_resolution/SSc_patient_2178492_skeleton.mha',\n",
       " '/home/jjia/data/dataset/lung_function/ori_resolution/SSc_patient_8784276_skeleton.mha',\n",
       " '/home/jjia/data/dataset/lung_function/ori_resolution/SSc_patient_3026442_skeleton.mha',\n",
       " '/home/jjia/data/dataset/lung_function/ori_resolution/SSc_patient_5241130_skeleton.mha',\n",
       " '/home/jjia/data/dataset/lung_function/ori_resolution/SSc_patient_6096786_skeleton.mha',\n",
       " '/home/jjia/data/dataset/lung_function/ori_resolution/SSc_patient_9163194_skeleton.mha',\n",
       " '/home/jjia/data/dataset/lung_function/ori_resolution/SSc_patient_0553478_skeleton.mha',\n",
       " '/home/jjia/data/dataset/lung_function/ori_resolution/SSc_patient_2341332_skeleton.mha',\n",
       " '/home/jjia/data/dataset/lung_function/ori_resolution/SSc_patient_5289050_skeleton.mha',\n",
       " '/home/jjia/data/dataset/lung_function/ori_resolution/SSc_patient_2273070_skeleton.mha',\n",
       " '/home/jjia/data/dataset/lung_function/ori_resolution/SSc_patient_5171630_skeleton.mha',\n",
       " '/home/jjia/data/dataset/lung_function/ori_resolution/SSc_patient_0770246_skeleton.mha',\n",
       " '/home/jjia/data/dataset/lung_function/ori_resolution/SSc_patient_9095122_skeleton.mha',\n",
       " '/home/jjia/data/dataset/lung_function/ori_resolution/SSc_patient_4160061_skeleton.mha',\n",
       " '/home/jjia/data/dataset/lung_function/ori_resolution/SSc_patient_6533637_skeleton.mha',\n",
       " '/home/jjia/data/dataset/lung_function/ori_resolution/SSc_patient_0219312_skeleton.mha',\n",
       " '/home/jjia/data/dataset/lung_function/ori_resolution/SSc_patient_7234834_skeleton.mha',\n",
       " '/home/jjia/data/dataset/lung_function/ori_resolution/SSc_patient_8221364_skeleton.mha',\n",
       " '/home/jjia/data/dataset/lung_function/ori_resolution/SSc_patient_1539510_skeleton.mha',\n",
       " '/home/jjia/data/dataset/lung_function/ori_resolution/SSc_patient_7189918_skeleton.mha',\n",
       " '/home/jjia/data/dataset/lung_function/ori_resolution/SSc_patient_1329481_skeleton.mha',\n",
       " '/home/jjia/data/dataset/lung_function/ori_resolution/SSc_patient_9278164_skeleton.mha',\n",
       " '/home/jjia/data/dataset/lung_function/ori_resolution/SSc_patient_5261000_skeleton.mha',\n",
       " '/home/jjia/data/dataset/lung_function/ori_resolution/SSc_patient_5434722_skeleton.mha',\n",
       " '/home/jjia/data/dataset/lung_function/ori_resolution/SSc_patient_2081982_skeleton.mha',\n",
       " '/home/jjia/data/dataset/lung_function/ori_resolution/SSc_patient_9300979_skeleton.mha',\n",
       " '/home/jjia/data/dataset/lung_function/ori_resolution/SSc_patient_5262908_skeleton.mha',\n",
       " '/home/jjia/data/dataset/lung_function/ori_resolution/SSc_patient_0584534_skeleton.mha',\n",
       " '/home/jjia/data/dataset/lung_function/ori_resolution/SSc_patient_5301625_skeleton.mha',\n",
       " '/home/jjia/data/dataset/lung_function/ori_resolution/SSc_patient_8334199_skeleton.mha',\n",
       " '/home/jjia/data/dataset/lung_function/ori_resolution/SSc_patient_1067426_skeleton.mha',\n",
       " '/home/jjia/data/dataset/lung_function/ori_resolution/SSc_patient_6417808_skeleton.mha',\n",
       " '/home/jjia/data/dataset/lung_function/ori_resolution/SSc_patient_5157102_skeleton.mha',\n",
       " '/home/jjia/data/dataset/lung_function/ori_resolution/SSc_patient_2196024_skeleton.mha',\n",
       " '/home/jjia/data/dataset/lung_function/ori_resolution/SSc_patient_5325396_skeleton.mha',\n",
       " '/home/jjia/data/dataset/lung_function/ori_resolution/SSc_patient_1278925_skeleton.mha',\n",
       " '/home/jjia/data/dataset/lung_function/ori_resolution/SSc_patient_9096866_skeleton.mha',\n",
       " '/home/jjia/data/dataset/lung_function/ori_resolution/SSc_patient_7316368_skeleton.mha',\n",
       " '/home/jjia/data/dataset/lung_function/ori_resolution/SSc_patient_0143788_skeleton.mha',\n",
       " '/home/jjia/data/dataset/lung_function/ori_resolution/SSc_patient_7114639_skeleton.mha',\n",
       " '/home/jjia/data/dataset/lung_function/ori_resolution/SSc_patient_8077626_skeleton.mha',\n",
       " '/home/jjia/data/dataset/lung_function/ori_resolution/SSc_patient_1199412_skeleton.mha',\n",
       " '/home/jjia/data/dataset/lung_function/ori_resolution/SSc_patient_7211564_skeleton.mha',\n",
       " '/home/jjia/data/dataset/lung_function/ori_resolution/SSc_patient_3567342_skeleton.mha',\n",
       " '/home/jjia/data/dataset/lung_function/ori_resolution/SSc_patient_1239567_skeleton.mha',\n",
       " '/home/jjia/data/dataset/lung_function/ori_resolution/SSc_patient_6389435_skeleton.mha',\n",
       " '/home/jjia/data/dataset/lung_function/ori_resolution/SSc_patient_5986430_skeleton.mha',\n",
       " '/home/jjia/data/dataset/lung_function/ori_resolution/SSc_patient_1236033_skeleton.mha',\n",
       " '/home/jjia/data/dataset/lung_function/ori_resolution/SSc_patient_1105441_skeleton.mha',\n",
       " '/home/jjia/data/dataset/lung_function/ori_resolution/SSc_patient_5453856_skeleton.mha',\n",
       " '/home/jjia/data/dataset/lung_function/ori_resolution/SSc_patient_5341694_skeleton.mha',\n",
       " '/home/jjia/data/dataset/lung_function/ori_resolution/SSc_patient_5242717_skeleton.mha',\n",
       " '/home/jjia/data/dataset/lung_function/ori_resolution/SSc_patient_9234835_skeleton.mha',\n",
       " '/home/jjia/data/dataset/lung_function/ori_resolution/SSc_patient_7120342_skeleton.mha',\n",
       " '/home/jjia/data/dataset/lung_function/ori_resolution/SSc_patient_4243706_skeleton.mha',\n",
       " '/home/jjia/data/dataset/lung_function/ori_resolution/SSc_patient_9241693_skeleton.mha',\n",
       " '/home/jjia/data/dataset/lung_function/ori_resolution/SSc_patient_7794304_skeleton.mha',\n",
       " '/home/jjia/data/dataset/lung_function/ori_resolution/SSc_patient_3239347_skeleton.mha',\n",
       " '/home/jjia/data/dataset/lung_function/ori_resolution/SSc_patient_1849599_skeleton.mha',\n",
       " '/home/jjia/data/dataset/lung_function/ori_resolution/SSc_patient_1293386_skeleton.mha',\n",
       " '/home/jjia/data/dataset/lung_function/ori_resolution/SSc_patient_9071115_skeleton.mha',\n",
       " '/home/jjia/data/dataset/lung_function/ori_resolution/SSc_patient_8229975_skeleton.mha',\n",
       " '/home/jjia/data/dataset/lung_function/ori_resolution/SSc_patient_5202686_skeleton.mha',\n",
       " '/home/jjia/data/dataset/lung_function/ori_resolution/SSc_patient_6085323_skeleton.mha',\n",
       " '/home/jjia/data/dataset/lung_function/ori_resolution/SSc_patient_4084886_skeleton.mha',\n",
       " '/home/jjia/data/dataset/lung_function/ori_resolution/SSc_patient_6216723_skeleton.mha',\n",
       " '/home/jjia/data/dataset/lung_function/ori_resolution/SSc_patient_7324902_skeleton.mha',\n",
       " '/home/jjia/data/dataset/lung_function/ori_resolution/SSc_patient_2947950_skeleton.mha',\n",
       " '/home/jjia/data/dataset/lung_function/ori_resolution/SSc_patient_8303176_skeleton.mha',\n",
       " '/home/jjia/data/dataset/lung_function/ori_resolution/SSc_patient_1333231_skeleton.mha',\n",
       " '/home/jjia/data/dataset/lung_function/ori_resolution/SSc_patient_0456204_skeleton.mha',\n",
       " '/home/jjia/data/dataset/lung_function/ori_resolution/SSc_patient_5150048_skeleton.mha',\n",
       " '/home/jjia/data/dataset/lung_function/ori_resolution/SSc_patient_5574126_skeleton.mha',\n",
       " '/home/jjia/data/dataset/lung_function/ori_resolution/SSc_patient_3228438_skeleton.mha',\n",
       " '/home/jjia/data/dataset/lung_function/ori_resolution/SSc_patient_2352142_skeleton.mha',\n",
       " '/home/jjia/data/dataset/lung_function/ori_resolution/SSc_patient_7247972_skeleton.mha',\n",
       " '/home/jjia/data/dataset/lung_function/ori_resolution/SSc_patient_6182262_skeleton.mha',\n",
       " '/home/jjia/data/dataset/lung_function/ori_resolution/SSc_patient_7977032_skeleton.mha',\n",
       " '/home/jjia/data/dataset/lung_function/ori_resolution/SSc_patient_6638152_skeleton.mha',\n",
       " '/home/jjia/data/dataset/lung_function/ori_resolution/SSc_patient_1232120_skeleton.mha',\n",
       " '/home/jjia/data/dataset/lung_function/ori_resolution/SSc_patient_8258466_skeleton.mha',\n",
       " '/home/jjia/data/dataset/lung_function/ori_resolution/SSc_patient_7241891_skeleton.mha',\n",
       " '/home/jjia/data/dataset/lung_function/ori_resolution/SSc_patient_9160660_skeleton.mha',\n",
       " '/home/jjia/data/dataset/lung_function/ori_resolution/SSc_patient_1947009_skeleton.mha',\n",
       " '/home/jjia/data/dataset/lung_function/ori_resolution/SSc_patient_0385738_skeleton.mha',\n",
       " '/home/jjia/data/dataset/lung_function/ori_resolution/SSc_patient_3901150_skeleton.mha',\n",
       " '/home/jjia/data/dataset/lung_function/ori_resolution/SSc_patient_6145432_skeleton.mha',\n",
       " '/home/jjia/data/dataset/lung_function/ori_resolution/SSc_patient_2396084_skeleton.mha',\n",
       " '/home/jjia/data/dataset/lung_function/ori_resolution/SSc_patient_6315736_skeleton.mha',\n",
       " '/home/jjia/data/dataset/lung_function/ori_resolution/SSc_patient_2178130_skeleton.mha',\n",
       " '/home/jjia/data/dataset/lung_function/ori_resolution/SSc_patient_6122288_skeleton.mha',\n",
       " '/home/jjia/data/dataset/lung_function/ori_resolution/SSc_patient_8186766_skeleton.mha',\n",
       " '/home/jjia/data/dataset/lung_function/ori_resolution/SSc_patient_2289311_skeleton.mha',\n",
       " '/home/jjia/data/dataset/lung_function/ori_resolution/SSc_patient_9348452_skeleton.mha',\n",
       " '/home/jjia/data/dataset/lung_function/ori_resolution/SSc_patient_1218579_skeleton.mha',\n",
       " '/home/jjia/data/dataset/lung_function/ori_resolution/SSc_patient_0611832_skeleton.mha',\n",
       " '/home/jjia/data/dataset/lung_function/ori_resolution/SSc_patient_4205284_skeleton.mha',\n",
       " '/home/jjia/data/dataset/lung_function/ori_resolution/SSc_patient_0163750_skeleton.mha',\n",
       " '/home/jjia/data/dataset/lung_function/ori_resolution/SSc_patient_1987028_skeleton.mha',\n",
       " '/home/jjia/data/dataset/lung_function/ori_resolution/SSc_patient_9251372_skeleton.mha',\n",
       " '/home/jjia/data/dataset/lung_function/ori_resolution/SSc_patient_2323272_skeleton.mha',\n",
       " '/home/jjia/data/dataset/lung_function/ori_resolution/SSc_patient_0787506_skeleton.mha',\n",
       " '/home/jjia/data/dataset/lung_function/ori_resolution/SSc_patient_8347535_skeleton.mha',\n",
       " '/home/jjia/data/dataset/lung_function/ori_resolution/SSc_patient_2742894_skeleton.mha',\n",
       " '/home/jjia/data/dataset/lung_function/ori_resolution/SSc_patient_1239678_skeleton.mha',\n",
       " '/home/jjia/data/dataset/lung_function/ori_resolution/SSc_patient_8160998_skeleton.mha',\n",
       " '/home/jjia/data/dataset/lung_function/ori_resolution/SSc_patient_5102202_skeleton.mha',\n",
       " '/home/jjia/data/dataset/lung_function/ori_resolution/SSc_patient_0265042_skeleton.mha',\n",
       " '/home/jjia/data/dataset/lung_function/ori_resolution/SSc_patient_2712128_skeleton.mha',\n",
       " '/home/jjia/data/dataset/lung_function/ori_resolution/SSc_patient_1280678_skeleton.mha',\n",
       " '/home/jjia/data/dataset/lung_function/ori_resolution/SSc_patient_8920576_skeleton.mha',\n",
       " '/home/jjia/data/dataset/lung_function/ori_resolution/SSc_patient_9322299_skeleton.mha',\n",
       " '/home/jjia/data/dataset/lung_function/ori_resolution/SSc_patient_7502118_skeleton.mha',\n",
       " '/home/jjia/data/dataset/lung_function/ori_resolution/SSc_patient_7147200_skeleton.mha',\n",
       " '/home/jjia/data/dataset/lung_function/ori_resolution/SSc_patient_9359921_skeleton.mha',\n",
       " '/home/jjia/data/dataset/lung_function/ori_resolution/SSc_patient_2333560_skeleton.mha',\n",
       " '/home/jjia/data/dataset/lung_function/ori_resolution/SSc_patient_1499510_skeleton.mha',\n",
       " '/home/jjia/data/dataset/lung_function/ori_resolution/SSc_patient_5058580_skeleton.mha',\n",
       " '/home/jjia/data/dataset/lung_function/ori_resolution/SSc_patient_9934096_skeleton.mha',\n",
       " '/home/jjia/data/dataset/lung_function/ori_resolution/SSc_patient_5337916_skeleton.mha',\n",
       " '/home/jjia/data/dataset/lung_function/ori_resolution/SSc_patient_7238630_skeleton.mha',\n",
       " '/home/jjia/data/dataset/lung_function/ori_resolution/SSc_patient_8369484_skeleton.mha',\n",
       " '/home/jjia/data/dataset/lung_function/ori_resolution/SSc_patient_2155673_skeleton.mha',\n",
       " '/home/jjia/data/dataset/lung_function/ori_resolution/SSc_patient_1160750_skeleton.mha',\n",
       " '/home/jjia/data/dataset/lung_function/ori_resolution/SSc_patient_7852072_skeleton.mha',\n",
       " '/home/jjia/data/dataset/lung_function/ori_resolution/SSc_patient_6258975_skeleton.mha',\n",
       " '/home/jjia/data/dataset/lung_function/ori_resolution/SSc_patient_9181748_skeleton.mha',\n",
       " '/home/jjia/data/dataset/lung_function/ori_resolution/SSc_patient_3310402_skeleton.mha',\n",
       " '/home/jjia/data/dataset/lung_function/ori_resolution/SSc_patient_2104859_skeleton.mha',\n",
       " '/home/jjia/data/dataset/lung_function/ori_resolution/SSc_patient_5095311_skeleton.mha',\n",
       " '/home/jjia/data/dataset/lung_function/ori_resolution/SSc_patient_8906834_skeleton.mha',\n",
       " '/home/jjia/data/dataset/lung_function/ori_resolution/SSc_patient_7234049_skeleton.mha',\n",
       " '/home/jjia/data/dataset/lung_function/ori_resolution/SSc_patient_5321814_skeleton.mha',\n",
       " '/home/jjia/data/dataset/lung_function/ori_resolution/SSc_patient_6166756_skeleton.mha',\n",
       " '/home/jjia/data/dataset/lung_function/ori_resolution/SSc_patient_7331122_skeleton.mha',\n",
       " '/home/jjia/data/dataset/lung_function/ori_resolution/SSc_patient_4983258_skeleton.mha',\n",
       " '/home/jjia/data/dataset/lung_function/ori_resolution/SSc_patient_0127512_skeleton.mha',\n",
       " '/home/jjia/data/dataset/lung_function/ori_resolution/SSc_patient_0422335_skeleton.mha',\n",
       " '/home/jjia/data/dataset/lung_function/ori_resolution/SSc_patient_5313911_skeleton.mha',\n",
       " '/home/jjia/data/dataset/lung_function/ori_resolution/SSc_patient_8453542_skeleton.mha',\n",
       " '/home/jjia/data/dataset/lung_function/ori_resolution/SSc_patient_7135410_skeleton.mha',\n",
       " '/home/jjia/data/dataset/lung_function/ori_resolution/SSc_patient_7694688_skeleton.mha',\n",
       " '/home/jjia/data/dataset/lung_function/ori_resolution/SSc_patient_6503304_skeleton.mha',\n",
       " '/home/jjia/data/dataset/lung_function/ori_resolution/SSc_patient_2550514_skeleton.mha',\n",
       " '/home/jjia/data/dataset/lung_function/ori_resolution/SSc_patient_8256587_skeleton.mha',\n",
       " '/home/jjia/data/dataset/lung_function/ori_resolution/SSc_patient_4945176_skeleton.mha',\n",
       " '/home/jjia/data/dataset/lung_function/ori_resolution/SSc_patient_6484444_skeleton.mha',\n",
       " '/home/jjia/data/dataset/lung_function/ori_resolution/SSc_patient_9367440_skeleton.mha',\n",
       " '/home/jjia/data/dataset/lung_function/ori_resolution/SSc_patient_4125990_skeleton.mha',\n",
       " '/home/jjia/data/dataset/lung_function/ori_resolution/SSc_patient_9939136_skeleton.mha',\n",
       " '/home/jjia/data/dataset/lung_function/ori_resolution/SSc_patient_9523013_skeleton.mha',\n",
       " '/home/jjia/data/dataset/lung_function/ori_resolution/SSc_patient_2252561_skeleton.mha',\n",
       " '/home/jjia/data/dataset/lung_function/ori_resolution/SSc_patient_1066422_skeleton.mha',\n",
       " '/home/jjia/data/dataset/lung_function/ori_resolution/SSc_patient_2151769_skeleton.mha',\n",
       " '/home/jjia/data/dataset/lung_function/ori_resolution/SSc_patient_7957098_skeleton.mha',\n",
       " '/home/jjia/data/dataset/lung_function/ori_resolution/SSc_patient_1326574_skeleton.mha',\n",
       " '/home/jjia/data/dataset/lung_function/ori_resolution/SSc_patient_4433856_skeleton.mha',\n",
       " '/home/jjia/data/dataset/lung_function/ori_resolution/SSc_patient_1949476_skeleton.mha',\n",
       " '/home/jjia/data/dataset/lung_function/ori_resolution/SSc_patient_6339687_skeleton.mha',\n",
       " '/home/jjia/data/dataset/lung_function/ori_resolution/SSc_patient_0458234_skeleton.mha',\n",
       " '/home/jjia/data/dataset/lung_function/ori_resolution/SSc_patient_6452458_skeleton.mha',\n",
       " '/home/jjia/data/dataset/lung_function/ori_resolution/SSc_patient_5235284_skeleton.mha',\n",
       " '/home/jjia/data/dataset/lung_function/ori_resolution/SSc_patient_6238704_skeleton.mha',\n",
       " '/home/jjia/data/dataset/lung_function/ori_resolution/SSc_patient_0703966_skeleton.mha',\n",
       " '/home/jjia/data/dataset/lung_function/ori_resolution/SSc_patient_5576984_skeleton.mha',\n",
       " '/home/jjia/data/dataset/lung_function/ori_resolution/SSc_patient_8277297_skeleton.mha',\n",
       " '/home/jjia/data/dataset/lung_function/ori_resolution/SSc_patient_5138064_skeleton.mha',\n",
       " '/home/jjia/data/dataset/lung_function/ori_resolution/SSc_patient_9270279_skeleton.mha',\n",
       " '/home/jjia/data/dataset/lung_function/ori_resolution/SSc_patient_5352138_skeleton.mha',\n",
       " '/home/jjia/data/dataset/lung_function/ori_resolution/SSc_patient_2524918_skeleton.mha',\n",
       " '/home/jjia/data/dataset/lung_function/ori_resolution/SSc_patient_3298040_skeleton.mha',\n",
       " '/home/jjia/data/dataset/lung_function/ori_resolution/SSc_patient_9075756_skeleton.mha',\n",
       " '/home/jjia/data/dataset/lung_function/ori_resolution/SSc_patient_8909491_skeleton.mha',\n",
       " '/home/jjia/data/dataset/lung_function/ori_resolution/SSc_patient_6056082_skeleton.mha',\n",
       " '/home/jjia/data/dataset/lung_function/ori_resolution/SSc_patient_0213786_skeleton.mha',\n",
       " '/home/jjia/data/dataset/lung_function/ori_resolution/SSc_patient_5652668_skeleton.mha',\n",
       " '/home/jjia/data/dataset/lung_function/ori_resolution/SSc_patient_3221222_skeleton.mha',\n",
       " '/home/jjia/data/dataset/lung_function/ori_resolution/SSc_patient_6047721_skeleton.mha',\n",
       " '/home/jjia/data/dataset/lung_function/ori_resolution/SSc_patient_0573200_skeleton.mha',\n",
       " '/home/jjia/data/dataset/lung_function/ori_resolution/SSc_patient_7549628_skeleton.mha',\n",
       " '/home/jjia/data/dataset/lung_function/ori_resolution/SSc_patient_5036012_skeleton.mha',\n",
       " '/home/jjia/data/dataset/lung_function/ori_resolution/SSc_patient_4628660_skeleton.mha',\n",
       " '/home/jjia/data/dataset/lung_function/ori_resolution/SSc_patient_7470316_skeleton.mha',\n",
       " '/home/jjia/data/dataset/lung_function/ori_resolution/SSc_patient_2090024_skeleton.mha',\n",
       " '/home/jjia/data/dataset/lung_function/ori_resolution/SSc_patient_7219422_skeleton.mha',\n",
       " '/home/jjia/data/dataset/lung_function/ori_resolution/SSc_patient_8223034_skeleton.mha',\n",
       " '/home/jjia/data/dataset/lung_function/ori_resolution/SSc_patient_0298877_skeleton.mha',\n",
       " '/home/jjia/data/dataset/lung_function/ori_resolution/SSc_patient_7417242_skeleton.mha',\n",
       " '/home/jjia/data/dataset/lung_function/ori_resolution/SSc_patient_0530988_skeleton.mha',\n",
       " '/home/jjia/data/dataset/lung_function/ori_resolution/SSc_patient_6366968_skeleton.mha',\n",
       " '/home/jjia/data/dataset/lung_function/ori_resolution/SSc_patient_0320142_skeleton.mha',\n",
       " '/home/jjia/data/dataset/lung_function/ori_resolution/SSc_patient_6180838_skeleton.mha',\n",
       " '/home/jjia/data/dataset/lung_function/ori_resolution/SSc_patient_9035012_skeleton.mha',\n",
       " '/home/jjia/data/dataset/lung_function/ori_resolution/SSc_patient_8595550_skeleton.mha',\n",
       " '/home/jjia/data/dataset/lung_function/ori_resolution/SSc_patient_4107789_skeleton.mha',\n",
       " '/home/jjia/data/dataset/lung_function/ori_resolution/SSc_patient_5271048_skeleton.mha',\n",
       " '/home/jjia/data/dataset/lung_function/ori_resolution/SSc_patient_8960279_skeleton.mha',\n",
       " '/home/jjia/data/dataset/lung_function/ori_resolution/SSc_patient_0068800_skeleton.mha',\n",
       " '/home/jjia/data/dataset/lung_function/ori_resolution/SSc_patient_2342421_skeleton.mha',\n",
       " '/home/jjia/data/dataset/lung_function/ori_resolution/SSc_patient_5305785_skeleton.mha',\n",
       " '/home/jjia/data/dataset/lung_function/ori_resolution/SSc_patient_5240010_skeleton.mha',\n",
       " '/home/jjia/data/dataset/lung_function/ori_resolution/SSc_patient_1301116_skeleton.mha',\n",
       " '/home/jjia/data/dataset/lung_function/ori_resolution/SSc_patient_6318939_skeleton.mha',\n",
       " '/home/jjia/data/dataset/lung_function/ori_resolution/SSc_patient_9345657_skeleton.mha',\n",
       " '/home/jjia/data/dataset/lung_function/ori_resolution/SSc_patient_9224744_skeleton.mha',\n",
       " '/home/jjia/data/dataset/lung_function/ori_resolution/SSc_patient_1321066_skeleton.mha',\n",
       " '/home/jjia/data/dataset/lung_function/ori_resolution/SSc_patient_1564714_skeleton.mha',\n",
       " '/home/jjia/data/dataset/lung_function/ori_resolution/SSc_patient_6096508_skeleton.mha',\n",
       " '/home/jjia/data/dataset/lung_function/ori_resolution/SSc_patient_9445880_skeleton.mha',\n",
       " '/home/jjia/data/dataset/lung_function/ori_resolution/SSc_patient_0139552_skeleton.mha',\n",
       " '/home/jjia/data/dataset/lung_function/ori_resolution/SSc_patient_9132826_skeleton.mha',\n",
       " '/home/jjia/data/dataset/lung_function/ori_resolution/SSc_patient_3588476_skeleton.mha',\n",
       " '/home/jjia/data/dataset/lung_function/ori_resolution/SSc_patient_1348417_skeleton.mha',\n",
       " '/home/jjia/data/dataset/lung_function/ori_resolution/SSc_patient_1337692_skeleton.mha',\n",
       " '/home/jjia/data/dataset/lung_function/ori_resolution/SSc_patient_2340524_skeleton.mha',\n",
       " '/home/jjia/data/dataset/lung_function/ori_resolution/SSc_patient_5813928_skeleton.mha',\n",
       " '/home/jjia/data/dataset/lung_function/ori_resolution/SSc_patient_6329587_skeleton.mha',\n",
       " '/home/jjia/data/dataset/lung_function/ori_resolution/SSc_patient_8353193_skeleton.mha',\n",
       " '/home/jjia/data/dataset/lung_function/ori_resolution/SSc_patient_6351267_skeleton.mha',\n",
       " '/home/jjia/data/dataset/lung_function/ori_resolution/SSc_patient_7325831_skeleton.mha',\n",
       " '/home/jjia/data/dataset/lung_function/ori_resolution/SSc_patient_7582492_skeleton.mha',\n",
       " '/home/jjia/data/dataset/lung_function/ori_resolution/SSc_patient_5112278_skeleton.mha',\n",
       " '/home/jjia/data/dataset/lung_function/ori_resolution/SSc_patient_0911478_skeleton.mha',\n",
       " '/home/jjia/data/dataset/lung_function/ori_resolution/SSc_patient_1100289_skeleton.mha',\n",
       " '/home/jjia/data/dataset/lung_function/ori_resolution/SSc_patient_0152440_skeleton.mha',\n",
       " '/home/jjia/data/dataset/lung_function/ori_resolution/SSc_patient_2228633_skeleton.mha',\n",
       " '/home/jjia/data/dataset/lung_function/ori_resolution/SSc_patient_6001651_skeleton.mha',\n",
       " '/home/jjia/data/dataset/lung_function/ori_resolution/SSc_patient_8492153_skeleton.mha',\n",
       " '/home/jjia/data/dataset/lung_function/ori_resolution/SSc_patient_4119066_skeleton.mha',\n",
       " '/home/jjia/data/dataset/lung_function/ori_resolution/SSc_patient_2253442_skeleton.mha',\n",
       " '/home/jjia/data/dataset/lung_function/ori_resolution/SSc_patient_0639432_skeleton.mha',\n",
       " '/home/jjia/data/dataset/lung_function/ori_resolution/SSc_patient_4036570_skeleton.mha',\n",
       " '/home/jjia/data/dataset/lung_function/ori_resolution/SSc_patient_0343115_skeleton.mha']"
      ]
     },
     "execution_count": 90,
     "metadata": {},
     "output_type": "execute_result"
    }
   ],
   "source": [
    "vessel_skeleton_ls"
   ]
  },
  {
   "cell_type": "code",
   "execution_count": 114,
   "metadata": {},
   "outputs": [
    {
     "data": {
      "text/plain": [
       "333"
      ]
     },
     "execution_count": 114,
     "metadata": {},
     "output_type": "execute_result"
    }
   ],
   "source": [
    "len(vessel_skeleton_ls)"
   ]
  },
  {
   "cell_type": "markdown",
   "metadata": {},
   "source": [
    "## Try one at first"
   ]
  },
  {
   "cell_type": "code",
   "execution_count": 92,
   "metadata": {},
   "outputs": [],
   "source": [
    "skeleton = load_itk(vessel_skeleton_ls[0])"
   ]
  },
  {
   "cell_type": "code",
   "execution_count": 93,
   "metadata": {},
   "outputs": [
    {
     "data": {
      "text/plain": [
       "(1026, 512, 512)"
      ]
     },
     "execution_count": 93,
     "metadata": {},
     "output_type": "execute_result"
    }
   ],
   "source": [
    "skeleton.shape"
   ]
  },
  {
   "cell_type": "code",
   "execution_count": 94,
   "metadata": {},
   "outputs": [
    {
     "ename": "KeyboardInterrupt",
     "evalue": "",
     "output_type": "error",
     "traceback": [
      "\u001b[0;31m---------------------------------------------------------------------------\u001b[0m",
      "\u001b[0;31mKeyboardInterrupt\u001b[0m                         Traceback (most recent call last)",
      "\u001b[1;32m/home/jjia/data/lung_function/lung_function/scripts/skeleton_test.ipynb Cell 31\u001b[0m in \u001b[0;36m<cell line: 2>\u001b[0;34m()\u001b[0m\n\u001b[1;32m      <a href='vscode-notebook-cell://ssh-remote%2Balice2/home/jjia/data/lung_function/lung_function/scripts/skeleton_test.ipynb#X41sdnNjb2RlLXJlbW90ZQ%3D%3D?line=0'>1</a>\u001b[0m x,y,z \u001b[39m=\u001b[39m skeleton\u001b[39m.\u001b[39mshape\n\u001b[0;32m----> <a href='vscode-notebook-cell://ssh-remote%2Balice2/home/jjia/data/lung_function/lung_function/scripts/skeleton_test.ipynb#X41sdnNjb2RlLXJlbW90ZQ%3D%3D?line=1'>2</a>\u001b[0m xs, ys, zs \u001b[39m=\u001b[39m np\u001b[39m.\u001b[39mmgrid[:x, :y, :z]\n\u001b[1;32m      <a href='vscode-notebook-cell://ssh-remote%2Balice2/home/jjia/data/lung_function/lung_function/scripts/skeleton_test.ipynb#X41sdnNjb2RlLXJlbW90ZQ%3D%3D?line=2'>3</a>\u001b[0m out \u001b[39m=\u001b[39m np\u001b[39m.\u001b[39mcolumn_stack((xs\u001b[39m.\u001b[39mravel(),ys\u001b[39m.\u001b[39mravel(),zs\u001b[39m.\u001b[39mravel(), skeleton\u001b[39m.\u001b[39mravel()))\n\u001b[1;32m      <a href='vscode-notebook-cell://ssh-remote%2Balice2/home/jjia/data/lung_function/lung_function/scripts/skeleton_test.ipynb#X41sdnNjb2RlLXJlbW90ZQ%3D%3D?line=3'>4</a>\u001b[0m out2\u001b[39m=\u001b[39mout[out[:, \u001b[39m-\u001b[39m\u001b[39m1\u001b[39m]\u001b[39m>\u001b[39m\u001b[39m0\u001b[39m]\n",
      "File \u001b[0;32m~/.local/lib/python3.8/site-packages/numpy/lib/index_tricks.py:173\u001b[0m, in \u001b[0;36mnd_grid.__getitem__\u001b[0;34m(self, key)\u001b[0m\n\u001b[1;32m    170\u001b[0m     nn \u001b[39m=\u001b[39m [_nx\u001b[39m.\u001b[39marange(_x, dtype\u001b[39m=\u001b[39m_t)\n\u001b[1;32m    171\u001b[0m           \u001b[39mfor\u001b[39;00m _x, _t \u001b[39min\u001b[39;00m \u001b[39mzip\u001b[39m(size, (typ,)\u001b[39m*\u001b[39m\u001b[39mlen\u001b[39m(size))]\n\u001b[1;32m    172\u001b[0m \u001b[39melse\u001b[39;00m:\n\u001b[0;32m--> 173\u001b[0m     nn \u001b[39m=\u001b[39m _nx\u001b[39m.\u001b[39;49mindices(size, typ)\n\u001b[1;32m    174\u001b[0m \u001b[39mfor\u001b[39;00m k \u001b[39min\u001b[39;00m \u001b[39mrange\u001b[39m(\u001b[39mlen\u001b[39m(size)):\n\u001b[1;32m    175\u001b[0m     step \u001b[39m=\u001b[39m key[k]\u001b[39m.\u001b[39mstep\n",
      "File \u001b[0;32m~/.local/lib/python3.8/site-packages/numpy/core/numeric.py:1778\u001b[0m, in \u001b[0;36mindices\u001b[0;34m(dimensions, dtype, sparse)\u001b[0m\n\u001b[1;32m   1776\u001b[0m         res \u001b[39m=\u001b[39m res \u001b[39m+\u001b[39m (idx,)\n\u001b[1;32m   1777\u001b[0m     \u001b[39melse\u001b[39;00m:\n\u001b[0;32m-> 1778\u001b[0m         res[i] \u001b[39m=\u001b[39m idx\n\u001b[1;32m   1779\u001b[0m \u001b[39mreturn\u001b[39;00m res\n",
      "\u001b[0;31mKeyboardInterrupt\u001b[0m: "
     ]
    }
   ],
   "source": [
    "x,y,z = skeleton.shape\n",
    "xs, ys, zs = np.mgrid[:x, :y, :z]\n",
    "out = np.column_stack((xs.ravel(),ys.ravel(),zs.ravel(), skeleton.ravel()))\n",
    "out2=out[out[:, -1]>0]"
   ]
  },
  {
   "cell_type": "code",
   "execution_count": null,
   "metadata": {},
   "outputs": [
    {
     "data": {
      "text/plain": [
       "(268959744, 4)"
      ]
     },
     "execution_count": 65,
     "metadata": {},
     "output_type": "execute_result"
    }
   ],
   "source": [
    "out.shape"
   ]
  },
  {
   "cell_type": "code",
   "execution_count": null,
   "metadata": {},
   "outputs": [
    {
     "data": {
      "text/plain": [
       "(63984, 4)"
      ]
     },
     "execution_count": 67,
     "metadata": {},
     "output_type": "execute_result"
    }
   ],
   "source": [
    "out2.shape"
   ]
  },
  {
   "cell_type": "code",
   "execution_count": null,
   "metadata": {},
   "outputs": [
    {
     "data": {
      "text/plain": [
       "(63984, 4)"
      ]
     },
     "execution_count": 34,
     "metadata": {},
     "output_type": "execute_result"
    }
   ],
   "source": [
    "out2.shape"
   ]
  },
  {
   "cell_type": "code",
   "execution_count": null,
   "metadata": {},
   "outputs": [
    {
     "data": {
      "text/plain": [
       "0.00023789433707967837"
      ]
     },
     "execution_count": 35,
     "metadata": {},
     "output_type": "execute_result"
    }
   ],
   "source": [
    "out2.shape[0]/out.shape[0]"
   ]
  },
  {
   "cell_type": "markdown",
   "metadata": {},
   "source": [
    "## Run all images"
   ]
  },
  {
   "cell_type": "code",
   "execution_count": 117,
   "metadata": {},
   "outputs": [
    {
     "name": "stderr",
     "output_type": "stream",
     "text": [
      "100%|██████████| 333/333 [00:15<00:00, 21.69it/s]\n"
     ]
    }
   ],
   "source": [
    "for skeleton_fpath in tqdm(vessel_skeleton_ls):\n",
    "    if not os.path.exists(skeleton_fpath.replace('.mha', '_coordinates.pt')):\n",
    "        skeleton, ori, sp = load_itk(skeleton_fpath, require_ori_sp=True)\n",
    "        x,y,z = skeleton.shape\n",
    "        xs, ys, zs = np.mgrid[:x, :y, :z]\n",
    "        out = np.column_stack((xs.ravel(),ys.ravel(),zs.ravel(), skeleton.ravel()))\n",
    "        out2= out[out[:, -1]>0]\n",
    "        out_dt = {'data': out2, 'origin':ori, 'spacing':sp}\n",
    "        pickle.dump(out_dt, open(skeleton_fpath.replace('.mha', '_coordinates.pt'), \"wb\"))\n",
    "\n",
    "        # np.save(skeleton_fpath.replace('.mha', '_coordinates.npy'), out2)"
   ]
  },
  {
   "cell_type": "code",
   "execution_count": 118,
   "metadata": {},
   "outputs": [
    {
     "name": "stderr",
     "output_type": "stream",
     "text": [
      "100%|██████████| 333/333 [00:04<00:00, 69.77it/s]\n"
     ]
    }
   ],
   "source": [
    "len_ls = []\n",
    "for skeleton_fpath in tqdm(vessel_skeleton_ls):\n",
    "    pth = skeleton_fpath.replace('.mha', '_coordinates.npy')\n",
    "    npy = np.load(pth)\n",
    "    a = len(npy)\n",
    "    # print(a)\n",
    "    len_ls.append(a)\n",
    "\n"
   ]
  },
  {
   "cell_type": "code",
   "execution_count": 119,
   "metadata": {},
   "outputs": [
    {
     "data": {
      "image/png": "[encoded data removed]",
      "text/plain": [
       "<Figure size 432x288 with 1 Axes>"
      ]
     },
     "metadata": {
      "needs_background": "light"
     },
     "output_type": "display_data"
    }
   ],
   "source": [
    "plt.figure()\n",
    "plt.scatter(x=range(len(len_ls)), y=len_ls)\n",
    "plt.show()"
   ]
  },
  {
   "cell_type": "code",
   "execution_count": 102,
   "metadata": {},
   "outputs": [
    {
     "data": {
      "text/plain": [
       "[974385,\n",
       " 829135,\n",
       " 587528,\n",
       " 519476,\n",
       " 450324,\n",
       " 354677,\n",
       " 273243,\n",
       " 231410,\n",
       " 217551,\n",
       " 192917,\n",
       " 162560,\n",
       " 158006,\n",
       " 150815,\n",
       " 142853,\n",
       " 141590,\n",
       " 140242,\n",
       " 139527,\n",
       " 137727,\n",
       " 137294,\n",
       " 134395]"
      ]
     },
     "execution_count": 102,
     "metadata": {},
     "output_type": "execute_result"
    }
   ],
   "source": [
    "sorted(len_ls)[::-1][:20]"
   ]
  },
  {
   "cell_type": "code",
   "execution_count": 123,
   "metadata": {},
   "outputs": [
    {
     "data": {
      "image/png": "[encoded data removed]",
      "text/plain": [
       "<Figure size 432x288 with 1 Axes>"
      ]
     },
     "metadata": {
      "needs_background": "light"
     },
     "output_type": "display_data"
    }
   ],
   "source": [
    "len_ls_remove10highest = [i for i in len_ls if i < 170000]\n",
    "plt.figure()\n",
    "plt.scatter(x=range(len(len_ls_remove10highest)), y=len_ls_remove10highest)\n",
    "plt.show()"
   ]
  },
  {
   "cell_type": "markdown",
   "metadata": {},
   "source": [
    "## Resample image to align input for PointNet\n",
    "I decided to select 120,000 as the number of points for all input images.\n",
    "So I need to upsample the majority of images to over 120,000 points then do some sampling (keep the original voxels!).\n",
    "\n",
    "**A challenge is that there is still some space to improve for the vessel segmentation results (remove fissures, remove noises, etc). If the vessel segmentation results were updated in the future, should I re-calculate the skeleton (20 mins per CT), save the results, re-upsampling (3 mins per CT) the skeleton results, save their results, and re-train the network?**"
   ]
  }
 ],
 "metadata": {
  "kernelspec": {
   "display_name": "Python 3.8.13 64-bit",
   "language": "python",
   "name": "python3"
  },
  "language_info": {
   "codemirror_mode": {
    "name": "ipython",
    "version": 3
   },
   "file_extension": ".py",
   "mimetype": "text/x-python",
   "name": "python",
   "nbconvert_exporter": "python",
   "pygments_lexer": "ipython3",
   "version": "3.8.13"
  },
  "orig_nbformat": 4,
  "vscode": {
   "interpreter": {
    "hash": "f7237c9972df760705e03bb27a8e106ab1bc3793b010c014a347ab079be8db1a"
   }
  }
 },
 "nbformat": 4,
 "nbformat_minor": 2
}
