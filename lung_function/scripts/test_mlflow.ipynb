{
 "cells": [
  {
   "cell_type": "code",
   "execution_count": 3,
   "metadata": {},
   "outputs": [],
   "source": [
    "\n",
    "import sys\n",
    "import random\n",
    "import statistics\n",
    "import threading\n",
    "import time\n",
    "\n",
    "import mlflow\n",
    "import numpy as np\n",
    "import torch\n",
    "import torch.nn as nn\n",
    "from medutils import medutils\n",
    "from medutils.medutils import count_parameters\n",
    "from mlflow import log_metric, log_metrics, log_param, log_params\n",
    "from mlflow.tracking import MlflowClient\n",
    "from monai.utils import set_determinism\n",
    "from lung_function.modules.tool import (record_1st, record_cgpu_info, retrive_run)\n"
   ]
  },
  {
   "cell_type": "code",
   "execution_count": 4,
   "metadata": {},
   "outputs": [
    {
     "name": "stdout",
     "output_type": "stream",
     "text": [
      "2022-12-10 14:47:52,757 - Lock 46912713699680 acquired on results/record.log.lock\n",
      "2022-12-10 14:47:52,823 - Lock 46912713699680 released on results/record.log.lock\n"
     ]
    }
   ],
   "source": [
    "\n",
    "mlflow.set_tracking_uri(\"http://nodelogin02:5000\")\n",
    "experiment = mlflow.set_experiment(\"lung_fun_db2\")\n",
    "record_fpath = \"results/record.log\"\n",
    "id = record_1st(record_fpath)  # write super parameters from set_args.py to record file.\n"
   ]
  },
  {
   "cell_type": "code",
   "execution_count": 6,
   "metadata": {},
   "outputs": [
    {
     "data": {
      "text/plain": [
       "[]"
      ]
     },
     "execution_count": 6,
     "metadata": {},
     "output_type": "execute_result"
    }
   ],
   "source": [
    "client = MlflowClient()\n",
    "run_ls = client.search_runs(experiment_ids=[experiment.experiment_id], run_view_type=2,\n",
    "                            filter_string=f\"params.id LIKE '%{1269}%'\")\n",
    "run_ls"
   ]
  },
  {
   "cell_type": "code",
   "execution_count": 7,
   "metadata": {},
   "outputs": [],
   "source": [
    "run_ls = client.search_runs(experiment_ids=[experiment.experiment_id], run_view_type=2)"
   ]
  },
  {
   "cell_type": "code",
   "execution_count": 9,
   "metadata": {},
   "outputs": [
    {
     "data": {
      "text/plain": [
       "57"
      ]
     },
     "execution_count": 9,
     "metadata": {},
     "output_type": "execute_result"
    }
   ],
   "source": [
    "len(run_ls)"
   ]
  },
  {
   "cell_type": "code",
   "execution_count": 14,
   "metadata": {},
   "outputs": [
    {
     "ename": "AttributeError",
     "evalue": "'Run' object has no attribute 'metrics'",
     "output_type": "error",
     "traceback": [
      "\u001b[0;31m---------------------------------------------------------------------------\u001b[0m",
      "\u001b[0;31mAttributeError\u001b[0m                            Traceback (most recent call last)",
      "Cell \u001b[0;32mIn[14], line 1\u001b[0m\n\u001b[0;32m----> 1\u001b[0m run_ls[\u001b[39m0\u001b[39;49m]\u001b[39m.\u001b[39;49mmetrics\n",
      "\u001b[0;31mAttributeError\u001b[0m: 'Run' object has no attribute 'metrics'"
     ]
    }
   ],
   "source": [
    "run_ls[0].metrics"
   ]
  },
  {
   "cell_type": "code",
   "execution_count": null,
   "metadata": {},
   "outputs": [],
   "source": []
  }
 ],
 "metadata": {
  "kernelspec": {
   "display_name": "Python 3.8.13 64-bit",
   "language": "python",
   "name": "python3"
  },
  "language_info": {
   "codemirror_mode": {
    "name": "ipython",
    "version": 3
   },
   "file_extension": ".py",
   "mimetype": "text/x-python",
   "name": "python",
   "nbconvert_exporter": "python",
   "pygments_lexer": "ipython3",
   "version": "3.8.13"
  },
  "orig_nbformat": 4,
  "vscode": {
   "interpreter": {
    "hash": "f7237c9972df760705e03bb27a8e106ab1bc3793b010c014a347ab079be8db1a"
   }
  }
 },
 "nbformat": 4,
 "nbformat_minor": 2
}
