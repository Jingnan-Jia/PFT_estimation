{
 "cells": [
  {
   "cell_type": "code",
   "execution_count": 1,
   "metadata": {},
   "outputs": [
    {
     "ename": "OSError",
     "evalue": "/lib64/libc.so.6: version `GLIBC_2.18' not found (required by /home/jjia/.conda/envs/py38/lib/python3.8/site-packages/open3d/libc++abi.so.1)",
     "output_type": "error",
     "traceback": [
      "\u001b[0;31m---------------------------------------------------------------------------\u001b[0m",
      "\u001b[0;31mOSError\u001b[0m                                   Traceback (most recent call last)",
      "Cell \u001b[0;32mIn [1], line 1\u001b[0m\n\u001b[0;32m----> 1\u001b[0m \u001b[39mimport\u001b[39;00m \u001b[39mopen3d\u001b[39;00m \u001b[39mas\u001b[39;00m \u001b[39mo3d\u001b[39;00m\n",
      "File \u001b[0;32m~/.conda/envs/py38/lib/python3.8/site-packages/open3d/__init__.py:54\u001b[0m\n\u001b[1;32m     51\u001b[0m \u001b[39mif\u001b[39;00m _build_config[\u001b[39m\"\u001b[39m\u001b[39mBUILD_GUI\u001b[39m\u001b[39m\"\u001b[39m] \u001b[39mand\u001b[39;00m \u001b[39mnot\u001b[39;00m (_find_library(\u001b[39m'\u001b[39m\u001b[39mc++abi\u001b[39m\u001b[39m'\u001b[39m) \u001b[39mor\u001b[39;00m\n\u001b[1;32m     52\u001b[0m                                        _find_library(\u001b[39m'\u001b[39m\u001b[39mc++\u001b[39m\u001b[39m'\u001b[39m)):\n\u001b[1;32m     53\u001b[0m     \u001b[39mtry\u001b[39;00m:  \u001b[39m# Preload libc++.so and libc++abi.so (required by filament)\u001b[39;00m\n\u001b[0;32m---> 54\u001b[0m         _CDLL(\u001b[39mnext\u001b[39;49m((_Path(\u001b[39m__file__\u001b[39;49m)\u001b[39m.\u001b[39;49mparent)\u001b[39m.\u001b[39;49mglob(\u001b[39m'\u001b[39;49m\u001b[39m*c++abi.*\u001b[39;49m\u001b[39m'\u001b[39;49m)))\n\u001b[1;32m     55\u001b[0m         _CDLL(\u001b[39mnext\u001b[39m((_Path(\u001b[39m__file__\u001b[39m)\u001b[39m.\u001b[39mparent)\u001b[39m.\u001b[39mglob(\u001b[39m'\u001b[39m\u001b[39m*c++.*\u001b[39m\u001b[39m'\u001b[39m)))\n\u001b[1;32m     56\u001b[0m     \u001b[39mexcept\u001b[39;00m \u001b[39mStopIteration\u001b[39;00m:  \u001b[39m# Not found: check system paths while loading\u001b[39;00m\n",
      "File \u001b[0;32m~/.conda/envs/py38/lib/python3.8/ctypes/__init__.py:373\u001b[0m, in \u001b[0;36mCDLL.__init__\u001b[0;34m(self, name, mode, handle, use_errno, use_last_error, winmode)\u001b[0m\n\u001b[1;32m    370\u001b[0m \u001b[39mself\u001b[39m\u001b[39m.\u001b[39m_FuncPtr \u001b[39m=\u001b[39m _FuncPtr\n\u001b[1;32m    372\u001b[0m \u001b[39mif\u001b[39;00m handle \u001b[39mis\u001b[39;00m \u001b[39mNone\u001b[39;00m:\n\u001b[0;32m--> 373\u001b[0m     \u001b[39mself\u001b[39m\u001b[39m.\u001b[39m_handle \u001b[39m=\u001b[39m _dlopen(\u001b[39mself\u001b[39;49m\u001b[39m.\u001b[39;49m_name, mode)\n\u001b[1;32m    374\u001b[0m \u001b[39melse\u001b[39;00m:\n\u001b[1;32m    375\u001b[0m     \u001b[39mself\u001b[39m\u001b[39m.\u001b[39m_handle \u001b[39m=\u001b[39m handle\n",
      "\u001b[0;31mOSError\u001b[0m: /lib64/libc.so.6: version `GLIBC_2.18' not found (required by /home/jjia/.conda/envs/py38/lib/python3.8/site-packages/open3d/libc++abi.so.1)"
     ]
    }
   ],
   "source": [
    "import open3d as o3d\n"
   ]
  },
  {
   "cell_type": "code",
   "execution_count": null,
   "metadata": {},
   "outputs": [],
   "source": []
  }
 ],
 "metadata": {
  "kernelspec": {
   "display_name": "Python 3.8.13 64-bit",
   "language": "python",
   "name": "python3"
  },
  "language_info": {
   "codemirror_mode": {
    "name": "ipython",
    "version": 3
   },
   "file_extension": ".py",
   "mimetype": "text/x-python",
   "name": "python",
   "nbconvert_exporter": "python",
   "pygments_lexer": "ipython3",
   "version": "3.8.13"
  },
  "orig_nbformat": 4,
  "vscode": {
   "interpreter": {
    "hash": "f7237c9972df760705e03bb27a8e106ab1bc3793b010c014a347ab079be8db1a"
   }
  }
 },
 "nbformat": 4,
 "nbformat_minor": 2
}
